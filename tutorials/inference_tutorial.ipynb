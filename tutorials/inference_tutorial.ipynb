{
 "cells": [
  {
   "cell_type": "markdown",
   "metadata": {},
   "source": [
    "# Inference"
   ]
  },
  {
   "cell_type": "markdown",
   "metadata": {},
   "source": [
    "This script showcases the different models available in fishbAIT and how to use them efficiently."
   ]
  },
  {
   "cell_type": "code",
   "execution_count": 1,
   "metadata": {},
   "outputs": [],
   "source": [
    "import torch\n",
    "import pandas as pd\n",
    "import numpy as np\n",
    "from inference_utils.fishbAIT_for_inference import fishbAIT_for_inference"
   ]
  },
  {
   "cell_type": "markdown",
   "metadata": {},
   "source": [
    "Specify the model version and load the model"
   ]
  },
  {
   "cell_type": "code",
   "execution_count": 2,
   "metadata": {},
   "outputs": [],
   "source": [
    "MODEL_VERSION = 'EC10_invertebrates'"
   ]
  },
  {
   "cell_type": "code",
   "execution_count": 3,
   "metadata": {},
   "outputs": [],
   "source": [
    "fishbait = fishbAIT_for_inference(model_version=MODEL_VERSION)\n",
    "fishbait.load_fine_tuned_model()"
   ]
  },
  {
   "cell_type": "markdown",
   "metadata": {},
   "source": [
    "Load the SMILES you wish to predict"
   ]
  },
  {
   "cell_type": "code",
   "execution_count": 4,
   "metadata": {},
   "outputs": [
    {
     "data": {
      "text/html": [
       "<div>\n",
       "<style scoped>\n",
       "    .dataframe tbody tr th:only-of-type {\n",
       "        vertical-align: middle;\n",
       "    }\n",
       "\n",
       "    .dataframe tbody tr th {\n",
       "        vertical-align: top;\n",
       "    }\n",
       "\n",
       "    .dataframe thead th {\n",
       "        text-align: right;\n",
       "    }\n",
       "</style>\n",
       "<table border=\"1\" class=\"dataframe\">\n",
       "  <thead>\n",
       "    <tr style=\"text-align: right;\">\n",
       "      <th></th>\n",
       "      <th>SMILES</th>\n",
       "      <th>cmpdname</th>\n",
       "    </tr>\n",
       "  </thead>\n",
       "  <tbody>\n",
       "    <tr>\n",
       "      <th>0</th>\n",
       "      <td>CC(=O)Oc1ccccc1C(O)=O</td>\n",
       "      <td>Aspirin</td>\n",
       "    </tr>\n",
       "    <tr>\n",
       "      <th>1</th>\n",
       "      <td>[Cr]</td>\n",
       "      <td>Chromium</td>\n",
       "    </tr>\n",
       "    <tr>\n",
       "      <th>2</th>\n",
       "      <td>[H+].[Cl-].CNCCC(Oc1ccc(cc1)C(F)(F)F)c2ccccc2</td>\n",
       "      <td>Fluoxetine hydrochloride</td>\n",
       "    </tr>\n",
       "    <tr>\n",
       "      <th>3</th>\n",
       "      <td>Clc1ccc(cc1)C(c2ccc(Cl)cc2)C(Cl)(Cl)Cl</td>\n",
       "      <td>Clofenotane</td>\n",
       "    </tr>\n",
       "    <tr>\n",
       "      <th>4</th>\n",
       "      <td>[Cu]</td>\n",
       "      <td>Copper</td>\n",
       "    </tr>\n",
       "    <tr>\n",
       "      <th>...</th>\n",
       "      <td>...</td>\n",
       "      <td>...</td>\n",
       "    </tr>\n",
       "    <tr>\n",
       "      <th>995</th>\n",
       "      <td>[Pb++].[O-]c1c(cc(c([O-])c1[N+]([O-])=O)[N+]([...</td>\n",
       "      <td>Lead styphnate</td>\n",
       "    </tr>\n",
       "    <tr>\n",
       "      <th>996</th>\n",
       "      <td>CC(C)(C)C(O)(CCc1ccc(Cl)cc1)Cn2cncn2</td>\n",
       "      <td>Tebuconazole</td>\n",
       "    </tr>\n",
       "    <tr>\n",
       "      <th>997</th>\n",
       "      <td>[Na+].[Na+].[Na+].[Na+].OCCN(CCO)c1nc(Nc2ccc(c...</td>\n",
       "      <td>OpticalBrightenerBbu220</td>\n",
       "    </tr>\n",
       "    <tr>\n",
       "      <th>998</th>\n",
       "      <td>CNC.OC(=O)COc1ccc(Cl)cc1Cl</td>\n",
       "      <td>2,4-D dimethylamine salt</td>\n",
       "    </tr>\n",
       "    <tr>\n",
       "      <th>999</th>\n",
       "      <td>Nc1c(Cl)c(Cl)nc(C(O)=O)c1Cl</td>\n",
       "      <td>Picloram</td>\n",
       "    </tr>\n",
       "  </tbody>\n",
       "</table>\n",
       "<p>1000 rows × 2 columns</p>\n",
       "</div>"
      ],
      "text/plain": [
       "                                                SMILES  \\\n",
       "0                                CC(=O)Oc1ccccc1C(O)=O   \n",
       "1                                                 [Cr]   \n",
       "2        [H+].[Cl-].CNCCC(Oc1ccc(cc1)C(F)(F)F)c2ccccc2   \n",
       "3               Clc1ccc(cc1)C(c2ccc(Cl)cc2)C(Cl)(Cl)Cl   \n",
       "4                                                 [Cu]   \n",
       "..                                                 ...   \n",
       "995  [Pb++].[O-]c1c(cc(c([O-])c1[N+]([O-])=O)[N+]([...   \n",
       "996               CC(C)(C)C(O)(CCc1ccc(Cl)cc1)Cn2cncn2   \n",
       "997  [Na+].[Na+].[Na+].[Na+].OCCN(CCO)c1nc(Nc2ccc(c...   \n",
       "998                         CNC.OC(=O)COc1ccc(Cl)cc1Cl   \n",
       "999                        Nc1c(Cl)c(Cl)nc(C(O)=O)c1Cl   \n",
       "\n",
       "                     cmpdname  \n",
       "0                     Aspirin  \n",
       "1                    Chromium  \n",
       "2    Fluoxetine hydrochloride  \n",
       "3                 Clofenotane  \n",
       "4                      Copper  \n",
       "..                        ...  \n",
       "995            Lead styphnate  \n",
       "996              Tebuconazole  \n",
       "997   OpticalBrightenerBbu220  \n",
       "998  2,4-D dimethylamine salt  \n",
       "999                  Picloram  \n",
       "\n",
       "[1000 rows x 2 columns]"
      ]
     },
     "execution_count": 4,
     "metadata": {},
     "output_type": "execute_result"
    }
   ],
   "source": [
    "data = pd.read_excel('../data/tutorials/Inference_example_2.xlsx')\n",
    "data"
   ]
  },
  {
   "cell_type": "markdown",
   "metadata": {},
   "source": [
    "Specify the endpoint and effect you wish to predict and make the prediction"
   ]
  },
  {
   "cell_type": "code",
   "execution_count": 5,
   "metadata": {},
   "outputs": [],
   "source": [
    "PREDICTION_ENDPOINT = 'EC10'\n",
    "PREDICTION_EFFECT = 'MOR'\n",
    "EXPOSURE_DURATION = 96\n",
    "SMILES_COLUMN_NAME = 'SMILES'"
   ]
  },
  {
   "cell_type": "code",
   "execution_count": 6,
   "metadata": {},
   "outputs": [
    {
     "name": "stdout",
     "output_type": "stream",
     "text": [
      "Renamed NOEC *EC10* in 0 positions\n",
      "Did not return onehotencoding for Endpoint. Why? You specified only one Endpoint or you specified NOEC and EC10 which are coded to be the same endpoint.\n"
     ]
    },
    {
     "name": "stderr",
     "output_type": "stream",
     "text": [
      "  0%|          | 0/2 [00:00<?, ?it/s]You're using a RobertaTokenizerFast tokenizer. Please note that with a fast tokenizer, using the `__call__` method is faster than using a method to encode the text followed by a call to the `pad` method to get a padded encoding.\n",
      "100%|██████████| 2/2 [00:00<00:00,  9.03it/s]\n"
     ]
    },
    {
     "data": {
      "text/html": [
       "<div>\n",
       "<style scoped>\n",
       "    .dataframe tbody tr th:only-of-type {\n",
       "        vertical-align: middle;\n",
       "    }\n",
       "\n",
       "    .dataframe tbody tr th {\n",
       "        vertical-align: top;\n",
       "    }\n",
       "\n",
       "    .dataframe thead th {\n",
       "        text-align: right;\n",
       "    }\n",
       "</style>\n",
       "<table border=\"1\" class=\"dataframe\">\n",
       "  <thead>\n",
       "    <tr style=\"text-align: right;\">\n",
       "      <th></th>\n",
       "      <th>SMILES</th>\n",
       "      <th>exposure_duration</th>\n",
       "      <th>endpoint</th>\n",
       "      <th>effect</th>\n",
       "      <th>SMILES_Canonical_RDKit</th>\n",
       "      <th>predictions log10(mg/L)</th>\n",
       "      <th>predictions (mg/L)</th>\n",
       "    </tr>\n",
       "  </thead>\n",
       "  <tbody>\n",
       "    <tr>\n",
       "      <th>0</th>\n",
       "      <td>CC(=O)Oc1ccccc1C(O)=O</td>\n",
       "      <td>96</td>\n",
       "      <td>EC10</td>\n",
       "      <td>MOR</td>\n",
       "      <td>CC(=O)Oc1ccccc1C(=O)O</td>\n",
       "      <td>-16.496807</td>\n",
       "      <td>3.185612e-17</td>\n",
       "    </tr>\n",
       "    <tr>\n",
       "      <th>1</th>\n",
       "      <td>[Cr]</td>\n",
       "      <td>96</td>\n",
       "      <td>EC10</td>\n",
       "      <td>MOR</td>\n",
       "      <td>[Cr]</td>\n",
       "      <td>-16.133186</td>\n",
       "      <td>7.358913e-17</td>\n",
       "    </tr>\n",
       "    <tr>\n",
       "      <th>2</th>\n",
       "      <td>[H+].[Cl-].CNCCC(Oc1ccc(cc1)C(F)(F)F)c2ccccc2</td>\n",
       "      <td>96</td>\n",
       "      <td>EC10</td>\n",
       "      <td>MOR</td>\n",
       "      <td>CNCCC(Oc1ccc(C(F)(F)F)cc1)c1ccccc1.[Cl-].[H+]</td>\n",
       "      <td>-17.033726</td>\n",
       "      <td>9.252823e-18</td>\n",
       "    </tr>\n",
       "    <tr>\n",
       "      <th>3</th>\n",
       "      <td>Clc1ccc(cc1)C(c2ccc(Cl)cc2)C(Cl)(Cl)Cl</td>\n",
       "      <td>96</td>\n",
       "      <td>EC10</td>\n",
       "      <td>MOR</td>\n",
       "      <td>Clc1ccc(C(c2ccc(Cl)cc2)C(Cl)(Cl)Cl)cc1</td>\n",
       "      <td>-18.201427</td>\n",
       "      <td>6.288869e-19</td>\n",
       "    </tr>\n",
       "    <tr>\n",
       "      <th>4</th>\n",
       "      <td>[Cu]</td>\n",
       "      <td>96</td>\n",
       "      <td>EC10</td>\n",
       "      <td>MOR</td>\n",
       "      <td>[Cu]</td>\n",
       "      <td>-15.602854</td>\n",
       "      <td>2.495435e-16</td>\n",
       "    </tr>\n",
       "    <tr>\n",
       "      <th>5</th>\n",
       "      <td>CCNc1nc(Cl)nc(NC(C)C)n1</td>\n",
       "      <td>96</td>\n",
       "      <td>EC10</td>\n",
       "      <td>MOR</td>\n",
       "      <td>CCNc1nc(Cl)nc(NC(C)C)n1</td>\n",
       "      <td>-16.651567</td>\n",
       "      <td>2.230656e-17</td>\n",
       "    </tr>\n",
       "    <tr>\n",
       "      <th>6</th>\n",
       "      <td>CN(C)C1=NC(=O)N(C2CCCCC2)C(=O)N1C</td>\n",
       "      <td>96</td>\n",
       "      <td>EC10</td>\n",
       "      <td>MOR</td>\n",
       "      <td>CN(C)c1nc(=O)n(C2CCCCC2)c(=O)n1C</td>\n",
       "      <td>-15.855769</td>\n",
       "      <td>1.393898e-16</td>\n",
       "    </tr>\n",
       "    <tr>\n",
       "      <th>7</th>\n",
       "      <td>CC(Br)(CO)[N+]([O-])=O</td>\n",
       "      <td>96</td>\n",
       "      <td>EC10</td>\n",
       "      <td>MOR</td>\n",
       "      <td>CC(Br)(CO)[N+](=O)[O-]</td>\n",
       "      <td>-14.331802</td>\n",
       "      <td>4.657980e-15</td>\n",
       "    </tr>\n",
       "    <tr>\n",
       "      <th>8</th>\n",
       "      <td>c1ccc2c(c1)c3cccc4cccc2c34</td>\n",
       "      <td>96</td>\n",
       "      <td>EC10</td>\n",
       "      <td>MOR</td>\n",
       "      <td>c1ccc2c(c1)-c1cccc3cccc-2c13</td>\n",
       "      <td>-15.887511</td>\n",
       "      <td>1.295653e-16</td>\n",
       "    </tr>\n",
       "    <tr>\n",
       "      <th>9</th>\n",
       "      <td>[Cl-].[Cl-].[Zn++]</td>\n",
       "      <td>96</td>\n",
       "      <td>EC10</td>\n",
       "      <td>MOR</td>\n",
       "      <td>[Cl-].[Cl-].[Zn+2]</td>\n",
       "      <td>-15.117763</td>\n",
       "      <td>7.624958e-16</td>\n",
       "    </tr>\n",
       "  </tbody>\n",
       "</table>\n",
       "</div>"
      ],
      "text/plain": [
       "                                          SMILES  exposure_duration endpoint  \\\n",
       "0                          CC(=O)Oc1ccccc1C(O)=O                 96     EC10   \n",
       "1                                           [Cr]                 96     EC10   \n",
       "2  [H+].[Cl-].CNCCC(Oc1ccc(cc1)C(F)(F)F)c2ccccc2                 96     EC10   \n",
       "3         Clc1ccc(cc1)C(c2ccc(Cl)cc2)C(Cl)(Cl)Cl                 96     EC10   \n",
       "4                                           [Cu]                 96     EC10   \n",
       "5                        CCNc1nc(Cl)nc(NC(C)C)n1                 96     EC10   \n",
       "6              CN(C)C1=NC(=O)N(C2CCCCC2)C(=O)N1C                 96     EC10   \n",
       "7                         CC(Br)(CO)[N+]([O-])=O                 96     EC10   \n",
       "8                     c1ccc2c(c1)c3cccc4cccc2c34                 96     EC10   \n",
       "9                             [Cl-].[Cl-].[Zn++]                 96     EC10   \n",
       "\n",
       "  effect                         SMILES_Canonical_RDKit  \\\n",
       "0    MOR                          CC(=O)Oc1ccccc1C(=O)O   \n",
       "1    MOR                                           [Cr]   \n",
       "2    MOR  CNCCC(Oc1ccc(C(F)(F)F)cc1)c1ccccc1.[Cl-].[H+]   \n",
       "3    MOR         Clc1ccc(C(c2ccc(Cl)cc2)C(Cl)(Cl)Cl)cc1   \n",
       "4    MOR                                           [Cu]   \n",
       "5    MOR                        CCNc1nc(Cl)nc(NC(C)C)n1   \n",
       "6    MOR               CN(C)c1nc(=O)n(C2CCCCC2)c(=O)n1C   \n",
       "7    MOR                         CC(Br)(CO)[N+](=O)[O-]   \n",
       "8    MOR                   c1ccc2c(c1)-c1cccc3cccc-2c13   \n",
       "9    MOR                             [Cl-].[Cl-].[Zn+2]   \n",
       "\n",
       "   predictions log10(mg/L)  predictions (mg/L)  \n",
       "0               -16.496807        3.185612e-17  \n",
       "1               -16.133186        7.358913e-17  \n",
       "2               -17.033726        9.252823e-18  \n",
       "3               -18.201427        6.288869e-19  \n",
       "4               -15.602854        2.495435e-16  \n",
       "5               -16.651567        2.230656e-17  \n",
       "6               -15.855769        1.393898e-16  \n",
       "7               -14.331802        4.657980e-15  \n",
       "8               -15.887511        1.295653e-16  \n",
       "9               -15.117763        7.624958e-16  "
      ]
     },
     "execution_count": 6,
     "metadata": {},
     "output_type": "execute_result"
    }
   ],
   "source": [
    "fishbait.predict_toxicity(SMILES = data[SMILES_COLUMN_NAME].iloc[0:10].tolist(), exposure_duration=EXPOSURE_DURATION, endpoint=PREDICTION_ENDPOINT, effect=PREDICTION_EFFECT)"
   ]
  },
  {
   "cell_type": "markdown",
   "metadata": {},
   "source": [
    "If you run into truble using this model use the `__help__` function"
   ]
  },
  {
   "cell_type": "code",
   "execution_count": 7,
   "metadata": {},
   "outputs": [
    {
     "name": "stdout",
     "output_type": "stream",
     "text": [
      "\n",
      "        This is a python class used to load and use the fine-tuned deep-learning model `fishbAIT` for environmental toxicity predictions in fish algae and aquatic invertebrates.\n",
      "        The models have been trained on a large corpus of SMILES (chemical representations) on data collected from various sources.\n",
      "\n",
      "        Currently there are nine models available for use. The models are divided by toxicity endpoint and by species group. The models are the following:\n",
      "        **Fish**\n",
      "        - `EC50_fish` The EC50 model is trained on EC50 mortality (MOR) data and is thus suitable for the prediction of said endpoints.\n",
      "        - `EC10_fish` The EC10 model is trained on EC10/NOEC data with various effects (mortality, intoxication, development, reproduction, morphology, growth and population) ab. (MOR, ITX, DVP, REP, MPH, GRO, POP)\n",
      "        - `EC50EC10_fish` The EC50EC10 model is trained on EC50, EC10 and NOEC data with various effects (mortality, intoxication, development, reproduction, morphology, growth and population) ab. (MOR, ITX, DVP, REP, MPH, GRO, POP) and is the BEST model out of the three fish models.\n",
      "\n",
      "        **(Aquatic) Invertebrates**\n",
      "        - `EC50_invertebrates` The EC50 model is trained on EC50 mortality/intoxication (MOR, ITX) invertebrate data and is thus suitable for the prediction of said endpoints.\n",
      "        - `EC10_invertebrates` The EC10 model is trained on EC10/NOEC data with various effects (mortality, intoxication, development, reproduction, morphology and population) ab. (MOR, ITX, DVP, REP, MPH, POP)\n",
      "        - `EC50EC10_invertebrates` The EC50EC10 model is trained on EC50, EC10 and NOEC data with various effects (mortality, intoxication, development, reproduction, morphology and population) ab. (MOR, ITX, DVP, REP, MPH, POP) and is the BEST model out of the three invertebrate models.\n",
      "\n",
      "        **Algae**\n",
      "        - `EC50_algae` The EC50 model is trained on EC50 population (POP) algae data and is thus suitable for the prediction of said endpoints.\n",
      "        - `EC10_algae` The EC10 model is trained on EC10/NOEC population (POP) algae data and is thus suitable for the prediction of said endpoints.\n",
      "        - `EC50EC10_algae` The EC50EC10 model is trained on EC50, EC10 and NOEC population (POP) algae data and is the BEST out of the three algae models.\n",
      "\n",
      "        For the most accurate predictions, always refer to the combined EC50EC10 model.\n",
      "        \n",
      "        LOADING A MODEL:\n",
      "        Load the model by initiating this class with the desired model version, e.g. `EC50_algae`.\n",
      "\n",
      "        MAKING PREDICTIONS:\n",
      "        Making predictions is easy. Just  and use the `predict_toxicity` function to make a prediction on a list of SMILES.\n",
      "        \n",
      "        \n"
     ]
    }
   ],
   "source": [
    "fishbait.__help__()"
   ]
  }
 ],
 "metadata": {
  "kernelspec": {
   "display_name": "fishbait2",
   "language": "python",
   "name": "python3"
  },
  "language_info": {
   "codemirror_mode": {
    "name": "ipython",
    "version": 3
   },
   "file_extension": ".py",
   "mimetype": "text/x-python",
   "name": "python",
   "nbconvert_exporter": "python",
   "pygments_lexer": "ipython3",
   "version": "3.9.15 (main, Nov 24 2022, 14:39:17) [MSC v.1916 64 bit (AMD64)]"
  },
  "orig_nbformat": 4,
  "vscode": {
   "interpreter": {
    "hash": "90047d17da87e263581582f58470383374c6bf34d7812fa687cec5b1d93a678a"
   }
  }
 },
 "nbformat": 4,
 "nbformat_minor": 2
}
