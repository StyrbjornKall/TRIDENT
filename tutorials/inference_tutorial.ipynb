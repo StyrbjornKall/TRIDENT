{
 "cells": [
  {
   "cell_type": "markdown",
   "metadata": {},
   "source": [
    "# Inference"
   ]
  },
  {
   "cell_type": "markdown",
   "metadata": {},
   "source": [
    "This script showcases the different models available in fishbAIT and how to use them efficiently."
   ]
  },
  {
   "cell_type": "code",
   "execution_count": 4,
   "metadata": {},
   "outputs": [
    {
     "data": {
      "text/plain": [
       "['/cephyr/users/skall/Alvis/Ecotoxformer',\n",
       " '',\n",
       " '/apps/Arch/software/plotly.py/4.14.3-GCCcore-10.2.0/lib/python3.8/site-packages',\n",
       " '/apps/Arch/software/Pillow/8.0.1-GCCcore-10.2.0/lib/python3.8/site-packages',\n",
       " '/apps/Arch/software/JupyterLab/2.2.8-GCCcore-10.2.0/lib/python3.8/site-packages',\n",
       " '/apps/Arch/software/IPython/7.18.1-GCCcore-10.2.0/lib/python3.8/site-packages',\n",
       " '/apps/Arch/software/h5py/3.1.0-fosscuda-2020b/lib/python3.8/site-packages',\n",
       " '/apps/Arch/software/matplotlib/3.3.3-fosscuda-2020b/lib/python3.8/site-packages',\n",
       " '/apps/Arch/software/Tkinter/3.8.6-GCCcore-10.2.0/lib/python3.8/site-packages',\n",
       " '/apps/Arch/software/scikit-learn/0.23.2-fosscuda-2020b/lib/python3.8/site-packages',\n",
       " '/apps/Arch/software/SciPy-bundle/2020.11-fosscuda-2020b/lib/python3.8/site-packages',\n",
       " '/apps/Arch/software/PyTorch/1.9.0-fosscuda-2020b/lib/python3.8/site-packages',\n",
       " '/apps/Arch/software/typing-extensions/3.7.4.3-GCCcore-10.2.0/lib/python3.8/site-packages',\n",
       " '/apps/Arch/software/pybind11/2.6.0-GCCcore-10.2.0/lib/python3.8/site-packages',\n",
       " '/apps/Arch/software/protobuf-python/3.14.0-GCCcore-10.2.0/lib/python3.8/site-packages',\n",
       " '/cephyr/users/skall/Alvis/.local/lib/python3.8/site-packages',\n",
       " '/apps/Arch/software/PyYAML/5.3.1-GCCcore-10.2.0/lib/python3.8/site-packages',\n",
       " '/apps/Arch/software/Python/3.8.6-GCCcore-10.2.0/easybuild/python',\n",
       " '/apps/Arch/software/Python/3.8.6-GCCcore-10.2.0/lib/python38.zip',\n",
       " '/apps/Arch/software/Python/3.8.6-GCCcore-10.2.0/lib/python3.8',\n",
       " '/apps/Arch/software/Python/3.8.6-GCCcore-10.2.0/lib/python3.8/lib-dynload',\n",
       " '/apps/Arch/software/Python/3.8.6-GCCcore-10.2.0/lib/python3.8/site-packages',\n",
       " '/apps/Arch/software/IPython/7.18.1-GCCcore-10.2.0/lib/python3.8/site-packages/IPython/extensions',\n",
       " '/cephyr/users/skall/Alvis/.ipython']"
      ]
     },
     "execution_count": 4,
     "metadata": {},
     "output_type": "execute_result"
    }
   ],
   "source": [
    "import sys\n",
    "\n",
    "sys.path"
   ]
  }
 ],
 "metadata": {
  "kernelspec": {
   "display_name": "transformers2",
   "language": "python",
   "name": "transformers"
  },
  "language_info": {
   "codemirror_mode": {
    "name": "ipython",
    "version": 3
   },
   "file_extension": ".py",
   "mimetype": "text/x-python",
   "name": "python",
   "nbconvert_exporter": "python",
   "pygments_lexer": "ipython3",
   "version": "3.8.6"
  },
  "orig_nbformat": 4
 },
 "nbformat": 4,
 "nbformat_minor": 2
}
