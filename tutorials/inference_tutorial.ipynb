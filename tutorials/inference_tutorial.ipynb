{
 "cells": [
  {
   "cell_type": "markdown",
   "metadata": {},
   "source": [
    "# Inference"
   ]
  },
  {
   "cell_type": "markdown",
   "metadata": {},
   "source": [
    "This script showcases the different models available in fishbAIT and how to use them efficiently."
   ]
  },
  {
   "cell_type": "code",
   "execution_count": 1,
   "metadata": {},
   "outputs": [
    {
     "name": "stderr",
     "output_type": "stream",
     "text": [
      "c:\\Users\\skall\\Anaconda3\\envs\\test\\lib\\site-packages\\tqdm\\auto.py:22: TqdmWarning: IProgress not found. Please update jupyter and ipywidgets. See https://ipywidgets.readthedocs.io/en/stable/user_install.html\n",
      "  from .autonotebook import tqdm as notebook_tqdm\n"
     ]
    }
   ],
   "source": [
    "import torch\n",
    "import pandas as pd\n",
    "import numpy as np\n",
    "from inference_utils.fishbAIT_for_inference import fishbAIT"
   ]
  },
  {
   "cell_type": "markdown",
   "metadata": {},
   "source": [
    "Specify the model version and load the model"
   ]
  },
  {
   "cell_type": "code",
   "execution_count": 2,
   "metadata": {},
   "outputs": [],
   "source": [
    "MODEL_VERSION = 'EC50'"
   ]
  },
  {
   "cell_type": "code",
   "execution_count": 3,
   "metadata": {},
   "outputs": [],
   "source": [
    "fishbait = fishbAIT(model_version=MODEL_VERSION)\n",
    "fishbait.load_fine_tuned_model()"
   ]
  },
  {
   "cell_type": "markdown",
   "metadata": {},
   "source": [
    "Load the SMILES you wish to predict"
   ]
  },
  {
   "cell_type": "code",
   "execution_count": 4,
   "metadata": {},
   "outputs": [
    {
     "data": {
      "text/html": [
       "<div>\n",
       "<style scoped>\n",
       "    .dataframe tbody tr th:only-of-type {\n",
       "        vertical-align: middle;\n",
       "    }\n",
       "\n",
       "    .dataframe tbody tr th {\n",
       "        vertical-align: top;\n",
       "    }\n",
       "\n",
       "    .dataframe thead th {\n",
       "        text-align: right;\n",
       "    }\n",
       "</style>\n",
       "<table border=\"1\" class=\"dataframe\">\n",
       "  <thead>\n",
       "    <tr style=\"text-align: right;\">\n",
       "      <th></th>\n",
       "      <th>SMILES</th>\n",
       "      <th>cmpdname</th>\n",
       "    </tr>\n",
       "  </thead>\n",
       "  <tbody>\n",
       "    <tr>\n",
       "      <th>0</th>\n",
       "      <td>CC(=O)Oc1ccccc1C(O)=O</td>\n",
       "      <td>Aspirin</td>\n",
       "    </tr>\n",
       "    <tr>\n",
       "      <th>1</th>\n",
       "      <td>[Cr]</td>\n",
       "      <td>Chromium</td>\n",
       "    </tr>\n",
       "    <tr>\n",
       "      <th>2</th>\n",
       "      <td>[H+].[Cl-].CNCCC(Oc1ccc(cc1)C(F)(F)F)c2ccccc2</td>\n",
       "      <td>Fluoxetine hydrochloride</td>\n",
       "    </tr>\n",
       "    <tr>\n",
       "      <th>3</th>\n",
       "      <td>Clc1ccc(cc1)C(c2ccc(Cl)cc2)C(Cl)(Cl)Cl</td>\n",
       "      <td>Clofenotane</td>\n",
       "    </tr>\n",
       "    <tr>\n",
       "      <th>4</th>\n",
       "      <td>[Cu]</td>\n",
       "      <td>Copper</td>\n",
       "    </tr>\n",
       "    <tr>\n",
       "      <th>...</th>\n",
       "      <td>...</td>\n",
       "      <td>...</td>\n",
       "    </tr>\n",
       "    <tr>\n",
       "      <th>995</th>\n",
       "      <td>[Pb++].[O-]c1c(cc(c([O-])c1[N+]([O-])=O)[N+]([...</td>\n",
       "      <td>Lead styphnate</td>\n",
       "    </tr>\n",
       "    <tr>\n",
       "      <th>996</th>\n",
       "      <td>CC(C)(C)C(O)(CCc1ccc(Cl)cc1)Cn2cncn2</td>\n",
       "      <td>Tebuconazole</td>\n",
       "    </tr>\n",
       "    <tr>\n",
       "      <th>997</th>\n",
       "      <td>[Na+].[Na+].[Na+].[Na+].OCCN(CCO)c1nc(Nc2ccc(c...</td>\n",
       "      <td>OpticalBrightenerBbu220</td>\n",
       "    </tr>\n",
       "    <tr>\n",
       "      <th>998</th>\n",
       "      <td>CNC.OC(=O)COc1ccc(Cl)cc1Cl</td>\n",
       "      <td>2,4-D dimethylamine salt</td>\n",
       "    </tr>\n",
       "    <tr>\n",
       "      <th>999</th>\n",
       "      <td>Nc1c(Cl)c(Cl)nc(C(O)=O)c1Cl</td>\n",
       "      <td>Picloram</td>\n",
       "    </tr>\n",
       "  </tbody>\n",
       "</table>\n",
       "<p>1000 rows × 2 columns</p>\n",
       "</div>"
      ],
      "text/plain": [
       "                                                SMILES  \\\n",
       "0                                CC(=O)Oc1ccccc1C(O)=O   \n",
       "1                                                 [Cr]   \n",
       "2        [H+].[Cl-].CNCCC(Oc1ccc(cc1)C(F)(F)F)c2ccccc2   \n",
       "3               Clc1ccc(cc1)C(c2ccc(Cl)cc2)C(Cl)(Cl)Cl   \n",
       "4                                                 [Cu]   \n",
       "..                                                 ...   \n",
       "995  [Pb++].[O-]c1c(cc(c([O-])c1[N+]([O-])=O)[N+]([...   \n",
       "996               CC(C)(C)C(O)(CCc1ccc(Cl)cc1)Cn2cncn2   \n",
       "997  [Na+].[Na+].[Na+].[Na+].OCCN(CCO)c1nc(Nc2ccc(c...   \n",
       "998                         CNC.OC(=O)COc1ccc(Cl)cc1Cl   \n",
       "999                        Nc1c(Cl)c(Cl)nc(C(O)=O)c1Cl   \n",
       "\n",
       "                     cmpdname  \n",
       "0                     Aspirin  \n",
       "1                    Chromium  \n",
       "2    Fluoxetine hydrochloride  \n",
       "3                 Clofenotane  \n",
       "4                      Copper  \n",
       "..                        ...  \n",
       "995            Lead styphnate  \n",
       "996              Tebuconazole  \n",
       "997   OpticalBrightenerBbu220  \n",
       "998  2,4-D dimethylamine salt  \n",
       "999                  Picloram  \n",
       "\n",
       "[1000 rows x 2 columns]"
      ]
     },
     "execution_count": 4,
     "metadata": {},
     "output_type": "execute_result"
    }
   ],
   "source": [
    "data = pd.read_excel('../data/Inference_example_2.xlsx')\n",
    "data"
   ]
  },
  {
   "cell_type": "markdown",
   "metadata": {},
   "source": [
    "Specify the endpoint and effect you wish to predict and make the prediction"
   ]
  },
  {
   "cell_type": "code",
   "execution_count": 5,
   "metadata": {},
   "outputs": [],
   "source": [
    "PREDICTION_ENDPOINT = 'LOEC'\n",
    "PREDICTION_EFFECT = 'DVP'\n",
    "EXPOSURE_DURATION = 96"
   ]
  },
  {
   "cell_type": "code",
   "execution_count": 6,
   "metadata": {},
   "outputs": [
    {
     "ename": "RuntimeError",
     "evalue": "You are trying to predict a `LOEC` endpoint with fishbAIT version EC50. \n            This will not work. Reload a correct version of fishbAIT (i.e. `EC50`, `EC10` or `EC50EC10`) or specify correct endpoint.\n            For additional information call: __help__",
     "output_type": "error",
     "traceback": [
      "\u001b[1;31m---------------------------------------------------------------------------\u001b[0m",
      "\u001b[1;31mRuntimeError\u001b[0m                              Traceback (most recent call last)",
      "Cell \u001b[1;32mIn [6], line 1\u001b[0m\n\u001b[1;32m----> 1\u001b[0m fishbait\u001b[39m.\u001b[39;49mpredict_toxicity(SMILES \u001b[39m=\u001b[39;49m data\u001b[39m.\u001b[39;49mSMILES\u001b[39m.\u001b[39;49miloc[\u001b[39m0\u001b[39;49m:\u001b[39m10\u001b[39;49m]\u001b[39m.\u001b[39;49mtolist(), exposure_duration\u001b[39m=\u001b[39;49mEXPOSURE_DURATION, endpoint\u001b[39m=\u001b[39;49mPREDICTION_ENDPOINT, effect\u001b[39m=\u001b[39;49mPREDICTION_EFFECT)\n",
      "File \u001b[1;32mc:\\Users\\skall\\OneDrive - Chalmers\\Documents\\git_repo\\tutorials\\inference_utils\\fishbAIT_for_inference.py:68\u001b[0m, in \u001b[0;36mfishbAIT.predict_toxicity\u001b[1;34m(self, SMILES, exposure_duration, endpoint, effect)\u001b[0m\n\u001b[0;32m     66\u001b[0m \u001b[39mdef\u001b[39;00m \u001b[39mpredict_toxicity\u001b[39m(\u001b[39mself\u001b[39m, SMILES, exposure_duration: \u001b[39mint\u001b[39m, endpoint: \u001b[39mstr\u001b[39m, effect: \u001b[39mstr\u001b[39m):\n\u001b[1;32m---> 68\u001b[0m     \u001b[39mself\u001b[39;49m\u001b[39m.\u001b[39;49m__check_allowed_prediction__(endpoint, effect)\n\u001b[0;32m     70\u001b[0m     \u001b[39mif\u001b[39;00m \u001b[39misinstance\u001b[39m(SMILES, pd\u001b[39m.\u001b[39mDataFrame):\n\u001b[0;32m     71\u001b[0m         \u001b[39mif\u001b[39;00m \u001b[39m'\u001b[39m\u001b[39msmiles\u001b[39m\u001b[39m'\u001b[39m \u001b[39min\u001b[39;00m SMILES\u001b[39m.\u001b[39mcolumns:\n",
      "File \u001b[1;32mc:\\Users\\skall\\OneDrive - Chalmers\\Documents\\git_repo\\tutorials\\inference_utils\\fishbAIT_for_inference.py:108\u001b[0m, in \u001b[0;36mfishbAIT.__check_allowed_prediction__\u001b[1;34m(self, endpoint, effect)\u001b[0m\n\u001b[0;32m    105\u001b[0m \u001b[39mdef\u001b[39;00m \u001b[39m__check_allowed_prediction__\u001b[39m(\u001b[39mself\u001b[39m, endpoint, effect):\n\u001b[0;32m    107\u001b[0m     \u001b[39mif\u001b[39;00m endpoint \u001b[39mnot\u001b[39;00m \u001b[39min\u001b[39;00m \u001b[39mself\u001b[39m\u001b[39m.\u001b[39mlist_of_endpoints:\n\u001b[1;32m--> 108\u001b[0m         \u001b[39mraise\u001b[39;00m \u001b[39mRuntimeError\u001b[39;00m(\u001b[39mf\u001b[39m\u001b[39m'''\u001b[39m\u001b[39mYou are trying to predict a `\u001b[39m\u001b[39m{\u001b[39;00mendpoint\u001b[39m}\u001b[39;00m\u001b[39m` endpoint with fishbAIT version \u001b[39m\u001b[39m{\u001b[39;00m\u001b[39mself\u001b[39m\u001b[39m.\u001b[39mmodel_version\u001b[39m}\u001b[39;00m\u001b[39m. \u001b[39m\n\u001b[0;32m    109\u001b[0m \u001b[39m        This will not work. Reload a correct version of fishbAIT (i.e. `EC50`, `EC10` or `EC50EC10`) or specify correct endpoint.\u001b[39m\n\u001b[0;32m    110\u001b[0m \u001b[39m        For additional information call: __help__\u001b[39m\u001b[39m'''\u001b[39m)\n\u001b[0;32m    112\u001b[0m     \u001b[39mif\u001b[39;00m effect \u001b[39mnot\u001b[39;00m \u001b[39min\u001b[39;00m \u001b[39mself\u001b[39m\u001b[39m.\u001b[39mlist_of_effects:\n\u001b[0;32m    113\u001b[0m         \u001b[39mraise\u001b[39;00m \u001b[39mRuntimeError\u001b[39;00m(\u001b[39mf\u001b[39m\u001b[39m'''\u001b[39m\u001b[39mYou are trying to predict a `\u001b[39m\u001b[39m{\u001b[39;00meffect\u001b[39m}\u001b[39;00m\u001b[39m` effect with fishbAIT version \u001b[39m\u001b[39m{\u001b[39;00m\u001b[39mself\u001b[39m\u001b[39m.\u001b[39mmodel_version\u001b[39m}\u001b[39;00m\u001b[39m. \u001b[39m\n\u001b[0;32m    114\u001b[0m \u001b[39m        This will not work. Reload a correct version of fishbAIT (i.e. `EC50`, `EC10` or `EC50EC10`) or specify correct effect.\u001b[39m\n\u001b[0;32m    115\u001b[0m \u001b[39m        For additional information call: __help__\u001b[39m\u001b[39m'''\u001b[39m)\n",
      "\u001b[1;31mRuntimeError\u001b[0m: You are trying to predict a `LOEC` endpoint with fishbAIT version EC50. \n            This will not work. Reload a correct version of fishbAIT (i.e. `EC50`, `EC10` or `EC50EC10`) or specify correct endpoint.\n            For additional information call: __help__"
     ]
    }
   ],
   "source": [
    "fishbait.predict_toxicity(SMILES = data.SMILES.iloc[0:10].tolist(), exposure_duration=EXPOSURE_DURATION, endpoint=PREDICTION_ENDPOINT, effect=PREDICTION_EFFECT)"
   ]
  },
  {
   "cell_type": "markdown",
   "metadata": {},
   "source": [
    "If you run into truble using this model use the `__help__` function"
   ]
  },
  {
   "cell_type": "code",
   "execution_count": 5,
   "metadata": {},
   "outputs": [
    {
     "name": "stdout",
     "output_type": "stream",
     "text": [
      "\n",
      "        This is a python class used to load and use the fine-tuned deep-learning model `fishbAIT` for environmental toxicity predictions in fish.\n",
      "        The models have been trained on a large corpus of SMILES (chemical representations) on data collected from various sources.\n",
      "\n",
      "        Currently there are three models available for use.\n",
      "        - `EC50` The EC50 model is trained on EC50 mortality (MOR) data and is thus suitable for the prediction of said endpoints.\n",
      "        - `EC10` The EC10 model is trained on EC10/NOEC data with various effects (mortality, intoxication, development, reproduction, morphology, growth and population) ab. (MOR, ITX, DVP, REP, MPH, GRO, POP)\n",
      "        - `EC50EC10` The EC50EC10 model is trained on both EC50, EC10 and NOEC data with various effects (mortality, intoxication, development, reproduction, morphology, growth and population) ab. (MOR, ITX, DVP, REP, MPH, GRO, POP)\n",
      "\n",
      "        For the most accurate predictions, refer to the combined EC50EC10 model.\n",
      "        \n",
      "        LOADING A MODEL:\n",
      "        Load the model by initiating this class with the desired model version.\n",
      "\n",
      "        MAKING PREDICTIONS:\n",
      "        Making predictions is easy. Just  and use the `predict_toxicity` function to make a prediction on a list of SMILES.\n",
      "        \n",
      "        \n"
     ]
    }
   ],
   "source": [
    "fishbait.__help__()"
   ]
  }
 ],
 "metadata": {
  "kernelspec": {
   "display_name": "Python 3.8.13 ('test')",
   "language": "python",
   "name": "python3"
  },
  "language_info": {
   "codemirror_mode": {
    "name": "ipython",
    "version": 3
   },
   "file_extension": ".py",
   "mimetype": "text/x-python",
   "name": "python",
   "nbconvert_exporter": "python",
   "pygments_lexer": "ipython3",
   "version": "3.8.13"
  },
  "orig_nbformat": 4,
  "vscode": {
   "interpreter": {
    "hash": "522a74da8bbf6349e65486205ebdef824d70d88fa96a7ece2e41a50ee9e5736d"
   }
  }
 },
 "nbformat": 4,
 "nbformat_minor": 2
}
