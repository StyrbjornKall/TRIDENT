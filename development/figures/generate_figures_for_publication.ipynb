{
 "cells": [
  {
   "attachments": {},
   "cell_type": "markdown",
   "metadata": {},
   "source": [
    "# Figure generation\n",
    "\n",
    "**Purpose:** This script is used to generate the figures for publication.\n",
    "\n",
    "**Dependency:** `get_experimental_CAS_ECOSAR.ipynb`, `download_wandb_artifacts.ipynb`, `Train_final_models.ipynb`\n",
    "\n",
    "**Consecutive scripts:** None"
   ]
  },
  {
   "cell_type": "markdown",
   "metadata": {},
   "source": [
    "## Imports"
   ]
  },
  {
   "cell_type": "code",
   "execution_count": 1,
   "metadata": {},
   "outputs": [],
   "source": [
    "from figure_utils.trident_figures import PlotKFoldSingleBarUsingWAvgPreds, PlotKFoldComboBarUsingWAvgPreds, PlotKFoldResidualHistUsingWAvgPreds\n",
    "from figure_utils.trident_figures import PlotBaseModelLossfunResults, PlotPCA_CLSProjection\n",
    "from figure_utils.trident_figures import PlotQSARresidualScatter, PlotQSARcompBarUsingWAvgPredsInterersect, PlotQSARcompScatter, PlotQSARCoverageComboBar, PlotQSARComp3inOne\n",
    "from figure_utils.preprocess_data import Preprocess10x10Fold, GroupDataForPerformance\n",
    "from figure_utils.preprocess_qsar import LoadQSAR, MatchQSAR, PrepareQSARData"
   ]
  },
  {
   "cell_type": "code",
   "execution_count": 2,
   "metadata": {},
   "outputs": [],
   "source": [
    "import numpy as np\n",
    "import pandas as pd"
   ]
  },
  {
   "cell_type": "markdown",
   "metadata": {},
   "source": [
    "## Make figures"
   ]
  },
  {
   "attachments": {},
   "cell_type": "markdown",
   "metadata": {},
   "source": [
    "### Non species specific"
   ]
  },
  {
   "cell_type": "code",
   "execution_count": null,
   "metadata": {},
   "outputs": [],
   "source": [
    "INSIDE_AD = True\n",
    "ENDPOINT = 'EC50'\n",
    "\n",
    "if INSIDE_AD:\n",
    "    AD = 'AD'\n",
    "else:\n",
    "    AD = 'allpreds'\n",
    "\n",
    "SAVE_FIGURES = False\n",
    "\n",
    "if SAVE_FIGURES == True:\n",
    "    PlotQSARComp3inOne(savepath = f\"./figures_for_publication/{ENDPOINT}/allspecies_weightedavgpreds_10x10CV_QSAR_comp_{AD}_SMILES_effect\", endpoint=ENDPOINT,inside_AD=INSIDE_AD,use_weighted_avg=True)\n",
    "else:\n",
    "    PlotQSARComp3inOne(savepath = None, endpoint=ENDPOINT,inside_AD=INSIDE_AD,use_weighted_avg=True)"
   ]
  },
  {
   "cell_type": "markdown",
   "metadata": {},
   "source": [
    "### Non endpoint specific"
   ]
  },
  {
   "cell_type": "code",
   "execution_count": 3,
   "metadata": {},
   "outputs": [],
   "source": [
    "def PlotNonEndpointSpecific(combomodel, species_group, save_figures: bool=False):\n",
    "\n",
    "    if save_figures:\n",
    "\n",
    "        PlotKFoldComboBarUsingWAvgPreds(f\"./figures_for_publication/combo_model_{combomodel}_performance_10x10_CV\", combomodel, species_group)\n",
    "        PlotKFoldSingleBarUsingWAvgPreds(f\"./figures_for_publication/{species_group}_single_model_performance_10x10_CV\", ec50_name=f'EC50_{species_group}', ec10_name=f'EC10_{species_group}')\n",
    "        for inside_AD in [True, False]:\n",
    "            if inside_AD:\n",
    "                AD='AD'\n",
    "            else:\n",
    "                AD='allpreds'\n",
    "\n",
    "            PlotQSARCoverageComboBar(f\"./figures_for_publication/{species_group}_QSAR_coverage_comparison_{AD}\", inside_AD=inside_AD, species_group=species_group)\n",
    "        if species_group == 'fish':        \n",
    "            PlotBaseModelLossfunResults(f\"./figures_for_publication/base_model_and_lossfun\")\n",
    "    else:\n",
    "\n",
    "        PlotKFoldComboBarUsingWAvgPreds(None, combomodel, species_group)\n",
    "        PlotKFoldSingleBarUsingWAvgPreds(None, ec50_name=f'EC50_{species_group}', ec10_name=f'EC10_{species_group}')\n",
    "        for inside_AD in [True, False]:\n",
    "            if inside_AD:\n",
    "                AD='AD'\n",
    "            else:\n",
    "                AD='allpreds'\n",
    "\n",
    "            PlotQSARCoverageComboBar(None, inside_AD=inside_AD, species_group=species_group)\n",
    "        if species_group == 'fish':        \n",
    "            PlotBaseModelLossfunResults(None)\n",
    "        \n",
    "    "
   ]
  },
  {
   "cell_type": "code",
   "execution_count": 3,
   "metadata": {},
   "outputs": [],
   "source": [
    "SPECIES_GROUP = 'fish'"
   ]
  },
  {
   "cell_type": "code",
   "execution_count": null,
   "metadata": {},
   "outputs": [],
   "source": [
    "PlotNonEndpointSpecific(f'EC50EC10_{SPECIES_GROUP}_withoverlap', species_group = SPECIES_GROUP, save_figures=True)"
   ]
  },
  {
   "cell_type": "markdown",
   "metadata": {},
   "source": [
    "### Endpoint-specific"
   ]
  },
  {
   "cell_type": "code",
   "execution_count": 4,
   "metadata": {},
   "outputs": [],
   "source": [
    "def PlotEndpointSpecific(endpoint, effect_for_qsar_comp, name, inside_AD, durations, species_group, save_figures: bool=False):\n",
    "    if inside_AD:\n",
    "        AD='AD'\n",
    "    else:\n",
    "        AD='allpreds'\n",
    "    if effect_for_qsar_comp == ['all']:\n",
    "        effect_for_qsar_comp = ['MOR','DVP','ITX','MPH','REP','POP','GRO']\n",
    "\n",
    "    # ----------- TRIDENT ------------------------\n",
    "    avg_predictions = Preprocess10x10Fold(name=name)\n",
    "    avg_predictions = avg_predictions[avg_predictions.effect.isin(effect_for_qsar_comp)]\n",
    "    weighted_avg_predictions = GroupDataForPerformance(avg_predictions=avg_predictions)\n",
    "    _, mean_L1, median_L1, RMSE, se = (weighted_avg_predictions.residuals, \n",
    "                                    weighted_avg_predictions.L1error.mean(), \n",
    "                                    weighted_avg_predictions.L1error.median(),\n",
    "                                    np.sqrt((weighted_avg_predictions.residuals**2).mean()),\n",
    "                                    np.std(weighted_avg_predictions.L1error)/np.sqrt(len(weighted_avg_predictions))\n",
    "                                    )\n",
    "    print(f'''\n",
    "    (weighted avg) Avg prediction error: {mean_L1}\n",
    "    (weighted avg) Median prediction error: {median_L1}\n",
    "    (weighted avg) RMSE: {RMSE}\n",
    "    (weighted avg) standard error: {se}\n",
    "    ''')\n",
    "\n",
    "    if save_figures:\n",
    "        PlotKFoldResidualHistUsingWAvgPreds(f\"./figures_for_publication/{endpoint}/{name}_weightedavgpreds_10x10fold_hist\", name=name, endpoint=endpoint, species_group=species_group)\n",
    "    else:\n",
    "        PlotKFoldResidualHistUsingWAvgPreds(savepath=None, name=name, endpoint=endpoint, species_group=species_group)\n",
    "\n",
    "    # ----------- QSAR ------------------------\n",
    "    ECOSAR, VEGA, TEST = LoadQSAR(endpoint=endpoint, species_group=species_group)\n",
    "    ECOSAR, TEST, VEGA = PrepareQSARData(ECOSAR, TEST, VEGA, inside_AD=inside_AD, remove_experimental=True, species_group=species_group)\n",
    "    TEST_dict = dict(zip(TEST.Canonical_SMILES_figures, TEST.value))\n",
    "    VEGA_dict = dict(zip(VEGA.Canonical_SMILES_figures, VEGA.value))\n",
    "    ECOSAR_dict = dict(zip(ECOSAR.Canonical_SMILES_figures, ECOSAR.value))\n",
    "\n",
    "    qsar_preds = MatchQSAR(avg_predictions, ECOSAR_dict, TEST_dict, VEGA_dict, endpoint=endpoint, duration=durations, species_group=species_group)\n",
    "    qsar_preds[['ECOSAR_residuals','VEGA_residuals','TEST_residuals']] = qsar_preds[['ECOSAR','VEGA','TEST']] - qsar_preds[['labels']].to_numpy()\n",
    "    weighted_avg_qsar_preds = GroupDataForPerformance(qsar_preds)\n",
    "    if (endpoint == 'EC10') | (species_group=='algae'):\n",
    "        weighted_avg_qsar_preds[['TEST', 'TEST_residuals']] = None\n",
    "    \n",
    "    if save_figures:\n",
    "        PlotQSARcompBarUsingWAvgPredsInterersect(f\"./figures_for_publication/{endpoint}/{name}_weightedavgpreds_10x10CV_QSAR_comp_{AD}_SMILES_{''.join(effect_for_qsar_comp)}_effect\", predictions=weighted_avg_qsar_preds, endpoint=endpoint, species_group=species_group)\n",
    "        PlotQSARcompScatter(f\"./figures_for_publication/{endpoint}/{name}_weightedavgpreds_10x10CV_QSAR_scatter_{AD}_SMILES_{''.join(effect_for_qsar_comp)}_effect\", predictions=weighted_avg_qsar_preds, endpoint=endpoint)\n",
    "        PlotQSARresidualScatter(f\"./figures_for_publication/{endpoint}/{name}_10x10CV_QSAR_residualscatter_{AD}_SMILES_{''.join(effect_for_qsar_comp)}_effect\", predictions=qsar_preds, endpoint=endpoint)\n",
    "        PlotQSARresidualScatter(f\"./figures_for_publication/{endpoint}/{name}_weightedavgpreds_10x10CV_QSAR_residualscatter_{AD}_SMILES_{''.join(effect_for_qsar_comp)}_effect\", predictions=weighted_avg_qsar_preds, endpoint=endpoint)\n",
    "    else:\n",
    "        PlotQSARcompBarUsingWAvgPredsInterersect(None, predictions=weighted_avg_qsar_preds, endpoint=endpoint, species_group=species_group)\n",
    "        PlotQSARcompScatter(None, predictions=weighted_avg_qsar_preds, endpoint=endpoint)\n",
    "        PlotQSARresidualScatter(None, predictions=qsar_preds, endpoint=endpoint)\n",
    "        PlotQSARresidualScatter(None, predictions=weighted_avg_qsar_preds, endpoint=endpoint)"
   ]
  },
  {
   "cell_type": "code",
   "execution_count": 5,
   "metadata": {},
   "outputs": [],
   "source": [
    "ENDPOINT = 'EC50'\n",
    "NAME = f'{ENDPOINT}_{SPECIES_GROUP}' # Add '_withoverlap' for combomodels\n",
    "EFFECT_FOR_QSAR_COMP = ['all']\n",
    "INSIDE_AD = True\n",
    "SAVE_FIGURES = False\n",
    "DURATIONS = ['short exposure','medium exposure', 'long exposure'] # <= 96h, <= 1week, >1week (all)"
   ]
  },
  {
   "cell_type": "code",
   "execution_count": null,
   "metadata": {},
   "outputs": [],
   "source": [
    "PlotEndpointSpecific(endpoint=ENDPOINT, effect_for_qsar_comp=EFFECT_FOR_QSAR_COMP, name=NAME, inside_AD=INSIDE_AD, durations=DURATIONS, species_group=SPECIES_GROUP, save_figures=SAVE_FIGURES)"
   ]
  },
  {
   "cell_type": "code",
   "execution_count": 4,
   "metadata": {},
   "outputs": [],
   "source": [
    "ENDPOINT = 'EC50'\n",
    "NAME = f'{ENDPOINT}_{SPECIES_GROUP}'"
   ]
  },
  {
   "cell_type": "code",
   "execution_count": null,
   "metadata": {},
   "outputs": [],
   "source": [
    "PlotPCA_CLSProjection(savepath=f\"./figures_for_publication/{ENDPOINT}/{NAME}_CLS_projection\", endpoint=ENDPOINT, species_group=SPECIES_GROUP, flipxaxis=False, flipyaxis=True)"
   ]
  },
  {
   "cell_type": "markdown",
   "metadata": {},
   "source": [
    "## Manual figure generation"
   ]
  },
  {
   "cell_type": "code",
   "execution_count": 11,
   "metadata": {},
   "outputs": [],
   "source": [
    "species_group = 'fish'\n",
    "name = f'EC50EC10_{species_group}_withoverlap'\n",
    "endpoint = 'EC50'"
   ]
  },
  {
   "cell_type": "code",
   "execution_count": null,
   "metadata": {},
   "outputs": [],
   "source": [
    "PlotKFoldResidualHistUsingWAvgPreds(None, name, endpoint, species_group)"
   ]
  },
  {
   "cell_type": "code",
   "execution_count": null,
   "metadata": {},
   "outputs": [],
   "source": [
    "PlotKFoldSingleBarUsingWAvgPreds(None, ec50_name=f'EC50_{species_group}', ec10_name=f'EC10_{species_group}')"
   ]
  },
  {
   "attachments": {},
   "cell_type": "markdown",
   "metadata": {},
   "source": [
    "### QSAR"
   ]
  },
  {
   "cell_type": "code",
   "execution_count": 54,
   "metadata": {},
   "outputs": [],
   "source": [
    "avg_predictions = Preprocess10x10Fold(name=name)\n",
    "avg_predictions = avg_predictions[avg_predictions.effect.isin(['MOR','DVP','ITX','MPH','REP','POP','GRO'])]\n",
    "weighted_avg_predictions = GroupDataForPerformance(avg_predictions=avg_predictions)"
   ]
  },
  {
   "cell_type": "code",
   "execution_count": 55,
   "metadata": {},
   "outputs": [],
   "source": [
    "INSIDE_AD = True\n",
    "DURATIONS = ['short exposure','medium exposure', 'long exposure'] # <= 96h, <= 1week, >1week"
   ]
  },
  {
   "cell_type": "code",
   "execution_count": 56,
   "metadata": {},
   "outputs": [],
   "source": [
    "# ----------- QSAR ------------------------\n",
    "ECOSAR, VEGA, TEST = LoadQSAR(endpoint=endpoint, species_group=species_group)"
   ]
  },
  {
   "cell_type": "code",
   "execution_count": null,
   "metadata": {},
   "outputs": [],
   "source": [
    "ECOSAR, TEST, VEGA = PrepareQSARData(ECOSAR, TEST, VEGA, inside_AD=INSIDE_AD, remove_experimental=True, species_group=species_group)"
   ]
  },
  {
   "cell_type": "code",
   "execution_count": null,
   "metadata": {},
   "outputs": [],
   "source": [
    "TEST_dict = dict(zip(TEST.Canonical_SMILES_figures, TEST.value))\n",
    "VEGA_dict = dict(zip(VEGA.Canonical_SMILES_figures, VEGA.value))\n",
    "ECOSAR_dict = dict(zip(ECOSAR.Canonical_SMILES_figures, ECOSAR.value))\n",
    "\n",
    "qsar_preds = MatchQSAR(avg_predictions, ECOSAR_dict, TEST_dict, VEGA_dict, endpoint=endpoint, duration=DURATIONS, species_group=species_group)\n",
    "qsar_preds[['ECOSAR_residuals','VEGA_residuals','TEST_residuals']] = qsar_preds[['ECOSAR','VEGA','TEST']] - qsar_preds[['labels']].to_numpy()\n",
    "weighted_avg_qsar_preds = GroupDataForPerformance(qsar_preds)\n",
    "if (endpoint == 'EC10') | (species_group=='algae'):\n",
    "    weighted_avg_qsar_preds[['TEST', 'TEST_residuals']] = None"
   ]
  },
  {
   "cell_type": "code",
   "execution_count": null,
   "metadata": {},
   "outputs": [],
   "source": [
    "#PlotQSARcompBarUsingWAvgPredsInterersect(None, predictions=weighted_avg_qsar_preds, endpoint=endpoint, species_group=species_group)\n",
    "#PlotQSARcompScatter(None, predictions=weighted_avg_qsar_preds, endpoint=endpoint)\n",
    "#PlotQSARresidualScatter(None, predictions=qsar_preds, endpoint=endpoint)\n",
    "PlotQSARresidualScatter(None, predictions=weighted_avg_qsar_preds, endpoint=endpoint)"
   ]
  },
  {
   "attachments": {},
   "cell_type": "markdown",
   "metadata": {},
   "source": [
    "## Combomodel analysis"
   ]
  },
  {
   "cell_type": "code",
   "execution_count": 44,
   "metadata": {},
   "outputs": [],
   "source": [
    "from figure_utils.figure_flags import colors"
   ]
  },
  {
   "cell_type": "code",
   "execution_count": 80,
   "metadata": {},
   "outputs": [],
   "source": [
    "species_group = 'algae'\n",
    "combomodel = f'EC50EC10_{species_group}_withoverlap'"
   ]
  },
  {
   "cell_type": "code",
   "execution_count": 81,
   "metadata": {},
   "outputs": [],
   "source": [
    "combo_predictions = GroupDataForPerformance(Preprocess10x10Fold(name=combomodel))"
   ]
  },
  {
   "cell_type": "code",
   "execution_count": 82,
   "metadata": {},
   "outputs": [],
   "source": [
    "ec50 = combo_predictions[combo_predictions.endpoint=='EC50']\n",
    "ec10 = combo_predictions[combo_predictions.endpoint=='EC10']\n",
    "overlapping_smiles = list(set(ec10.Canonical_SMILES_figures)  & set(ec50.Canonical_SMILES_figures))"
   ]
  },
  {
   "cell_type": "code",
   "execution_count": 83,
   "metadata": {},
   "outputs": [
    {
     "name": "stdout",
     "output_type": "stream",
     "text": [
      "EC50 single model: 2057\n",
      "EC50 combo model: 2057\n",
      "EC10 single model: 2057\n",
      "EC10 combo model: 2057\n"
     ]
    }
   ],
   "source": [
    "endpoints = [f'EC50',f'EC10']\n",
    "xgroups=[['Mean', 'Median', 'Mean', 'Median'], \n",
    "    ['EC50','EC50','EC10','EC10']]\n",
    "qsarbarcolors = [colors['EC50'],colors['EC50'],colors['EC10'],colors['EC10']]\n",
    "\n",
    "qsar = []\n",
    "qsarse = []\n",
    "ecotoxformer = []\n",
    "ecotoxformerse = []\n",
    "for endpoint in endpoints:\n",
    "    single_predictions = GroupDataForPerformance(Preprocess10x10Fold(name=endpoint+f'_{species_group}'))\n",
    "    \n",
    "    # Fetch only chemicals with both EC50 and EC10 measurements\n",
    "    single_predictions = single_predictions[single_predictions.Canonical_SMILES_figures.isin(overlapping_smiles)]\n",
    "    print(f'{endpoint} single model: {len(single_predictions)}')\n",
    "    _, mean_L1, median_L1, se, MAD = single_predictions.residuals, single_predictions.L1error.mean(), single_predictions.L1error.median(), single_predictions.L1error.sem(), (abs(single_predictions.L1error-single_predictions.L1error.median())).median()/np.sqrt(len(single_predictions))\n",
    "    qsar += [mean_L1, median_L1]\n",
    "    qsarse += [se, MAD]\n",
    "    combo_predictions = GroupDataForPerformance(Preprocess10x10Fold(name=combomodel))\n",
    "    \n",
    "    # Fetch only chemicals with both EC50 and EC10 measurements\n",
    "    combo_predictions = combo_predictions[combo_predictions.Canonical_SMILES_figures.isin(overlapping_smiles)]\n",
    "    combo_predictions = combo_predictions[(combo_predictions.endpoint==endpoint) & (combo_predictions.Canonical_SMILES_figures.isin(single_predictions.Canonical_SMILES_figures))]\n",
    "    print(f'{endpoint} combo model: {len(combo_predictions)}')\n",
    "    _, mean_L1, median_L1, se, MAD = combo_predictions.residuals, combo_predictions.L1error.mean(), combo_predictions.L1error.median(), combo_predictions.L1error.sem(), (abs(combo_predictions.L1error-combo_predictions.L1error.median())).median()/np.sqrt(len(combo_predictions))\n",
    "    ecotoxformer += [mean_L1, median_L1]\n",
    "    ecotoxformerse += [se, MAD]"
   ]
  },
  {
   "cell_type": "code",
   "execution_count": 85,
   "metadata": {},
   "outputs": [
    {
     "name": "stdout",
     "output_type": "stream",
     "text": [
      "EC50 single model: 690\n",
      "EC50 combo model: 690\n",
      "EC10 single model: 638\n",
      "EC10 combo model: 638\n"
     ]
    }
   ],
   "source": [
    "endpoints = [f'EC50',f'EC10']\n",
    "xgroups=[['Mean', 'Median', 'Mean', 'Median'], \n",
    "    ['EC50','EC50','EC10','EC10']]\n",
    "qsarbarcolors = [colors['EC50'],colors['EC50'],colors['EC10'],colors['EC10']]\n",
    "\n",
    "qsar = []\n",
    "qsarse = []\n",
    "ecotoxformer = []\n",
    "ecotoxformerse = []\n",
    "for endpoint in endpoints:\n",
    "    single_predictions = GroupDataForPerformance(Preprocess10x10Fold(name=endpoint+f'_{species_group}'))\n",
    "    \n",
    "    # Fetch only chemicals with both EC50 and EC10 measurements\n",
    "    single_predictions = single_predictions[~single_predictions.Canonical_SMILES_figures.isin(overlapping_smiles)]\n",
    "    print(f'{endpoint} single model: {len(single_predictions)}')\n",
    "    _, mean_L1, median_L1, se, MAD = single_predictions.residuals, single_predictions.L1error.mean(), single_predictions.L1error.median(), single_predictions.L1error.sem(), (abs(single_predictions.L1error-single_predictions.L1error.median())).median()/np.sqrt(len(single_predictions))\n",
    "    qsar += [mean_L1, median_L1]\n",
    "    qsarse += [se, MAD]\n",
    "    combo_predictions = GroupDataForPerformance(Preprocess10x10Fold(name=combomodel))\n",
    "    \n",
    "    # Fetch only chemicals with both EC50 and EC10 measurements\n",
    "    combo_predictions = combo_predictions[~combo_predictions.Canonical_SMILES_figures.isin(overlapping_smiles)]\n",
    "    combo_predictions = combo_predictions[(combo_predictions.endpoint==endpoint) & (combo_predictions.Canonical_SMILES_figures.isin(single_predictions.Canonical_SMILES_figures))]\n",
    "    print(f'{endpoint} combo model: {len(combo_predictions)}')\n",
    "    _, mean_L1, median_L1, se, MAD = combo_predictions.residuals, combo_predictions.L1error.mean(), combo_predictions.L1error.median(), combo_predictions.L1error.sem(), (abs(combo_predictions.L1error-combo_predictions.L1error.median())).median()/np.sqrt(len(combo_predictions))\n",
    "    ecotoxformer += [mean_L1, median_L1]\n",
    "    ecotoxformerse += [se, MAD]"
   ]
  },
  {
   "cell_type": "code",
   "execution_count": 74,
   "metadata": {},
   "outputs": [],
   "source": [
    "import plotly.graph_objects as go\n",
    "from figure_utils.figure_functions import UpdateFigLayout"
   ]
  },
  {
   "cell_type": "code",
   "execution_count": null,
   "metadata": {},
   "outputs": [],
   "source": [
    "plotname = f'EC50EC10_{species_group}_NO_chemical_overlap_between_EC50_&_EC10'\n",
    "fig = go.Figure()\n",
    "qsar = np.array(qsar)\n",
    "qsarse = np.array(qsarse)\n",
    "ecotoxformer = np.array(ecotoxformer)\n",
    "ecotoxformerse = np.array(ecotoxformerse)\n",
    "fig.add_trace(go.Bar(\n",
    "            name=endpoint+f'_{species_group}', x=xgroups, y=10**qsar,\n",
    "            error_y=dict(type='data',symmetric=False,\n",
    "            array=10**qsar*(10**qsarse-1),\n",
    "            arrayminus=10**qsar*(1-10**-qsarse)),\n",
    "            marker_color = qsarbarcolors, \n",
    "            marker=dict(\n",
    "                    line_width=1,\n",
    "                    line_color='Black'),\n",
    "        ))\n",
    "\n",
    "fig.add_trace(go.Bar(\n",
    "        name=f'Combined EC50&EC10', \n",
    "        x=xgroups, y=10**ecotoxformer,\n",
    "        error_y=dict(type='data',symmetric=False,\n",
    "            array=10**ecotoxformer*(10**ecotoxformerse-1),\n",
    "            arrayminus=10**ecotoxformer*(1-10**-ecotoxformerse)),\n",
    "        marker_color = colors['EC50EC10'],\n",
    "        marker=dict(\n",
    "                line_width=1,\n",
    "                line_color='Black'),\n",
    "    ))\n",
    "\n",
    "fig.update_layout(title='Mean & Median AE 10x10 fold CV')\n",
    "fig.update_yaxes(title_text=\"Absolute Prediction Error (fold change)\")    \n",
    "UpdateFigLayout(fig, None, [1,12],[1000,700],1, 'topright')\n",
    "\n",
    "fig.update_layout(barmode='group')\n",
    "fig.show(renderer='png')\n",
    "\n",
    "fig.write_image(f\"./figures_for_publication/{plotname}\"+'.png', scale=7)\n",
    "fig.write_image(f\"./figures_for_publication/{plotname}\"+'.svg')\n",
    "fig.write_html(f\"./figures_for_publication/{plotname}\"+'.html')"
   ]
  },
  {
   "attachments": {},
   "cell_type": "markdown",
   "metadata": {},
   "source": [
    "# Judson results analysis"
   ]
  },
  {
   "cell_type": "code",
   "execution_count": 29,
   "metadata": {},
   "outputs": [
    {
     "name": "stdout",
     "output_type": "stream",
     "text": [
      "EC50\n",
      "    RMSE: 0.8369699260490985\n",
      "    Above order 1 error magnitude: 0.8\n",
      "EC10\n",
      "    RMSE: 1.008598268619242\n",
      "    Above order 1 error magnitude: 0.7262103505843072\n"
     ]
    }
   ],
   "source": [
    "for endpoint in ['EC50', 'EC10']:\n",
    "    judson = pd.read_pickle(f'../../data/results/Judson_{endpoint}_results.pkl.zip', compression='zip')\n",
    "    judson.drop(columns=['endpoint'], inplace=True)\n",
    "\n",
    "    for col in judson.columns:\n",
    "        if 'COMBINED' in col:\n",
    "            judson.rename(columns={col: col[9:]}, inplace=True)\n",
    "\n",
    "    judson['cmpdname'] = 'unk'\n",
    "    judson['Canonical_SMILES_figures'] = judson.SMILES_Canonical_RDKit.copy()\n",
    "    predictions = GroupDataForPerformance(judson)\n",
    "\n",
    "    RMSE = np.sqrt((predictions.residuals**2).mean())\n",
    "    print(f'''{endpoint}\n",
    "    RMSE: {RMSE}\n",
    "    Above order 1 error magnitude: {np.mean(predictions.L1error<1)}''')"
   ]
  },
  {
   "cell_type": "markdown",
   "metadata": {},
   "source": [
    "## Calculate Pearson correlation predicted vs. actual"
   ]
  },
  {
   "cell_type": "code",
   "execution_count": null,
   "metadata": {},
   "outputs": [],
   "source": [
    "for species_group in ['fish','invertebrates','algae']:\n",
    "    for endpoint in ['EC50','EC10','EC50EC10']:\n",
    "        if endpoint == 'EC50EC10':\n",
    "            name = f'{endpoint}_{species_group}_withoverlap'\n",
    "        else:\n",
    "            name = f'{endpoint}_{species_group}'\n",
    "        avg_predictions = Preprocess10x10Fold(name=name)\n",
    "        weighted_avg_predictions = GroupDataForPerformance(avg_predictions=avg_predictions)\n",
    "\n",
    "        print(\n",
    "        f'''\n",
    "        ----------------\n",
    "        {name} R: {weighted_avg_predictions[['labels','TRIDENT']].corr().iloc[0][1]}\n",
    "        {name} R2: {weighted_avg_predictions[['labels','TRIDENT']].corr().iloc[0][1]**2}\n",
    "        ----------------\n",
    "        ''')"
   ]
  },
  {
   "cell_type": "markdown",
   "metadata": {},
   "source": [
    "## Error vs. Cosine similarity (substitute for Applicability domain analysis)\n",
    "**Strategy**\n",
    "1. Fetch CLS-embeddings from final models\n",
    "2. Calculate cosine similarity pairwise for each chemical in each cross-validation\n",
    "3. Calculate mean per chemical in validation set over the cross-validations\n",
    "4. Plot Cosine similarity against L1-error"
   ]
  },
  {
   "cell_type": "code",
   "execution_count": null,
   "metadata": {},
   "outputs": [],
   "source": [
    "from figure_utils.trident_figures import PlotCosineSimilarityAndL1Error, PlotCosineSimilarityAndL1ErrorAllInOne\n",
    "from figure_utils.preprocess_data import Preprocess10x10Fold, GroupDataForPerformance\n",
    "import pandas as pd\n",
    "import numpy as np"
   ]
  },
  {
   "cell_type": "code",
   "execution_count": null,
   "metadata": {},
   "outputs": [],
   "source": [
    "for ENDPOINT in ['EC10', 'EC50']:\n",
    "    for SPECIES_GROUP in ['algae','invertebrates', 'fish']:\n",
    "        NAME = f'{ENDPOINT}_{SPECIES_GROUP}'\n",
    "        print(NAME, '\\n')\n",
    "        PlotCosineSimilarityAndL1Error(savepath=f\"./figures_for_publication/{ENDPOINT}/{NAME}_Cosine_similarity_Avg_0203\", name=NAME, endpoint=ENDPOINT, species_group=SPECIES_GROUP, quantiles=None, bins=[-1,0.2,0.3,1])"
   ]
  },
  {
   "cell_type": "code",
   "execution_count": null,
   "metadata": {},
   "outputs": [],
   "source": [
    "for ENDPOINT in ['EC50','EC10']:\n",
    "    PlotCosineSimilarityAndL1ErrorAllInOne(savepath=f\"./figures_for_publication/{ENDPOINT}/Cosine_similarity_Avg_allinone\", endpoint=ENDPOINT, bins=[-1,0.2,0.3,1])"
   ]
  }
 ],
 "metadata": {
  "kernelspec": {
   "display_name": "fishbait",
   "language": "python",
   "name": "python3"
  },
  "language_info": {
   "codemirror_mode": {
    "name": "ipython",
    "version": 3
   },
   "file_extension": ".py",
   "mimetype": "text/x-python",
   "name": "python",
   "nbconvert_exporter": "python",
   "pygments_lexer": "ipython3",
   "version": "3.9.15"
  },
  "orig_nbformat": 4,
  "vscode": {
   "interpreter": {
    "hash": "c1514c81f3705f7107573a782eeac851e32c3c00fc4e7dabdb8a1c6e8ef21406"
   }
  }
 },
 "nbformat": 4,
 "nbformat_minor": 2
}
