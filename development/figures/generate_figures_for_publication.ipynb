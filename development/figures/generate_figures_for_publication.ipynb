{
 "cells": [
  {
   "cell_type": "markdown",
   "metadata": {},
   "source": [
    "# Figure generation"
   ]
  },
  {
   "cell_type": "markdown",
   "metadata": {},
   "source": [
    "## Imports"
   ]
  },
  {
   "cell_type": "code",
   "execution_count": 1,
   "metadata": {},
   "outputs": [],
   "source": [
    "from figure_utils.fishbait_figures import PlotKFoldSingleBarUsingWAvgPreds, PlotKFoldComboBarUsingWAvgPreds, PlotKFoldResidualHistUsingWAvgPreds\n",
    "from figure_utils.fishbait_figures import PlotBaseModelLossfunResults, PlotPCA_CLSProjection\n",
    "from figure_utils.fishbait_figures import PlotQSARresidualScatter, PlotQSARcompBarUsingWAvgPredsInterersect, PlotQSARcompScatter, PlotQSARCoverageComboBar\n",
    "from figure_utils.preprocess_data import Preprocess10x10Fold, GroupDataForPerformance\n",
    "from figure_utils.preprocess_qsar import LoadQSAR, MatchQSAR, PrepareQSARData"
   ]
  },
  {
   "cell_type": "code",
   "execution_count": 2,
   "metadata": {},
   "outputs": [],
   "source": [
    "import numpy as np\n",
    "import pandas as pd"
   ]
  },
  {
   "cell_type": "markdown",
   "metadata": {},
   "source": [
    "## Make figures"
   ]
  },
  {
   "cell_type": "code",
   "execution_count": 3,
   "metadata": {},
   "outputs": [],
   "source": [
    "SPECIES_GROUP = 'fish'\n",
    "ENDPOINT = 'EC10'\n",
    "NAME = f'EC10_{SPECIES_GROUP}'\n",
    "EFFECT_FOR_QSAR_COMP = ['all']\n",
    "INSIDE_AD = True\n",
    "DURATIONS = ['short exposure','medium exposure', 'long exposure'] # <= 96h, <= 1week, >1week"
   ]
  },
  {
   "cell_type": "markdown",
   "metadata": {},
   "source": [
    "### Non endpoint specific"
   ]
  },
  {
   "cell_type": "code",
   "execution_count": 4,
   "metadata": {},
   "outputs": [],
   "source": [
    "def PlotNonEndpointSpecific(combomodel, species_group, save_figures: bool=False):\n",
    "\n",
    "    if save_figures:\n",
    "        if species_group == 'fish':\n",
    "            PlotKFoldComboBarUsingWAvgPreds(f\"./figures_for_publication/combo_model_{combomodel}_performance_10x10_CV\", combomodel, species_group)\n",
    "        PlotKFoldSingleBarUsingWAvgPreds(f\"./figures_for_publication/{species_group}_single_model_performance_10x10_CV\", ec50_name=f'EC50_{species_group}', ec10_name=f'EC10_{species_group}')\n",
    "        for inside_AD in [True, False]:\n",
    "            if inside_AD:\n",
    "                AD='AD'\n",
    "            else:\n",
    "                AD='allpreds'\n",
    "\n",
    "            PlotQSARCoverageComboBar(f\"./figures_for_publication/{species_group}_QSAR_coverage_comparison_{AD}\", inside_AD=inside_AD, species_group=species_group)\n",
    "        if species_group == 'fish':        \n",
    "            PlotBaseModelLossfunResults(f\"./figures_for_publication/base_model_and_lossfun\")\n",
    "    else:\n",
    "        if species_group == 'fish':\n",
    "            PlotKFoldComboBarUsingWAvgPreds(None, combomodel, species_group)\n",
    "        PlotKFoldSingleBarUsingWAvgPreds(None, ec50_name=f'EC50_{species_group}', ec10_name=f'EC10_{species_group}')\n",
    "        for inside_AD in [True, False]:\n",
    "            if inside_AD:\n",
    "                AD='AD'\n",
    "            else:\n",
    "                AD='allpreds'\n",
    "\n",
    "            PlotQSARCoverageComboBar(None, inside_AD=inside_AD, species_group=species_group)\n",
    "        if species_group == 'fish':        \n",
    "            PlotBaseModelLossfunResults(None)\n",
    "        \n",
    "    "
   ]
  },
  {
   "cell_type": "code",
   "execution_count": null,
   "metadata": {},
   "outputs": [],
   "source": [
    "PlotNonEndpointSpecific(f'EC50EC10_{SPECIES_GROUP}_withoverlap', species_group = SPECIES_GROUP, save_figures=False)"
   ]
  },
  {
   "cell_type": "markdown",
   "metadata": {},
   "source": [
    "### Endpoint-specific"
   ]
  },
  {
   "cell_type": "code",
   "execution_count": 12,
   "metadata": {},
   "outputs": [],
   "source": [
    "def PlotEndpointSpecific(endpoint, effect_for_qsar_comp, name, inside_AD, durations, save_figures: bool=False):\n",
    "    if inside_AD:\n",
    "        AD='AD'\n",
    "    else:\n",
    "        AD='allpreds'\n",
    "    if effect_for_qsar_comp == ['all']:\n",
    "        effect_for_qsar_comp = ['MOR','DVP','ITX','MPH','REP','POP','GRO']\n",
    "\n",
    "    # ----------- fishbAIT ------------------------\n",
    "    avg_predictions = Preprocess10x10Fold(name=name)\n",
    "    avg_predictions = avg_predictions[avg_predictions.effect.isin(effect_for_qsar_comp)]\n",
    "    weighted_avg_predictions = GroupDataForPerformance(avg_predictions=avg_predictions)\n",
    "    _, mean_L1, median_L1, RMSE, se = (weighted_avg_predictions.residuals, \n",
    "                                    weighted_avg_predictions.L1error.mean(), \n",
    "                                    weighted_avg_predictions.L1error.median(),\n",
    "                                    np.sqrt((weighted_avg_predictions.residuals**2).mean()),\n",
    "                                    np.std(weighted_avg_predictions.L1error)/np.sqrt(len(weighted_avg_predictions))\n",
    "                                    )\n",
    "    print(f'''\n",
    "    (weighted avg) Avg prediction error: {mean_L1}\n",
    "    (weighted avg) Median prediction error: {median_L1}\n",
    "    (weighted avg) RMSE: {RMSE}\n",
    "    (weighted avg) standard error: {se}\n",
    "    ''')\n",
    "\n",
    "    if save_figures:\n",
    "        PlotKFoldResidualHistUsingWAvgPreds(f\"./figures_for_publication/{endpoint}/{name}_weightedavgpreds_10x10fold_hist\", name=name, endpoint=endpoint)\n",
    "    else:\n",
    "        PlotKFoldResidualHistUsingWAvgPreds(savepath=None, name=name, endpoint=endpoint)\n",
    "\n",
    "    # ----------- QSAR ------------------------\n",
    "    ECOSAR, VEGA, TEST = LoadQSAR(endpoint=endpoint, species_group=species_group)\n",
    "    ECOSAR, TEST, VEGA = PrepareQSARData(ECOSAR, TEST, VEGA, inside_AD=inside_AD, remove_experimental=True)\n",
    "    TEST_dict = dict(zip(TEST.Canonical_SMILES_figures, TEST.value))\n",
    "    VEGA_dict = dict(zip(VEGA.Canonical_SMILES_figures, VEGA.value))\n",
    "    ECOSAR_dict = dict(zip(ECOSAR.Canonical_SMILES_figures, ECOSAR.value))\n",
    "\n",
    "    qsar_preds = MatchQSAR(avg_predictions, ECOSAR_dict, TEST_dict, VEGA_dict, endpoint=endpoint, duration=durations, species_group=species_group)\n",
    "    qsar_preds[['ECOSAR_residuals','VEGA_residuals','TEST_residuals']] = qsar_preds[['ECOSAR','VEGA','TEST']] - qsar_preds[['labels']].to_numpy()\n",
    "    weighted_avg_qsar_preds = GroupDataForPerformance(qsar_preds)\n",
    "    if (endpoint == 'EC10') | (species_group=='algae'):\n",
    "        weighted_avg_qsar_preds[['TEST', 'TEST_residuals']] = None\n",
    "    \n",
    "    if save_figures:\n",
    "        PlotQSARcompBarUsingWAvgPredsInterersect(f\"./figures_for_publication/{endpoint}/{name}_weightedavgpreds_10x10CV_QSAR_comp_{AD}_SMILES_{''.join(effect_for_qsar_comp)}_effect\", predictions=weighted_avg_qsar_preds, endpoint=endpoint, species_group=species_group)\n",
    "        PlotQSARcompScatter(f\"./figures_for_publication/{endpoint}/{name}_weightedavgpreds_10x10CV_QSAR_scatter_{AD}_SMILES_{''.join(effect_for_qsar_comp)}_effect\", predictions=weighted_avg_qsar_preds, endpoint=endpoint)\n",
    "        PlotQSARresidualScatter(f\"./figures_for_publication/{endpoint}/{name}_10x10CV_QSAR_residualscatter_{AD}_SMILES_{''.join(effect_for_qsar_comp)}_effect\", predictions=qsar_preds, endpoint=endpoint)\n",
    "        PlotQSARresidualScatter(f\"./figures_for_publication/{endpoint}/{name}_weightedavgpreds_10x10CV_QSAR_residualscatter_{AD}_SMILES_{''.join(effect_for_qsar_comp)}_effect\", predictions=weighted_avg_qsar_preds, endpoint=endpoint)\n",
    "    else:\n",
    "        PlotQSARcompBarUsingWAvgPredsInterersect(None, predictions=weighted_avg_qsar_preds, endpoint=endpoint, species_group=species_group)\n",
    "        PlotQSARcompScatter(None, predictions=weighted_avg_qsar_preds, endpoint=endpoint)\n",
    "        PlotQSARresidualScatter(None, predictions=qsar_preds, endpoint=endpoint)\n",
    "        PlotQSARresidualScatter(None, predictions=weighted_avg_qsar_preds, endpoint=endpoint)"
   ]
  },
  {
   "cell_type": "code",
   "execution_count": null,
   "metadata": {},
   "outputs": [],
   "source": [
    "PlotEndpointSpecific(endpoint=ENDPOINT, effect_for_qsar_comp=EFFECT_FOR_QSAR_COMP, name=NAME, inside_AD=INSIDE_AD, durations=DURATIONS, save_figures=False)"
   ]
  },
  {
   "cell_type": "code",
   "execution_count": null,
   "metadata": {},
   "outputs": [],
   "source": [
    "PlotPCA_CLSProjection(savepath=None, endpoint=ENDPOINT, flipaxis=False)"
   ]
  },
  {
   "cell_type": "markdown",
   "metadata": {},
   "source": [
    "## Manual figure generation"
   ]
  },
  {
   "cell_type": "code",
   "execution_count": 3,
   "metadata": {},
   "outputs": [],
   "source": [
    "species_group = 'fish'\n",
    "name = f'EC10_{species_group}'\n",
    "endpoint = 'EC10'"
   ]
  },
  {
   "cell_type": "code",
   "execution_count": null,
   "metadata": {},
   "outputs": [],
   "source": [
    "PlotKFoldResidualHistUsingWAvgPreds(None, name, endpoint)"
   ]
  },
  {
   "cell_type": "code",
   "execution_count": null,
   "metadata": {},
   "outputs": [],
   "source": [
    "PlotKFoldSingleBarUsingWAvgPreds(None, ec50_name=f'EC50_{species_group}', ec10_name=f'EC10_{species_group}')"
   ]
  },
  {
   "attachments": {},
   "cell_type": "markdown",
   "metadata": {},
   "source": [
    "### QSAR"
   ]
  },
  {
   "cell_type": "code",
   "execution_count": 4,
   "metadata": {},
   "outputs": [],
   "source": [
    "avg_predictions = Preprocess10x10Fold(name=name)\n",
    "avg_predictions = avg_predictions[avg_predictions.effect.isin(['MOR','DVP','ITX','MPH','REP','POP','GRO'])]\n",
    "weighted_avg_predictions = GroupDataForPerformance(avg_predictions=avg_predictions)"
   ]
  },
  {
   "cell_type": "code",
   "execution_count": 5,
   "metadata": {},
   "outputs": [],
   "source": [
    "INSIDE_AD = True\n",
    "DURATIONS = ['short exposure','medium exposure', 'long exposure'] # <= 96h, <= 1week, >1week"
   ]
  },
  {
   "cell_type": "code",
   "execution_count": 6,
   "metadata": {},
   "outputs": [],
   "source": [
    "# ----------- QSAR ------------------------\n",
    "ECOSAR, VEGA, TEST = LoadQSAR(endpoint=endpoint, species_group=species_group)"
   ]
  },
  {
   "cell_type": "code",
   "execution_count": null,
   "metadata": {},
   "outputs": [],
   "source": [
    "ECOSAR, TEST, VEGA = PrepareQSARData(ECOSAR, TEST, VEGA, inside_AD=INSIDE_AD, remove_experimental=True)"
   ]
  },
  {
   "cell_type": "code",
   "execution_count": 8,
   "metadata": {},
   "outputs": [],
   "source": [
    "TEST_dict = dict(zip(TEST.Canonical_SMILES_figures, TEST.value))\n",
    "VEGA_dict = dict(zip(VEGA.Canonical_SMILES_figures, VEGA.value))\n",
    "ECOSAR_dict = dict(zip(ECOSAR.Canonical_SMILES_figures, ECOSAR.value))\n",
    "\n",
    "qsar_preds = MatchQSAR(avg_predictions, ECOSAR_dict, TEST_dict, VEGA_dict, endpoint=endpoint, duration=DURATIONS, species_group=species_group)\n",
    "qsar_preds[['ECOSAR_residuals','VEGA_residuals','TEST_residuals']] = qsar_preds[['ECOSAR','VEGA','TEST']] - qsar_preds[['labels']].to_numpy()\n",
    "weighted_avg_qsar_preds = GroupDataForPerformance(qsar_preds)\n",
    "if (endpoint == 'EC10') | (species_group=='algae'):\n",
    "    weighted_avg_qsar_preds[['TEST', 'TEST_residuals']] = None"
   ]
  },
  {
   "cell_type": "code",
   "execution_count": null,
   "metadata": {},
   "outputs": [],
   "source": [
    "PlotQSARcompBarUsingWAvgPredsInterersect(None, predictions=weighted_avg_qsar_preds, endpoint=endpoint, species_group=species_group)\n",
    "PlotQSARcompScatter(None, predictions=weighted_avg_qsar_preds, endpoint=endpoint)\n",
    "PlotQSARresidualScatter(None, predictions=qsar_preds, endpoint=endpoint)\n",
    "PlotQSARresidualScatter(None, predictions=weighted_avg_qsar_preds, endpoint=endpoint)"
   ]
  }
 ],
 "metadata": {
  "kernelspec": {
   "display_name": "Python 3.9.15 ('fishbait2')",
   "language": "python",
   "name": "python3"
  },
  "language_info": {
   "codemirror_mode": {
    "name": "ipython",
    "version": 3
   },
   "file_extension": ".py",
   "mimetype": "text/x-python",
   "name": "python",
   "nbconvert_exporter": "python",
   "pygments_lexer": "ipython3",
   "version": "3.9.15"
  },
  "orig_nbformat": 4,
  "vscode": {
   "interpreter": {
    "hash": "90047d17da87e263581582f58470383374c6bf34d7812fa687cec5b1d93a678a"
   }
  }
 },
 "nbformat": 4,
 "nbformat_minor": 2
}
