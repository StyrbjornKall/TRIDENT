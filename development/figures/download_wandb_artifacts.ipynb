{
 "cells": [
  {
   "attachments": {},
   "cell_type": "markdown",
   "metadata": {},
   "source": [
    "# Download artifacts/data from wandb for figure generation\n",
    "\n",
    "**Purpose:** This script is used to download artifacts from weights and biases for retrieving results for the 10x10 K-fold cross-validations and the chemberta version and loss-function sweeps.\n",
    "\n",
    "**Dependency:** `hyperparameter_sweep.ipynb`, `Kfold_crossvalidation_sweep.ipynb`. This script requires results being added to weights and biases. The chemberta version and loss function results (`hyperparameter_sweep.ipynb`) and the 10x10 K-fold cross-validation (`Kfold_crossvalidation_sweep.ipynb`).\n",
    "\n",
    "**Consecutive scripts:** After running this script the following scripts may be executed. `generate_figures_for_publication.ipynb`"
   ]
  },
  {
   "cell_type": "markdown",
   "metadata": {},
   "source": [
    "## Imports"
   ]
  },
  {
   "cell_type": "code",
   "execution_count": 1,
   "metadata": {},
   "outputs": [],
   "source": [
    "import pandas as pd\n",
    "import wandb\n",
    "import json\n",
    "import os\n",
    "from tqdm.notebook import tqdm"
   ]
  },
  {
   "cell_type": "markdown",
   "metadata": {},
   "source": [
    "## Download"
   ]
  },
  {
   "cell_type": "code",
   "execution_count": 2,
   "metadata": {},
   "outputs": [],
   "source": [
    "def GetRuns(project, sweepid, endpoints):\n",
    "\n",
    "    api = wandb.Api()\n",
    "\n",
    "    # Project is specified by <entity/project-name>\n",
    "    runs = api.sweep(project+'/'+sweepid).runs\n",
    "\n",
    "    summary_list, config_list, name_list, ids = [], [], [], []\n",
    "    for run in runs: \n",
    "        # .summary contains the output keys/values for metrics like accuracy.\n",
    "        #  We call ._json_dict to omit large files\n",
    "\n",
    "        if run.config['endpoints'] == endpoints:\n",
    "\n",
    "            summary_list.append(run.summary._json_dict)\n",
    "\n",
    "            # .config contains the hyperparameters.\n",
    "            #  We remove special values that start with _.\n",
    "            config_list.append(\n",
    "                {k: v for k,v in run.config.items()\n",
    "                if not k.startswith('_')})\n",
    "\n",
    "            # .name is the human-readable name of the run.\n",
    "            name_list.append(run.name)\n",
    "            ids.append(run.id)\n",
    "\n",
    "    return pd.DataFrame({\n",
    "        \"summary\": summary_list,\n",
    "        \"config\": config_list,\n",
    "        \"name\": name_list,\n",
    "        \"run_ids\": ids,\n",
    "        'sweepid': sweepid\n",
    "        })"
   ]
  },
  {
   "cell_type": "code",
   "execution_count": 3,
   "metadata": {},
   "outputs": [],
   "source": [
    "def LoadArtifact(wandbrun, runid, entity, project, artifact_name, fname, version, type, save_cls_embeddings):\n",
    "    if os.path.isdir(f'./artifacts/run-{runid}-{artifact_name}-{version}'):\n",
    "        jsonfile = json.load(open(f'./artifacts/run-{runid}-{artifact_name}-{version}/{fname}.table.json'))\n",
    "    else:\n",
    "        artifact = wandbrun.use_artifact(f'{entity}/{project}/run-{runid}-{artifact_name}:{version}', type=type)\n",
    "        artifact_dir = artifact.download()\n",
    "        jsonfile = json.load(open(f'{artifact_dir}/{fname}.table.json'))\n",
    "\n",
    "    cols = jsonfile['columns']\n",
    "    data = jsonfile['data']\n",
    "    df = pd.DataFrame(data=data, columns=cols)\n",
    "\n",
    "    columns=['internal_id', 'Conc_sign', 'species_group', 'Pubchem_CID', 'xlogp', 'mw', 'Canonical_SMILES','Lineage','OneHotEnc_effect','OneHotEnc_endpoint']\n",
    "    \n",
    "    if save_cls_embeddings == False:\n",
    "        print('Dropping CLS embeddings\\n')\n",
    "        columns.append('CLS_embeddings')\n",
    "\n",
    "    for col in columns:\n",
    "        try:\n",
    "            df.drop(columns=col, inplace=True)\n",
    "        except:\n",
    "            pass\n",
    "\n",
    "\n",
    "    return df"
   ]
  },
  {
   "cell_type": "code",
   "execution_count": 4,
   "metadata": {},
   "outputs": [],
   "source": [
    "def CombineKFoldPredictions(wandbrun, runs_df, project, version, artifact_name, name, save_cls_embeddings):\n",
    "\n",
    "    df = LoadArtifact(\n",
    "            wandbrun = wandbrun, \n",
    "            runid= runs_df.run_ids[0], \n",
    "            entity = 'ecotoxformer', \n",
    "            project = project, \n",
    "            artifact_name = artifact_name, \n",
    "            fname = name,\n",
    "            version = version,\n",
    "            type = 'run_table',\n",
    "            save_cls_embeddings=save_cls_embeddings)\n",
    "    \n",
    "    df[['seed', 'fold_id']] = [runs_df.config[0]['seed'], runs_df.config[0]['fold_id']]\n",
    "\n",
    "    for i in tqdm(range(1,len(runs_df),1)):\n",
    "        df2 = LoadArtifact(\n",
    "            wandbrun = wandbrun, \n",
    "            runid= runs_df.run_ids[i], \n",
    "            entity = 'ecotoxformer', \n",
    "            project = project, \n",
    "            artifact_name = artifact_name, \n",
    "            fname = name,\n",
    "            version = version,\n",
    "            type = 'run_table',\n",
    "            save_cls_embeddings=save_cls_embeddings)\n",
    "\n",
    "        df2[['seed', 'fold_id']] = [runs_df.config[i]['seed'], runs_df.config[i]['fold_id']]\n",
    "\n",
    "        df = pd.concat([df, df2], ignore_index=True)\n",
    "\n",
    "    return df\n",
    "\n",
    "def CombinePredictions(wandbrun, runs_df, project, version, artifact_name, name, save_cls_embeddings):\n",
    "\n",
    "    df = LoadArtifact(\n",
    "            wandbrun = wandbrun, \n",
    "            runid= runs_df.run_ids[0], \n",
    "            entity = 'ecotoxformer', \n",
    "            project = project, \n",
    "            artifact_name = artifact_name, \n",
    "            fname = name,\n",
    "            version = version,\n",
    "            type = 'run_table',\n",
    "            save_cls_embeddings=save_cls_embeddings)\n",
    "    \n",
    "    df[['base_model', 'loss_fun']] = [runs_df['base_model'][0], runs_df['loss_fun'][0]]\n",
    "    for i in tqdm(range(1,len(runs_df),1)):\n",
    "        df2 = LoadArtifact(\n",
    "            wandbrun = wandbrun, \n",
    "            runid= runs_df.run_ids[i], \n",
    "            entity = 'ecotoxformer', \n",
    "            project = project, \n",
    "            artifact_name = artifact_name, \n",
    "            fname = name,\n",
    "            version = version,\n",
    "            type = 'run_table',\n",
    "            save_cls_embeddings=save_cls_embeddings)\n",
    "        df2[['base_model', 'loss_fun']] = [runs_df['base_model'][i], runs_df['loss_fun'][i]]\n",
    "        df = pd.concat([df, df2], ignore_index=True)\n",
    "\n",
    "    return df"
   ]
  },
  {
   "cell_type": "code",
   "execution_count": 5,
   "metadata": {},
   "outputs": [
    {
     "name": "stderr",
     "output_type": "stream",
     "text": [
      "Failed to detect the name of this notebook, you can set it manually with the WANDB_NOTEBOOK_NAME environment variable to enable code saving.\n",
      "\u001b[34m\u001b[1mwandb\u001b[0m: Currently logged in as: \u001b[33mstyrbjornkall\u001b[0m. Use \u001b[1m`wandb login --relogin`\u001b[0m to force relogin\n"
     ]
    },
    {
     "data": {
      "text/plain": [
       "True"
      ]
     },
     "execution_count": 5,
     "metadata": {},
     "output_type": "execute_result"
    }
   ],
   "source": [
    "wandb.login()"
   ]
  },
  {
   "cell_type": "code",
   "execution_count": 6,
   "metadata": {},
   "outputs": [
    {
     "data": {
      "text/html": [
       "wandb version 0.15.8 is available!  To upgrade, please run:\n",
       " $ pip install wandb --upgrade"
      ],
      "text/plain": [
       "<IPython.core.display.HTML object>"
      ]
     },
     "metadata": {},
     "output_type": "display_data"
    },
    {
     "data": {
      "text/html": [
       "Tracking run with wandb version 0.13.6"
      ],
      "text/plain": [
       "<IPython.core.display.HTML object>"
      ]
     },
     "metadata": {},
     "output_type": "display_data"
    },
    {
     "data": {
      "text/html": [
       "Run data is saved locally in <code>c:\\Users\\Styrbjörn Käll\\Documents\\Chalmers\\TRIDENT\\development\\figures\\wandb\\run-20230809_132959-1eprxlg8</code>"
      ],
      "text/plain": [
       "<IPython.core.display.HTML object>"
      ]
     },
     "metadata": {},
     "output_type": "display_data"
    },
    {
     "data": {
      "text/html": [
       "Syncing run <strong><a href=\"https://wandb.ai/styrbjornkall/artifacts-analysis/runs/1eprxlg8\" target=\"_blank\">quiet-donkey-42</a></strong> to <a href=\"https://wandb.ai/styrbjornkall/artifacts-analysis\" target=\"_blank\">Weights & Biases</a> (<a href=\"https://wandb.me/run\" target=\"_blank\">docs</a>)<br/>"
      ],
      "text/plain": [
       "<IPython.core.display.HTML object>"
      ]
     },
     "metadata": {},
     "output_type": "display_data"
    }
   ],
   "source": [
    "wandbrun = wandb.init(project=\"artifacts-analysis\", job_type='tmp_run')"
   ]
  },
  {
   "cell_type": "code",
   "execution_count": 7,
   "metadata": {},
   "outputs": [],
   "source": [
    "PROJECT_NAME = '100Fold_CV_RDKit_invertebrates'\n",
    "SWEEP_ID = 'u1c9loib'\n",
    "ENDPOINT = ['EC50','EC10','NOEC']\n",
    "SAVE_CLS_EMBEDDINGS = False\n",
    "ARTIFACT_NAME = 'BestValidationResults'\n",
    "DOWNLOADED_ARTIFACT_NAME = 'Best Validation Results' #Split ARTIFACT_NAME by capital letters\n",
    "ARTIFACT_VERSION = 'v0'\n",
    "FILENAME = f'EC50EC10_invertebrates_withoverlap_predictions_100x_CV_RDKit' #Filename to which results will be saved"
   ]
  },
  {
   "cell_type": "code",
   "execution_count": 8,
   "metadata": {},
   "outputs": [],
   "source": [
    "runs_df = GetRuns(project=f\"ecotoxformer/{PROJECT_NAME}/\", sweepid=SWEEP_ID, endpoints=ENDPOINT)"
   ]
  },
  {
   "cell_type": "code",
   "execution_count": 9,
   "metadata": {},
   "outputs": [
    {
     "data": {
      "text/html": [
       "<div>\n",
       "<style scoped>\n",
       "    .dataframe tbody tr th:only-of-type {\n",
       "        vertical-align: middle;\n",
       "    }\n",
       "\n",
       "    .dataframe tbody tr th {\n",
       "        vertical-align: top;\n",
       "    }\n",
       "\n",
       "    .dataframe thead th {\n",
       "        text-align: right;\n",
       "    }\n",
       "</style>\n",
       "<table border=\"1\" class=\"dataframe\">\n",
       "  <thead>\n",
       "    <tr style=\"text-align: right;\">\n",
       "      <th></th>\n",
       "      <th>summary</th>\n",
       "      <th>config</th>\n",
       "      <th>name</th>\n",
       "      <th>run_ids</th>\n",
       "      <th>sweepid</th>\n",
       "    </tr>\n",
       "  </thead>\n",
       "  <tbody>\n",
       "    <tr>\n",
       "      <th>0</th>\n",
       "      <td>{'_step': 3682, '_timestamp': 1691580273.35834...</td>\n",
       "      <td>{'lr': 0.0002, 'seed': 45, 'label': 'mgperL', ...</td>\n",
       "      <td>wobbly-sweep-100</td>\n",
       "      <td>d4bioj8u</td>\n",
       "      <td>u1c9loib</td>\n",
       "    </tr>\n",
       "    <tr>\n",
       "      <th>1</th>\n",
       "      <td>{'Validation RMSE Loss Normalized': 0.84046807...</td>\n",
       "      <td>{'lr': 0.0002, 'seed': 50, 'label': 'mgperL', ...</td>\n",
       "      <td>noble-sweep-100</td>\n",
       "      <td>1tslsxkh</td>\n",
       "      <td>u1c9loib</td>\n",
       "    </tr>\n",
       "    <tr>\n",
       "      <th>2</th>\n",
       "      <td>{'Validation RMSE Loss Normalized': 0.90158873...</td>\n",
       "      <td>{'lr': 0.0002, 'seed': 49, 'label': 'mgperL', ...</td>\n",
       "      <td>sandy-sweep-99</td>\n",
       "      <td>1yns1xnv</td>\n",
       "      <td>u1c9loib</td>\n",
       "    </tr>\n",
       "    <tr>\n",
       "      <th>3</th>\n",
       "      <td>{'_timestamp': 1691571497.6975565, 'Learning R...</td>\n",
       "      <td>{'lr': 0.0002, 'seed': 48, 'label': 'mgperL', ...</td>\n",
       "      <td>good-sweep-98</td>\n",
       "      <td>1gmvan2d</td>\n",
       "      <td>u1c9loib</td>\n",
       "    </tr>\n",
       "    <tr>\n",
       "      <th>4</th>\n",
       "      <td>{'Validation RMSE Loss Normalized': 0.82821230...</td>\n",
       "      <td>{'lr': 0.0002, 'seed': 47, 'label': 'mgperL', ...</td>\n",
       "      <td>earthy-sweep-97</td>\n",
       "      <td>6z00xt0o</td>\n",
       "      <td>u1c9loib</td>\n",
       "    </tr>\n",
       "    <tr>\n",
       "      <th>...</th>\n",
       "      <td>...</td>\n",
       "      <td>...</td>\n",
       "      <td>...</td>\n",
       "      <td>...</td>\n",
       "      <td>...</td>\n",
       "    </tr>\n",
       "    <tr>\n",
       "      <th>95</th>\n",
       "      <td>{'Best Validation Median Loss Normalized': 0.3...</td>\n",
       "      <td>{'lr': 0.0002, 'seed': 45, 'label': 'mgperL', ...</td>\n",
       "      <td>swift-sweep-5</td>\n",
       "      <td>oicbyak6</td>\n",
       "      <td>u1c9loib</td>\n",
       "    </tr>\n",
       "    <tr>\n",
       "      <th>96</th>\n",
       "      <td>{'Training df': {'sha256': '5a135be70275400aee...</td>\n",
       "      <td>{'lr': 0.0002, 'seed': 43, 'label': 'mgperL', ...</td>\n",
       "      <td>stellar-sweep-3</td>\n",
       "      <td>k6rnxzu9</td>\n",
       "      <td>u1c9loib</td>\n",
       "    </tr>\n",
       "    <tr>\n",
       "      <th>97</th>\n",
       "      <td>{'training batch': 3639, '_wandb': {'runtime':...</td>\n",
       "      <td>{'lr': 0.0002, 'seed': 44, 'label': 'mgperL', ...</td>\n",
       "      <td>young-sweep-4</td>\n",
       "      <td>ndyab7l8</td>\n",
       "      <td>u1c9loib</td>\n",
       "    </tr>\n",
       "    <tr>\n",
       "      <th>98</th>\n",
       "      <td>{'Best Validation Results': {'ncols': 22, 'nro...</td>\n",
       "      <td>{'lr': 0.0002, 'seed': 42, 'label': 'mgperL', ...</td>\n",
       "      <td>youthful-sweep-2</td>\n",
       "      <td>3v9gknqk</td>\n",
       "      <td>u1c9loib</td>\n",
       "    </tr>\n",
       "    <tr>\n",
       "      <th>99</th>\n",
       "      <td>{'Training data': {'sha256': '2accc343d3757d30...</td>\n",
       "      <td>{'lr': 0.0002, 'seed': 41, 'label': 'mgperL', ...</td>\n",
       "      <td>ruby-sweep-1</td>\n",
       "      <td>cj74v3kh</td>\n",
       "      <td>u1c9loib</td>\n",
       "    </tr>\n",
       "  </tbody>\n",
       "</table>\n",
       "<p>100 rows × 5 columns</p>\n",
       "</div>"
      ],
      "text/plain": [
       "                                              summary  \\\n",
       "0   {'_step': 3682, '_timestamp': 1691580273.35834...   \n",
       "1   {'Validation RMSE Loss Normalized': 0.84046807...   \n",
       "2   {'Validation RMSE Loss Normalized': 0.90158873...   \n",
       "3   {'_timestamp': 1691571497.6975565, 'Learning R...   \n",
       "4   {'Validation RMSE Loss Normalized': 0.82821230...   \n",
       "..                                                ...   \n",
       "95  {'Best Validation Median Loss Normalized': 0.3...   \n",
       "96  {'Training df': {'sha256': '5a135be70275400aee...   \n",
       "97  {'training batch': 3639, '_wandb': {'runtime':...   \n",
       "98  {'Best Validation Results': {'ncols': 22, 'nro...   \n",
       "99  {'Training data': {'sha256': '2accc343d3757d30...   \n",
       "\n",
       "                                               config              name  \\\n",
       "0   {'lr': 0.0002, 'seed': 45, 'label': 'mgperL', ...  wobbly-sweep-100   \n",
       "1   {'lr': 0.0002, 'seed': 50, 'label': 'mgperL', ...   noble-sweep-100   \n",
       "2   {'lr': 0.0002, 'seed': 49, 'label': 'mgperL', ...    sandy-sweep-99   \n",
       "3   {'lr': 0.0002, 'seed': 48, 'label': 'mgperL', ...     good-sweep-98   \n",
       "4   {'lr': 0.0002, 'seed': 47, 'label': 'mgperL', ...   earthy-sweep-97   \n",
       "..                                                ...               ...   \n",
       "95  {'lr': 0.0002, 'seed': 45, 'label': 'mgperL', ...     swift-sweep-5   \n",
       "96  {'lr': 0.0002, 'seed': 43, 'label': 'mgperL', ...   stellar-sweep-3   \n",
       "97  {'lr': 0.0002, 'seed': 44, 'label': 'mgperL', ...     young-sweep-4   \n",
       "98  {'lr': 0.0002, 'seed': 42, 'label': 'mgperL', ...  youthful-sweep-2   \n",
       "99  {'lr': 0.0002, 'seed': 41, 'label': 'mgperL', ...      ruby-sweep-1   \n",
       "\n",
       "     run_ids   sweepid  \n",
       "0   d4bioj8u  u1c9loib  \n",
       "1   1tslsxkh  u1c9loib  \n",
       "2   1yns1xnv  u1c9loib  \n",
       "3   1gmvan2d  u1c9loib  \n",
       "4   6z00xt0o  u1c9loib  \n",
       "..       ...       ...  \n",
       "95  oicbyak6  u1c9loib  \n",
       "96  k6rnxzu9  u1c9loib  \n",
       "97  ndyab7l8  u1c9loib  \n",
       "98  3v9gknqk  u1c9loib  \n",
       "99  cj74v3kh  u1c9loib  \n",
       "\n",
       "[100 rows x 5 columns]"
      ]
     },
     "execution_count": 9,
     "metadata": {},
     "output_type": "execute_result"
    }
   ],
   "source": [
    "runs_df"
   ]
  },
  {
   "cell_type": "markdown",
   "metadata": {},
   "source": [
    "K-Fold CV"
   ]
  },
  {
   "cell_type": "code",
   "execution_count": null,
   "metadata": {},
   "outputs": [],
   "source": [
    "concatenated_results = CombineKFoldPredictions(\n",
    "    wandbrun=wandbrun, \n",
    "    runs_df=runs_df,\n",
    "    project=PROJECT_NAME, \n",
    "    version=ARTIFACT_VERSION, \n",
    "    artifact_name=ARTIFACT_NAME,\n",
    "    name=DOWNLOADED_ARTIFACT_NAME,\n",
    "    save_cls_embeddings=SAVE_CLS_EMBEDDINGS)"
   ]
  },
  {
   "cell_type": "markdown",
   "metadata": {},
   "source": [
    "Base model runs"
   ]
  },
  {
   "cell_type": "code",
   "execution_count": null,
   "metadata": {},
   "outputs": [],
   "source": [
    "concatenated_results = pd.DataFrame()\n",
    "runs_df = pd.DataFrame(['56vivdmi','dl8u33ui','78lq56v1','128aaus7'], columns=['run_ids'])\n",
    "runs_df['loss_fun'] = ['L1Loss','L1Loss','MSELoss','MSELoss']\n",
    "runs_df['base_model'] = ['seyonec/SMILES_tokenized_PubChem_shard00_160k','seyonec/PubChem10M_SMILES_BPE_450k','seyonec/SMILES_tokenized_PubChem_shard00_160k','seyonec/PubChem10M_SMILES_BPE_450k']\n",
    "for i in tqdm(range(5)):\n",
    "    df = CombinePredictions(wandbrun, runs_df, 'base_model_sweep_RDKit', 'v0', f'BestValidationResults{i+1}', f'Best Validation Results {i+1}')\n",
    "    df['fold_id'] = i+1\n",
    "    concatenated_results = pd.concat([concatenated_results, df],ignore_index=True)"
   ]
  },
  {
   "cell_type": "markdown",
   "metadata": {},
   "source": [
    "Save results"
   ]
  },
  {
   "cell_type": "code",
   "execution_count": null,
   "metadata": {},
   "outputs": [],
   "source": [
    "concatenated_results.to_csv(f'../../data/results/{FILENAME}.csv.zip', index=False, compression='zip')"
   ]
  },
  {
   "cell_type": "code",
   "execution_count": null,
   "metadata": {},
   "outputs": [],
   "source": [
    "concatenated_results.to_pickle(f'../../data/results/{FILENAME}.pkl.zip', compression='zip')"
   ]
  }
 ],
 "metadata": {
  "kernelspec": {
   "display_name": "fishbait",
   "language": "python",
   "name": "python3"
  },
  "language_info": {
   "codemirror_mode": {
    "name": "ipython",
    "version": 3
   },
   "file_extension": ".py",
   "mimetype": "text/x-python",
   "name": "python",
   "nbconvert_exporter": "python",
   "pygments_lexer": "ipython3",
   "version": "3.9.15"
  },
  "orig_nbformat": 4,
  "vscode": {
   "interpreter": {
    "hash": "c1514c81f3705f7107573a782eeac851e32c3c00fc4e7dabdb8a1c6e8ef21406"
   }
  }
 },
 "nbformat": 4,
 "nbformat_minor": 2
}
