{
 "cells": [
  {
   "attachments": {},
   "cell_type": "markdown",
   "metadata": {},
   "source": [
    "# Download artifacts/data from wandb for figure generation\n",
    "\n",
    "**Purpose:** This script is used to download artifacts from weights and biases for retrieving results for the 10x10 K-fold cross-validations and the chemberta version and loss-function sweeps.\n",
    "\n",
    "**Dependency:** `hyperparameter_sweep.ipynb`, `Kfold_crossvalidation_sweep.ipynb`. This script requires results being added to weights and biases. The chemberta version and loss function results (`hyperparameter_sweep.ipynb`) and the 10x10 K-fold cross-validation (`Kfold_crossvalidation_sweep.ipynb`).\n",
    "\n",
    "**Consecutive scripts:** After running this script the following scripts may be executed. `generate_figures_for_publication.ipynb`"
   ]
  },
  {
   "cell_type": "markdown",
   "metadata": {},
   "source": [
    "## Imports"
   ]
  },
  {
   "cell_type": "code",
   "execution_count": 1,
   "metadata": {},
   "outputs": [],
   "source": [
    "import pandas as pd\n",
    "import wandb\n",
    "import json\n",
    "import os\n",
    "from tqdm.notebook import tqdm"
   ]
  },
  {
   "cell_type": "markdown",
   "metadata": {},
   "source": [
    "## Download"
   ]
  },
  {
   "cell_type": "code",
   "execution_count": 2,
   "metadata": {},
   "outputs": [],
   "source": [
    "def GetRuns(project, sweepid, endpoints):\n",
    "\n",
    "    api = wandb.Api()\n",
    "\n",
    "    # Project is specified by <entity/project-name>\n",
    "    runs = api.sweep(project+'/'+sweepid).runs\n",
    "\n",
    "    summary_list, config_list, name_list, ids = [], [], [], []\n",
    "    for run in runs: \n",
    "        # .summary contains the output keys/values for metrics like accuracy.\n",
    "        #  We call ._json_dict to omit large files\n",
    "\n",
    "        if run.config['endpoints'] == endpoints:\n",
    "\n",
    "            summary_list.append(run.summary._json_dict)\n",
    "\n",
    "            # .config contains the hyperparameters.\n",
    "            #  We remove special values that start with _.\n",
    "            config_list.append(\n",
    "                {k: v for k,v in run.config.items()\n",
    "                if not k.startswith('_')})\n",
    "\n",
    "            # .name is the human-readable name of the run.\n",
    "            name_list.append(run.name)\n",
    "            ids.append(run.id)\n",
    "\n",
    "    return pd.DataFrame({\n",
    "        \"summary\": summary_list,\n",
    "        \"config\": config_list,\n",
    "        \"name\": name_list,\n",
    "        \"run_ids\": ids,\n",
    "        'sweepid': sweepid\n",
    "        })"
   ]
  },
  {
   "cell_type": "code",
   "execution_count": 3,
   "metadata": {},
   "outputs": [],
   "source": [
    "def LoadArtifact(wandbrun, runid, entity, project, artifact_name, fname, version, type, save_cls_embeddings):\n",
    "    if os.path.isdir(f'./artifacts/run-{runid}-{artifact_name}-{version}'):\n",
    "        jsonfile = json.load(open(f'./artifacts/run-{runid}-{artifact_name}-{version}/{fname}.table.json'))\n",
    "    else:\n",
    "        artifact = wandbrun.use_artifact(f'{entity}/{project}/run-{runid}-{artifact_name}:{version}', type=type)\n",
    "        artifact_dir = artifact.download()\n",
    "        jsonfile = json.load(open(f'{artifact_dir}/{fname}.table.json'))\n",
    "\n",
    "    cols = jsonfile['columns']\n",
    "    data = jsonfile['data']\n",
    "    df = pd.DataFrame(data=data, columns=cols)\n",
    "\n",
    "    columns=['internal_id', 'Conc_sign', 'species_group', 'Pubchem_CID', 'xlogp', 'mw', 'Canonical_SMILES','Lineage','OneHotEnc_effect','OneHotEnc_endpoint']\n",
    "    \n",
    "    if save_cls_embeddings == False:\n",
    "        print('Dropping CLS embeddings\\n')\n",
    "        columns.append('CLS_embeddings')\n",
    "\n",
    "    for col in columns:\n",
    "        try:\n",
    "            df.drop(columns=col, inplace=True)\n",
    "        except:\n",
    "            pass\n",
    "\n",
    "\n",
    "    return df"
   ]
  },
  {
   "cell_type": "code",
   "execution_count": 4,
   "metadata": {},
   "outputs": [],
   "source": [
    "def CombineKFoldPredictions(wandbrun, runs_df, project, version, artifact_name, name, save_cls_embeddings):\n",
    "\n",
    "    df = LoadArtifact(\n",
    "            wandbrun = wandbrun, \n",
    "            runid= runs_df.run_ids[0], \n",
    "            entity = 'ecotoxformer', \n",
    "            project = project, \n",
    "            artifact_name = artifact_name, \n",
    "            fname = name,\n",
    "            version = version,\n",
    "            type = 'run_table',\n",
    "            save_cls_embeddings=save_cls_embeddings)\n",
    "    \n",
    "    df[['seed', 'fold_id']] = [runs_df.config[0]['seed'], runs_df.config[0]['fold_id']]\n",
    "\n",
    "    for i in tqdm(range(1,len(runs_df),1)):\n",
    "        df2 = LoadArtifact(\n",
    "            wandbrun = wandbrun, \n",
    "            runid= runs_df.run_ids[i], \n",
    "            entity = 'ecotoxformer', \n",
    "            project = project, \n",
    "            artifact_name = artifact_name, \n",
    "            fname = name,\n",
    "            version = version,\n",
    "            type = 'run_table',\n",
    "            save_cls_embeddings=save_cls_embeddings)\n",
    "\n",
    "        df2[['seed', 'fold_id']] = [runs_df.config[i]['seed'], runs_df.config[i]['fold_id']]\n",
    "\n",
    "        df = pd.concat([df, df2], ignore_index=True)\n",
    "\n",
    "    return df\n",
    "\n",
    "def CombinePredictions(wandbrun, runs_df, project, version, artifact_name, name, save_cls_embeddings):\n",
    "\n",
    "    df = LoadArtifact(\n",
    "            wandbrun = wandbrun, \n",
    "            runid= runs_df.run_ids[0], \n",
    "            entity = 'ecotoxformer', \n",
    "            project = project, \n",
    "            artifact_name = artifact_name, \n",
    "            fname = name,\n",
    "            version = version,\n",
    "            type = 'run_table',\n",
    "            save_cls_embeddings=save_cls_embeddings)\n",
    "    \n",
    "    df[['base_model', 'loss_fun']] = [runs_df['base_model'][0], runs_df['loss_fun'][0]]\n",
    "    for i in tqdm(range(1,len(runs_df),1)):\n",
    "        df2 = LoadArtifact(\n",
    "            wandbrun = wandbrun, \n",
    "            runid= runs_df.run_ids[i], \n",
    "            entity = 'ecotoxformer', \n",
    "            project = project, \n",
    "            artifact_name = artifact_name, \n",
    "            fname = name,\n",
    "            version = version,\n",
    "            type = 'run_table',\n",
    "            save_cls_embeddings=save_cls_embeddings)\n",
    "        df2[['base_model', 'loss_fun']] = [runs_df['base_model'][i], runs_df['loss_fun'][i]]\n",
    "        df = pd.concat([df, df2], ignore_index=True)\n",
    "\n",
    "    return df"
   ]
  },
  {
   "cell_type": "code",
   "execution_count": 5,
   "metadata": {},
   "outputs": [
    {
     "name": "stderr",
     "output_type": "stream",
     "text": [
      "Failed to detect the name of this notebook, you can set it manually with the WANDB_NOTEBOOK_NAME environment variable to enable code saving.\n",
      "\u001b[34m\u001b[1mwandb\u001b[0m: Currently logged in as: \u001b[33mstyrbjornkall\u001b[0m. Use \u001b[1m`wandb login --relogin`\u001b[0m to force relogin\n"
     ]
    },
    {
     "data": {
      "text/plain": [
       "True"
      ]
     },
     "execution_count": 5,
     "metadata": {},
     "output_type": "execute_result"
    }
   ],
   "source": [
    "wandb.login()"
   ]
  },
  {
   "cell_type": "code",
   "execution_count": 6,
   "metadata": {},
   "outputs": [
    {
     "data": {
      "text/html": [
       "wandb version 0.15.8 is available!  To upgrade, please run:\n",
       " $ pip install wandb --upgrade"
      ],
      "text/plain": [
       "<IPython.core.display.HTML object>"
      ]
     },
     "metadata": {},
     "output_type": "display_data"
    },
    {
     "data": {
      "text/html": [
       "Tracking run with wandb version 0.13.6"
      ],
      "text/plain": [
       "<IPython.core.display.HTML object>"
      ]
     },
     "metadata": {},
     "output_type": "display_data"
    },
    {
     "data": {
      "text/html": [
       "Run data is saved locally in <code>c:\\Users\\Styrbjörn Käll\\Documents\\Chalmers\\TRIDENT\\development\\figures\\wandb\\run-20230809_153835-1rth4man</code>"
      ],
      "text/plain": [
       "<IPython.core.display.HTML object>"
      ]
     },
     "metadata": {},
     "output_type": "display_data"
    },
    {
     "data": {
      "text/html": [
       "Syncing run <strong><a href=\"https://wandb.ai/styrbjornkall/artifacts-analysis/runs/1rth4man\" target=\"_blank\">prime-dragon-43</a></strong> to <a href=\"https://wandb.ai/styrbjornkall/artifacts-analysis\" target=\"_blank\">Weights & Biases</a> (<a href=\"https://wandb.me/run\" target=\"_blank\">docs</a>)<br/>"
      ],
      "text/plain": [
       "<IPython.core.display.HTML object>"
      ]
     },
     "metadata": {},
     "output_type": "display_data"
    }
   ],
   "source": [
    "wandbrun = wandb.init(project=\"artifacts-analysis\", job_type='tmp_run')"
   ]
  },
  {
   "cell_type": "code",
   "execution_count": 7,
   "metadata": {},
   "outputs": [],
   "source": [
    "PROJECT_NAME = '100Fold_CV_RDKit_invertebrates'\n",
    "SWEEP_ID = 'u1c9loib'\n",
    "ENDPOINT = ['EC50','EC10','NOEC']\n",
    "SAVE_CLS_EMBEDDINGS = False\n",
    "ARTIFACT_NAME = 'BestValidationResults'\n",
    "DOWNLOADED_ARTIFACT_NAME = 'Best Validation Results' #Split ARTIFACT_NAME by capital letters\n",
    "ARTIFACT_VERSION = 'v0'\n",
    "FILENAME = f'EC50EC10_invertebrates_withoverlap_predictions_100x_CV_RDKit' #Filename to which results will be saved"
   ]
  },
  {
   "cell_type": "code",
   "execution_count": 8,
   "metadata": {},
   "outputs": [],
   "source": [
    "runs_df = GetRuns(project=f\"ecotoxformer/{PROJECT_NAME}/\", sweepid=SWEEP_ID, endpoints=ENDPOINT)"
   ]
  },
  {
   "cell_type": "code",
   "execution_count": 9,
   "metadata": {},
   "outputs": [
    {
     "data": {
      "text/html": [
       "<div>\n",
       "<style scoped>\n",
       "    .dataframe tbody tr th:only-of-type {\n",
       "        vertical-align: middle;\n",
       "    }\n",
       "\n",
       "    .dataframe tbody tr th {\n",
       "        vertical-align: top;\n",
       "    }\n",
       "\n",
       "    .dataframe thead th {\n",
       "        text-align: right;\n",
       "    }\n",
       "</style>\n",
       "<table border=\"1\" class=\"dataframe\">\n",
       "  <thead>\n",
       "    <tr style=\"text-align: right;\">\n",
       "      <th></th>\n",
       "      <th>summary</th>\n",
       "      <th>config</th>\n",
       "      <th>name</th>\n",
       "      <th>run_ids</th>\n",
       "      <th>sweepid</th>\n",
       "    </tr>\n",
       "  </thead>\n",
       "  <tbody>\n",
       "    <tr>\n",
       "      <th>0</th>\n",
       "      <td>{'Training df': {'path': 'media/table/Training...</td>\n",
       "      <td>{'lr': 0.0002, 'seed': 44, 'label': 'mgperL', ...</td>\n",
       "      <td>silver-sweep-100</td>\n",
       "      <td>fr33fhmi</td>\n",
       "      <td>u1c9loib</td>\n",
       "    </tr>\n",
       "    <tr>\n",
       "      <th>1</th>\n",
       "      <td>{'Learning Rate': 0, 'validation epoch': 39, '...</td>\n",
       "      <td>{'lr': 0.0002, 'seed': 43, 'label': 'mgperL', ...</td>\n",
       "      <td>neat-sweep-99</td>\n",
       "      <td>v6h9qwrx</td>\n",
       "      <td>u1c9loib</td>\n",
       "    </tr>\n",
       "    <tr>\n",
       "      <th>2</th>\n",
       "      <td>{'training epoch': 39, 'Validation Median Loss...</td>\n",
       "      <td>{'lr': 0.0002, 'seed': 42, 'label': 'mgperL', ...</td>\n",
       "      <td>wandering-sweep-98</td>\n",
       "      <td>n5q9w1qg</td>\n",
       "      <td>u1c9loib</td>\n",
       "    </tr>\n",
       "    <tr>\n",
       "      <th>3</th>\n",
       "      <td>{'Training Loss function': 0.3971881876731741,...</td>\n",
       "      <td>{'lr': 0.0002, 'seed': 41, 'label': 'mgperL', ...</td>\n",
       "      <td>fresh-sweep-97</td>\n",
       "      <td>wsql82ql</td>\n",
       "      <td>u1c9loib</td>\n",
       "    </tr>\n",
       "    <tr>\n",
       "      <th>4</th>\n",
       "      <td>{'Training Loss function': 0.3986595672639934,...</td>\n",
       "      <td>{'lr': 0.0002, 'seed': 50, 'label': 'mgperL', ...</td>\n",
       "      <td>sage-sweep-96</td>\n",
       "      <td>9va03qnq</td>\n",
       "      <td>u1c9loib</td>\n",
       "    </tr>\n",
       "    <tr>\n",
       "      <th>...</th>\n",
       "      <td>...</td>\n",
       "      <td>...</td>\n",
       "      <td>...</td>\n",
       "      <td>...</td>\n",
       "      <td>...</td>\n",
       "    </tr>\n",
       "    <tr>\n",
       "      <th>95</th>\n",
       "      <td>{'_step': 3602, 'Training df': {'nrows': 44358...</td>\n",
       "      <td>{'lr': 0.0002, 'seed': 45, 'label': 'mgperL', ...</td>\n",
       "      <td>swift-sweep-5</td>\n",
       "      <td>oicbyak6</td>\n",
       "      <td>u1c9loib</td>\n",
       "    </tr>\n",
       "    <tr>\n",
       "      <th>96</th>\n",
       "      <td>{'Validation Mean Loss': 0.7832218408584595, '...</td>\n",
       "      <td>{'lr': 0.0002, 'seed': 43, 'label': 'mgperL', ...</td>\n",
       "      <td>stellar-sweep-3</td>\n",
       "      <td>k6rnxzu9</td>\n",
       "      <td>u1c9loib</td>\n",
       "    </tr>\n",
       "    <tr>\n",
       "      <th>97</th>\n",
       "      <td>{'Validation Loss function': 0.724690765142440...</td>\n",
       "      <td>{'lr': 0.0002, 'seed': 44, 'label': 'mgperL', ...</td>\n",
       "      <td>young-sweep-4</td>\n",
       "      <td>ndyab7l8</td>\n",
       "      <td>u1c9loib</td>\n",
       "    </tr>\n",
       "    <tr>\n",
       "      <th>98</th>\n",
       "      <td>{'Learning Rate': 0, 'Training Median Loss': 0...</td>\n",
       "      <td>{'lr': 0.0002, 'seed': 42, 'label': 'mgperL', ...</td>\n",
       "      <td>youthful-sweep-2</td>\n",
       "      <td>3v9gknqk</td>\n",
       "      <td>u1c9loib</td>\n",
       "    </tr>\n",
       "    <tr>\n",
       "      <th>99</th>\n",
       "      <td>{'Training Batch Loss': 0.45420295000076294, '...</td>\n",
       "      <td>{'lr': 0.0002, 'seed': 41, 'label': 'mgperL', ...</td>\n",
       "      <td>ruby-sweep-1</td>\n",
       "      <td>cj74v3kh</td>\n",
       "      <td>u1c9loib</td>\n",
       "    </tr>\n",
       "  </tbody>\n",
       "</table>\n",
       "<p>100 rows × 5 columns</p>\n",
       "</div>"
      ],
      "text/plain": [
       "                                              summary  \\\n",
       "0   {'Training df': {'path': 'media/table/Training...   \n",
       "1   {'Learning Rate': 0, 'validation epoch': 39, '...   \n",
       "2   {'training epoch': 39, 'Validation Median Loss...   \n",
       "3   {'Training Loss function': 0.3971881876731741,...   \n",
       "4   {'Training Loss function': 0.3986595672639934,...   \n",
       "..                                                ...   \n",
       "95  {'_step': 3602, 'Training df': {'nrows': 44358...   \n",
       "96  {'Validation Mean Loss': 0.7832218408584595, '...   \n",
       "97  {'Validation Loss function': 0.724690765142440...   \n",
       "98  {'Learning Rate': 0, 'Training Median Loss': 0...   \n",
       "99  {'Training Batch Loss': 0.45420295000076294, '...   \n",
       "\n",
       "                                               config                name  \\\n",
       "0   {'lr': 0.0002, 'seed': 44, 'label': 'mgperL', ...    silver-sweep-100   \n",
       "1   {'lr': 0.0002, 'seed': 43, 'label': 'mgperL', ...       neat-sweep-99   \n",
       "2   {'lr': 0.0002, 'seed': 42, 'label': 'mgperL', ...  wandering-sweep-98   \n",
       "3   {'lr': 0.0002, 'seed': 41, 'label': 'mgperL', ...      fresh-sweep-97   \n",
       "4   {'lr': 0.0002, 'seed': 50, 'label': 'mgperL', ...       sage-sweep-96   \n",
       "..                                                ...                 ...   \n",
       "95  {'lr': 0.0002, 'seed': 45, 'label': 'mgperL', ...       swift-sweep-5   \n",
       "96  {'lr': 0.0002, 'seed': 43, 'label': 'mgperL', ...     stellar-sweep-3   \n",
       "97  {'lr': 0.0002, 'seed': 44, 'label': 'mgperL', ...       young-sweep-4   \n",
       "98  {'lr': 0.0002, 'seed': 42, 'label': 'mgperL', ...    youthful-sweep-2   \n",
       "99  {'lr': 0.0002, 'seed': 41, 'label': 'mgperL', ...        ruby-sweep-1   \n",
       "\n",
       "     run_ids   sweepid  \n",
       "0   fr33fhmi  u1c9loib  \n",
       "1   v6h9qwrx  u1c9loib  \n",
       "2   n5q9w1qg  u1c9loib  \n",
       "3   wsql82ql  u1c9loib  \n",
       "4   9va03qnq  u1c9loib  \n",
       "..       ...       ...  \n",
       "95  oicbyak6  u1c9loib  \n",
       "96  k6rnxzu9  u1c9loib  \n",
       "97  ndyab7l8  u1c9loib  \n",
       "98  3v9gknqk  u1c9loib  \n",
       "99  cj74v3kh  u1c9loib  \n",
       "\n",
       "[100 rows x 5 columns]"
      ]
     },
     "execution_count": 9,
     "metadata": {},
     "output_type": "execute_result"
    }
   ],
   "source": [
    "runs_df"
   ]
  },
  {
   "cell_type": "markdown",
   "metadata": {},
   "source": [
    "K-Fold CV"
   ]
  },
  {
   "cell_type": "code",
   "execution_count": 10,
   "metadata": {},
   "outputs": [
    {
     "name": "stderr",
     "output_type": "stream",
     "text": [
      "\u001b[34m\u001b[1mwandb\u001b[0m:   1 of 1 files downloaded.  \n"
     ]
    },
    {
     "name": "stdout",
     "output_type": "stream",
     "text": [
      "Dropping CLS embeddings\n",
      "\n"
     ]
    },
    {
     "data": {
      "application/vnd.jupyter.widget-view+json": {
       "model_id": "52a92c8603ad4503a590216aaddc6f2e",
       "version_major": 2,
       "version_minor": 0
      },
      "text/plain": [
       "  0%|          | 0/99 [00:00<?, ?it/s]"
      ]
     },
     "metadata": {},
     "output_type": "display_data"
    },
    {
     "name": "stderr",
     "output_type": "stream",
     "text": [
      "\u001b[34m\u001b[1mwandb\u001b[0m:   1 of 1 files downloaded.  \n"
     ]
    },
    {
     "name": "stdout",
     "output_type": "stream",
     "text": [
      "Dropping CLS embeddings\n",
      "\n"
     ]
    },
    {
     "name": "stderr",
     "output_type": "stream",
     "text": [
      "\u001b[34m\u001b[1mwandb\u001b[0m:   1 of 1 files downloaded.  \n"
     ]
    },
    {
     "name": "stdout",
     "output_type": "stream",
     "text": [
      "Dropping CLS embeddings\n",
      "\n"
     ]
    },
    {
     "name": "stderr",
     "output_type": "stream",
     "text": [
      "\u001b[34m\u001b[1mwandb\u001b[0m:   1 of 1 files downloaded.  \n"
     ]
    },
    {
     "name": "stdout",
     "output_type": "stream",
     "text": [
      "Dropping CLS embeddings\n",
      "\n"
     ]
    },
    {
     "name": "stderr",
     "output_type": "stream",
     "text": [
      "\u001b[34m\u001b[1mwandb\u001b[0m:   1 of 1 files downloaded.  \n"
     ]
    },
    {
     "name": "stdout",
     "output_type": "stream",
     "text": [
      "Dropping CLS embeddings\n",
      "\n"
     ]
    },
    {
     "name": "stderr",
     "output_type": "stream",
     "text": [
      "\u001b[34m\u001b[1mwandb\u001b[0m:   1 of 1 files downloaded.  \n"
     ]
    },
    {
     "name": "stdout",
     "output_type": "stream",
     "text": [
      "Dropping CLS embeddings\n",
      "\n"
     ]
    },
    {
     "name": "stderr",
     "output_type": "stream",
     "text": [
      "\u001b[34m\u001b[1mwandb\u001b[0m:   1 of 1 files downloaded.  \n"
     ]
    },
    {
     "name": "stdout",
     "output_type": "stream",
     "text": [
      "Dropping CLS embeddings\n",
      "\n"
     ]
    },
    {
     "name": "stderr",
     "output_type": "stream",
     "text": [
      "\u001b[34m\u001b[1mwandb\u001b[0m:   1 of 1 files downloaded.  \n"
     ]
    },
    {
     "name": "stdout",
     "output_type": "stream",
     "text": [
      "Dropping CLS embeddings\n",
      "\n"
     ]
    },
    {
     "name": "stderr",
     "output_type": "stream",
     "text": [
      "\u001b[34m\u001b[1mwandb\u001b[0m:   1 of 1 files downloaded.  \n"
     ]
    },
    {
     "name": "stdout",
     "output_type": "stream",
     "text": [
      "Dropping CLS embeddings\n",
      "\n"
     ]
    },
    {
     "name": "stderr",
     "output_type": "stream",
     "text": [
      "\u001b[34m\u001b[1mwandb\u001b[0m:   1 of 1 files downloaded.  \n"
     ]
    },
    {
     "name": "stdout",
     "output_type": "stream",
     "text": [
      "Dropping CLS embeddings\n",
      "\n",
      "Dropping CLS embeddings\n",
      "\n",
      "Dropping CLS embeddings\n",
      "\n",
      "Dropping CLS embeddings\n",
      "\n",
      "Dropping CLS embeddings\n",
      "\n",
      "Dropping CLS embeddings\n",
      "\n",
      "Dropping CLS embeddings\n",
      "\n",
      "Dropping CLS embeddings\n",
      "\n",
      "Dropping CLS embeddings\n",
      "\n",
      "Dropping CLS embeddings\n",
      "\n",
      "Dropping CLS embeddings\n",
      "\n",
      "Dropping CLS embeddings\n",
      "\n",
      "Dropping CLS embeddings\n",
      "\n",
      "Dropping CLS embeddings\n",
      "\n",
      "Dropping CLS embeddings\n",
      "\n",
      "Dropping CLS embeddings\n",
      "\n",
      "Dropping CLS embeddings\n",
      "\n",
      "Dropping CLS embeddings\n",
      "\n",
      "Dropping CLS embeddings\n",
      "\n",
      "Dropping CLS embeddings\n",
      "\n",
      "Dropping CLS embeddings\n",
      "\n",
      "Dropping CLS embeddings\n",
      "\n",
      "Dropping CLS embeddings\n",
      "\n",
      "Dropping CLS embeddings\n",
      "\n",
      "Dropping CLS embeddings\n",
      "\n",
      "Dropping CLS embeddings\n",
      "\n",
      "Dropping CLS embeddings\n",
      "\n",
      "Dropping CLS embeddings\n",
      "\n",
      "Dropping CLS embeddings\n",
      "\n",
      "Dropping CLS embeddings\n",
      "\n",
      "Dropping CLS embeddings\n",
      "\n",
      "Dropping CLS embeddings\n",
      "\n",
      "Dropping CLS embeddings\n",
      "\n",
      "Dropping CLS embeddings\n",
      "\n",
      "Dropping CLS embeddings\n",
      "\n",
      "Dropping CLS embeddings\n",
      "\n",
      "Dropping CLS embeddings\n",
      "\n"
     ]
    },
    {
     "name": "stderr",
     "output_type": "stream",
     "text": [
      "\u001b[34m\u001b[1mwandb\u001b[0m: Downloading large artifact run-x420euz8-BestValidationResults:v0, 95.20MB. 1 files... \n",
      "\u001b[34m\u001b[1mwandb\u001b[0m:   1 of 1 files downloaded.  \n",
      "Done. 0:0:22.7\n"
     ]
    },
    {
     "name": "stdout",
     "output_type": "stream",
     "text": [
      "Dropping CLS embeddings\n",
      "\n"
     ]
    },
    {
     "name": "stderr",
     "output_type": "stream",
     "text": [
      "\u001b[34m\u001b[1mwandb\u001b[0m: Downloading large artifact run-4wowu0z7-BestValidationResults:v0, 67.76MB. 1 files... \n",
      "\u001b[34m\u001b[1mwandb\u001b[0m:   1 of 1 files downloaded.  \n",
      "Done. 0:0:15.0\n"
     ]
    },
    {
     "name": "stdout",
     "output_type": "stream",
     "text": [
      "Dropping CLS embeddings\n",
      "\n"
     ]
    },
    {
     "name": "stderr",
     "output_type": "stream",
     "text": [
      "\u001b[34m\u001b[1mwandb\u001b[0m: Downloading large artifact run-6jti1h9b-BestValidationResults:v0, 77.84MB. 1 files... \n",
      "\u001b[34m\u001b[1mwandb\u001b[0m:   1 of 1 files downloaded.  \n",
      "Done. 0:0:24.5\n"
     ]
    },
    {
     "name": "stdout",
     "output_type": "stream",
     "text": [
      "Dropping CLS embeddings\n",
      "\n"
     ]
    },
    {
     "name": "stderr",
     "output_type": "stream",
     "text": [
      "\u001b[34m\u001b[1mwandb\u001b[0m: Downloading large artifact run-f3lrqr95-BestValidationResults:v0, 73.91MB. 1 files... \n",
      "\u001b[34m\u001b[1mwandb\u001b[0m:   1 of 1 files downloaded.  \n",
      "Done. 0:0:19.7\n"
     ]
    },
    {
     "name": "stdout",
     "output_type": "stream",
     "text": [
      "Dropping CLS embeddings\n",
      "\n"
     ]
    },
    {
     "name": "stderr",
     "output_type": "stream",
     "text": [
      "\u001b[34m\u001b[1mwandb\u001b[0m: Downloading large artifact run-m0ktts82-BestValidationResults:v0, 58.09MB. 1 files... \n",
      "\u001b[34m\u001b[1mwandb\u001b[0m:   1 of 1 files downloaded.  \n",
      "Done. 0:0:19.6\n"
     ]
    },
    {
     "name": "stdout",
     "output_type": "stream",
     "text": [
      "Dropping CLS embeddings\n",
      "\n"
     ]
    },
    {
     "name": "stderr",
     "output_type": "stream",
     "text": [
      "\u001b[34m\u001b[1mwandb\u001b[0m: Downloading large artifact run-rbsozyqi-BestValidationResults:v0, 107.56MB. 1 files... \n",
      "\u001b[34m\u001b[1mwandb\u001b[0m:   1 of 1 files downloaded.  \n",
      "Done. 0:0:43.6\n"
     ]
    },
    {
     "name": "stdout",
     "output_type": "stream",
     "text": [
      "Dropping CLS embeddings\n",
      "\n"
     ]
    },
    {
     "name": "stderr",
     "output_type": "stream",
     "text": [
      "\u001b[34m\u001b[1mwandb\u001b[0m: Downloading large artifact run-st7wht7j-BestValidationResults:v0, 80.32MB. 1 files... \n",
      "\u001b[34m\u001b[1mwandb\u001b[0m:   1 of 1 files downloaded.  \n",
      "Done. 0:0:54.4\n"
     ]
    },
    {
     "name": "stdout",
     "output_type": "stream",
     "text": [
      "Dropping CLS embeddings\n",
      "\n"
     ]
    },
    {
     "name": "stderr",
     "output_type": "stream",
     "text": [
      "\u001b[34m\u001b[1mwandb\u001b[0m: Downloading large artifact run-x6rmbos8-BestValidationResults:v0, 77.58MB. 1 files... \n",
      "\u001b[34m\u001b[1mwandb\u001b[0m:   1 of 1 files downloaded.  \n",
      "Done. 0:0:22.6\n"
     ]
    },
    {
     "name": "stdout",
     "output_type": "stream",
     "text": [
      "Dropping CLS embeddings\n",
      "\n"
     ]
    },
    {
     "name": "stderr",
     "output_type": "stream",
     "text": [
      "\u001b[34m\u001b[1mwandb\u001b[0m: Downloading large artifact run-z7ov0t5l-BestValidationResults:v0, 61.41MB. 1 files... \n",
      "\u001b[34m\u001b[1mwandb\u001b[0m:   1 of 1 files downloaded.  \n",
      "Done. 0:0:38.4\n"
     ]
    },
    {
     "name": "stdout",
     "output_type": "stream",
     "text": [
      "Dropping CLS embeddings\n",
      "\n"
     ]
    },
    {
     "name": "stderr",
     "output_type": "stream",
     "text": [
      "\u001b[34m\u001b[1mwandb\u001b[0m: Downloading large artifact run-u1gmwyur-BestValidationResults:v0, 62.82MB. 1 files... \n",
      "\u001b[34m\u001b[1mwandb\u001b[0m:   1 of 1 files downloaded.  \n",
      "Done. 0:0:24.2\n"
     ]
    },
    {
     "name": "stdout",
     "output_type": "stream",
     "text": [
      "Dropping CLS embeddings\n",
      "\n"
     ]
    },
    {
     "name": "stderr",
     "output_type": "stream",
     "text": [
      "\u001b[34m\u001b[1mwandb\u001b[0m: Downloading large artifact run-7dtbxm3f-BestValidationResults:v0, 75.98MB. 1 files... \n",
      "\u001b[34m\u001b[1mwandb\u001b[0m:   1 of 1 files downloaded.  \n",
      "Done. 0:0:18.9\n"
     ]
    },
    {
     "name": "stdout",
     "output_type": "stream",
     "text": [
      "Dropping CLS embeddings\n",
      "\n"
     ]
    },
    {
     "name": "stderr",
     "output_type": "stream",
     "text": [
      "\u001b[34m\u001b[1mwandb\u001b[0m: Downloading large artifact run-lyxlv6v1-BestValidationResults:v0, 69.80MB. 1 files... \n",
      "\u001b[34m\u001b[1mwandb\u001b[0m:   1 of 1 files downloaded.  \n",
      "Done. 0:0:20.0\n"
     ]
    },
    {
     "name": "stdout",
     "output_type": "stream",
     "text": [
      "Dropping CLS embeddings\n",
      "\n"
     ]
    },
    {
     "name": "stderr",
     "output_type": "stream",
     "text": [
      "\u001b[34m\u001b[1mwandb\u001b[0m: Downloading large artifact run-ln8ayztz-BestValidationResults:v0, 63.10MB. 1 files... \n",
      "\u001b[34m\u001b[1mwandb\u001b[0m:   1 of 1 files downloaded.  \n",
      "Done. 0:0:22.6\n"
     ]
    },
    {
     "name": "stdout",
     "output_type": "stream",
     "text": [
      "Dropping CLS embeddings\n",
      "\n"
     ]
    },
    {
     "name": "stderr",
     "output_type": "stream",
     "text": [
      "\u001b[34m\u001b[1mwandb\u001b[0m: Downloading large artifact run-a45jyn24-BestValidationResults:v0, 77.69MB. 1 files... \n",
      "\u001b[34m\u001b[1mwandb\u001b[0m:   1 of 1 files downloaded.  \n",
      "Done. 0:0:35.8\n"
     ]
    },
    {
     "name": "stdout",
     "output_type": "stream",
     "text": [
      "Dropping CLS embeddings\n",
      "\n"
     ]
    },
    {
     "name": "stderr",
     "output_type": "stream",
     "text": [
      "\u001b[34m\u001b[1mwandb\u001b[0m: Downloading large artifact run-56yao1z1-BestValidationResults:v0, 80.85MB. 1 files... \n",
      "\u001b[34m\u001b[1mwandb\u001b[0m:   1 of 1 files downloaded.  \n",
      "Done. 0:0:33.0\n"
     ]
    },
    {
     "name": "stdout",
     "output_type": "stream",
     "text": [
      "Dropping CLS embeddings\n",
      "\n"
     ]
    },
    {
     "name": "stderr",
     "output_type": "stream",
     "text": [
      "\u001b[34m\u001b[1mwandb\u001b[0m: Downloading large artifact run-bjmhozaf-BestValidationResults:v0, 94.62MB. 1 files... \n",
      "\u001b[34m\u001b[1mwandb\u001b[0m:   1 of 1 files downloaded.  \n",
      "Done. 0:0:33.3\n"
     ]
    },
    {
     "name": "stdout",
     "output_type": "stream",
     "text": [
      "Dropping CLS embeddings\n",
      "\n"
     ]
    },
    {
     "name": "stderr",
     "output_type": "stream",
     "text": [
      "\u001b[34m\u001b[1mwandb\u001b[0m: Downloading large artifact run-nf2fbx2l-BestValidationResults:v0, 75.65MB. 1 files... \n",
      "\u001b[34m\u001b[1mwandb\u001b[0m:   1 of 1 files downloaded.  \n",
      "Done. 0:0:22.8\n"
     ]
    },
    {
     "name": "stdout",
     "output_type": "stream",
     "text": [
      "Dropping CLS embeddings\n",
      "\n"
     ]
    },
    {
     "name": "stderr",
     "output_type": "stream",
     "text": [
      "\u001b[34m\u001b[1mwandb\u001b[0m: Downloading large artifact run-n4osomxz-BestValidationResults:v0, 87.94MB. 1 files... \n",
      "\u001b[34m\u001b[1mwandb\u001b[0m:   1 of 1 files downloaded.  \n",
      "Done. 0:0:28.2\n"
     ]
    },
    {
     "name": "stdout",
     "output_type": "stream",
     "text": [
      "Dropping CLS embeddings\n",
      "\n"
     ]
    },
    {
     "name": "stderr",
     "output_type": "stream",
     "text": [
      "\u001b[34m\u001b[1mwandb\u001b[0m: Downloading large artifact run-ehnyus33-BestValidationResults:v0, 96.13MB. 1 files... \n",
      "\u001b[34m\u001b[1mwandb\u001b[0m:   1 of 1 files downloaded.  \n",
      "Done. 0:0:24.6\n"
     ]
    },
    {
     "name": "stdout",
     "output_type": "stream",
     "text": [
      "Dropping CLS embeddings\n",
      "\n"
     ]
    },
    {
     "name": "stderr",
     "output_type": "stream",
     "text": [
      "\u001b[34m\u001b[1mwandb\u001b[0m: Downloading large artifact run-8hpel387-BestValidationResults:v0, 79.67MB. 1 files... \n",
      "\u001b[34m\u001b[1mwandb\u001b[0m:   1 of 1 files downloaded.  \n",
      "Done. 0:0:22.9\n"
     ]
    },
    {
     "name": "stdout",
     "output_type": "stream",
     "text": [
      "Dropping CLS embeddings\n",
      "\n"
     ]
    },
    {
     "name": "stderr",
     "output_type": "stream",
     "text": [
      "\u001b[34m\u001b[1mwandb\u001b[0m: Downloading large artifact run-r91adcnk-BestValidationResults:v0, 88.62MB. 1 files... \n",
      "\u001b[34m\u001b[1mwandb\u001b[0m:   1 of 1 files downloaded.  \n",
      "Done. 0:0:19.6\n"
     ]
    },
    {
     "name": "stdout",
     "output_type": "stream",
     "text": [
      "Dropping CLS embeddings\n",
      "\n"
     ]
    },
    {
     "name": "stderr",
     "output_type": "stream",
     "text": [
      "\u001b[34m\u001b[1mwandb\u001b[0m: Downloading large artifact run-v7k5snb7-BestValidationResults:v0, 83.58MB. 1 files... \n",
      "\u001b[34m\u001b[1mwandb\u001b[0m:   1 of 1 files downloaded.  \n",
      "Done. 0:0:21.6\n"
     ]
    },
    {
     "name": "stdout",
     "output_type": "stream",
     "text": [
      "Dropping CLS embeddings\n",
      "\n"
     ]
    },
    {
     "name": "stderr",
     "output_type": "stream",
     "text": [
      "\u001b[34m\u001b[1mwandb\u001b[0m: Downloading large artifact run-buvq4os4-BestValidationResults:v0, 99.14MB. 1 files... \n",
      "\u001b[34m\u001b[1mwandb\u001b[0m:   1 of 1 files downloaded.  \n",
      "Done. 0:0:21.8\n"
     ]
    },
    {
     "name": "stdout",
     "output_type": "stream",
     "text": [
      "Dropping CLS embeddings\n",
      "\n"
     ]
    },
    {
     "name": "stderr",
     "output_type": "stream",
     "text": [
      "\u001b[34m\u001b[1mwandb\u001b[0m: Downloading large artifact run-2z7xuxle-BestValidationResults:v0, 69.40MB. 1 files... \n",
      "\u001b[34m\u001b[1mwandb\u001b[0m:   1 of 1 files downloaded.  \n",
      "Done. 0:0:13.4\n"
     ]
    },
    {
     "name": "stdout",
     "output_type": "stream",
     "text": [
      "Dropping CLS embeddings\n",
      "\n"
     ]
    },
    {
     "name": "stderr",
     "output_type": "stream",
     "text": [
      "\u001b[34m\u001b[1mwandb\u001b[0m: Downloading large artifact run-52dg3y86-BestValidationResults:v0, 78.71MB. 1 files... \n",
      "\u001b[34m\u001b[1mwandb\u001b[0m:   1 of 1 files downloaded.  \n",
      "Done. 0:0:15.3\n"
     ]
    },
    {
     "name": "stdout",
     "output_type": "stream",
     "text": [
      "Dropping CLS embeddings\n",
      "\n"
     ]
    },
    {
     "name": "stderr",
     "output_type": "stream",
     "text": [
      "\u001b[34m\u001b[1mwandb\u001b[0m: Downloading large artifact run-5doyc2u7-BestValidationResults:v0, 68.85MB. 1 files... \n",
      "\u001b[34m\u001b[1mwandb\u001b[0m:   1 of 1 files downloaded.  \n",
      "Done. 0:0:13.6\n"
     ]
    },
    {
     "name": "stdout",
     "output_type": "stream",
     "text": [
      "Dropping CLS embeddings\n",
      "\n"
     ]
    },
    {
     "name": "stderr",
     "output_type": "stream",
     "text": [
      "\u001b[34m\u001b[1mwandb\u001b[0m: Downloading large artifact run-z5t5plx6-BestValidationResults:v0, 59.85MB. 1 files... \n",
      "\u001b[34m\u001b[1mwandb\u001b[0m:   1 of 1 files downloaded.  \n",
      "Done. 0:0:11.8\n"
     ]
    },
    {
     "name": "stdout",
     "output_type": "stream",
     "text": [
      "Dropping CLS embeddings\n",
      "\n"
     ]
    },
    {
     "name": "stderr",
     "output_type": "stream",
     "text": [
      "\u001b[34m\u001b[1mwandb\u001b[0m: Downloading large artifact run-cesrafor-BestValidationResults:v0, 79.01MB. 1 files... \n",
      "\u001b[34m\u001b[1mwandb\u001b[0m:   1 of 1 files downloaded.  \n",
      "Done. 0:0:14.0\n"
     ]
    },
    {
     "name": "stdout",
     "output_type": "stream",
     "text": [
      "Dropping CLS embeddings\n",
      "\n"
     ]
    },
    {
     "name": "stderr",
     "output_type": "stream",
     "text": [
      "\u001b[34m\u001b[1mwandb\u001b[0m: Downloading large artifact run-ts5m43tu-BestValidationResults:v0, 85.23MB. 1 files... \n",
      "\u001b[34m\u001b[1mwandb\u001b[0m:   1 of 1 files downloaded.  \n",
      "Done. 0:0:17.3\n"
     ]
    },
    {
     "name": "stdout",
     "output_type": "stream",
     "text": [
      "Dropping CLS embeddings\n",
      "\n"
     ]
    },
    {
     "name": "stderr",
     "output_type": "stream",
     "text": [
      "\u001b[34m\u001b[1mwandb\u001b[0m: Downloading large artifact run-w3dju3cg-BestValidationResults:v0, 70.26MB. 1 files... \n",
      "\u001b[34m\u001b[1mwandb\u001b[0m:   1 of 1 files downloaded.  \n",
      "Done. 0:0:14.7\n"
     ]
    },
    {
     "name": "stdout",
     "output_type": "stream",
     "text": [
      "Dropping CLS embeddings\n",
      "\n"
     ]
    },
    {
     "name": "stderr",
     "output_type": "stream",
     "text": [
      "\u001b[34m\u001b[1mwandb\u001b[0m: Downloading large artifact run-6039q96g-BestValidationResults:v0, 72.93MB. 1 files... \n",
      "\u001b[34m\u001b[1mwandb\u001b[0m:   1 of 1 files downloaded.  \n",
      "Done. 0:0:14.7\n"
     ]
    },
    {
     "name": "stdout",
     "output_type": "stream",
     "text": [
      "Dropping CLS embeddings\n",
      "\n"
     ]
    },
    {
     "name": "stderr",
     "output_type": "stream",
     "text": [
      "\u001b[34m\u001b[1mwandb\u001b[0m: Downloading large artifact run-eccil7o9-BestValidationResults:v0, 67.80MB. 1 files... \n",
      "\u001b[34m\u001b[1mwandb\u001b[0m:   1 of 1 files downloaded.  \n",
      "Done. 0:0:14.3\n"
     ]
    },
    {
     "name": "stdout",
     "output_type": "stream",
     "text": [
      "Dropping CLS embeddings\n",
      "\n"
     ]
    },
    {
     "name": "stderr",
     "output_type": "stream",
     "text": [
      "\u001b[34m\u001b[1mwandb\u001b[0m: Downloading large artifact run-1dnjfe79-BestValidationResults:v0, 72.32MB. 1 files... \n",
      "\u001b[34m\u001b[1mwandb\u001b[0m:   1 of 1 files downloaded.  \n",
      "Done. 0:0:14.1\n"
     ]
    },
    {
     "name": "stdout",
     "output_type": "stream",
     "text": [
      "Dropping CLS embeddings\n",
      "\n"
     ]
    },
    {
     "name": "stderr",
     "output_type": "stream",
     "text": [
      "\u001b[34m\u001b[1mwandb\u001b[0m: Downloading large artifact run-dnx7f8wk-BestValidationResults:v0, 76.60MB. 1 files... \n",
      "\u001b[34m\u001b[1mwandb\u001b[0m:   1 of 1 files downloaded.  \n",
      "Done. 0:0:17.8\n"
     ]
    },
    {
     "name": "stdout",
     "output_type": "stream",
     "text": [
      "Dropping CLS embeddings\n",
      "\n"
     ]
    },
    {
     "name": "stderr",
     "output_type": "stream",
     "text": [
      "\u001b[34m\u001b[1mwandb\u001b[0m: Downloading large artifact run-mqd3gt0s-BestValidationResults:v0, 61.66MB. 1 files... \n",
      "\u001b[34m\u001b[1mwandb\u001b[0m:   1 of 1 files downloaded.  \n",
      "Done. 0:0:13.8\n"
     ]
    },
    {
     "name": "stdout",
     "output_type": "stream",
     "text": [
      "Dropping CLS embeddings\n",
      "\n"
     ]
    },
    {
     "name": "stderr",
     "output_type": "stream",
     "text": [
      "\u001b[34m\u001b[1mwandb\u001b[0m: Downloading large artifact run-mhw8srzq-BestValidationResults:v0, 85.66MB. 1 files... \n",
      "\u001b[34m\u001b[1mwandb\u001b[0m:   1 of 1 files downloaded.  \n",
      "Done. 0:0:17.6\n"
     ]
    },
    {
     "name": "stdout",
     "output_type": "stream",
     "text": [
      "Dropping CLS embeddings\n",
      "\n"
     ]
    },
    {
     "name": "stderr",
     "output_type": "stream",
     "text": [
      "\u001b[34m\u001b[1mwandb\u001b[0m: Downloading large artifact run-ty4g6cnm-BestValidationResults:v0, 108.31MB. 1 files... \n",
      "\u001b[34m\u001b[1mwandb\u001b[0m:   1 of 1 files downloaded.  \n",
      "Done. 0:0:24.1\n"
     ]
    },
    {
     "name": "stdout",
     "output_type": "stream",
     "text": [
      "Dropping CLS embeddings\n",
      "\n"
     ]
    },
    {
     "name": "stderr",
     "output_type": "stream",
     "text": [
      "\u001b[34m\u001b[1mwandb\u001b[0m: Downloading large artifact run-z5prnd3r-BestValidationResults:v0, 88.73MB. 1 files... \n",
      "\u001b[34m\u001b[1mwandb\u001b[0m:   1 of 1 files downloaded.  \n",
      "Done. 0:0:19.9\n"
     ]
    },
    {
     "name": "stdout",
     "output_type": "stream",
     "text": [
      "Dropping CLS embeddings\n",
      "\n"
     ]
    },
    {
     "name": "stderr",
     "output_type": "stream",
     "text": [
      "\u001b[34m\u001b[1mwandb\u001b[0m: Downloading large artifact run-boi9zwix-BestValidationResults:v0, 60.81MB. 1 files... \n",
      "\u001b[34m\u001b[1mwandb\u001b[0m:   1 of 1 files downloaded.  \n",
      "Done. 0:0:14.8\n"
     ]
    },
    {
     "name": "stdout",
     "output_type": "stream",
     "text": [
      "Dropping CLS embeddings\n",
      "\n"
     ]
    },
    {
     "name": "stderr",
     "output_type": "stream",
     "text": [
      "\u001b[34m\u001b[1mwandb\u001b[0m: Downloading large artifact run-fur9zgt4-BestValidationResults:v0, 72.62MB. 1 files... \n",
      "\u001b[34m\u001b[1mwandb\u001b[0m:   1 of 1 files downloaded.  \n",
      "Done. 0:0:17.0\n"
     ]
    },
    {
     "name": "stdout",
     "output_type": "stream",
     "text": [
      "Dropping CLS embeddings\n",
      "\n"
     ]
    },
    {
     "name": "stderr",
     "output_type": "stream",
     "text": [
      "\u001b[34m\u001b[1mwandb\u001b[0m: Downloading large artifact run-kwq2vbc9-BestValidationResults:v0, 83.19MB. 1 files... \n",
      "\u001b[34m\u001b[1mwandb\u001b[0m:   1 of 1 files downloaded.  \n",
      "Done. 0:0:17.7\n"
     ]
    },
    {
     "name": "stdout",
     "output_type": "stream",
     "text": [
      "Dropping CLS embeddings\n",
      "\n"
     ]
    },
    {
     "name": "stderr",
     "output_type": "stream",
     "text": [
      "\u001b[34m\u001b[1mwandb\u001b[0m: Downloading large artifact run-a9i2yyhe-BestValidationResults:v0, 84.38MB. 1 files... \n",
      "\u001b[34m\u001b[1mwandb\u001b[0m:   1 of 1 files downloaded.  \n",
      "Done. 0:0:21.0\n"
     ]
    },
    {
     "name": "stdout",
     "output_type": "stream",
     "text": [
      "Dropping CLS embeddings\n",
      "\n"
     ]
    },
    {
     "name": "stderr",
     "output_type": "stream",
     "text": [
      "\u001b[34m\u001b[1mwandb\u001b[0m: Downloading large artifact run-jglxs80o-BestValidationResults:v0, 65.67MB. 1 files... \n",
      "\u001b[34m\u001b[1mwandb\u001b[0m:   1 of 1 files downloaded.  \n",
      "Done. 0:0:13.9\n"
     ]
    },
    {
     "name": "stdout",
     "output_type": "stream",
     "text": [
      "Dropping CLS embeddings\n",
      "\n"
     ]
    },
    {
     "name": "stderr",
     "output_type": "stream",
     "text": [
      "\u001b[34m\u001b[1mwandb\u001b[0m: Downloading large artifact run-3aafd2rr-BestValidationResults:v0, 63.86MB. 1 files... \n",
      "\u001b[34m\u001b[1mwandb\u001b[0m:   1 of 1 files downloaded.  \n",
      "Done. 0:0:14.7\n"
     ]
    },
    {
     "name": "stdout",
     "output_type": "stream",
     "text": [
      "Dropping CLS embeddings\n",
      "\n"
     ]
    },
    {
     "name": "stderr",
     "output_type": "stream",
     "text": [
      "\u001b[34m\u001b[1mwandb\u001b[0m: Downloading large artifact run-4fdqlnzs-BestValidationResults:v0, 79.21MB. 1 files... \n",
      "\u001b[34m\u001b[1mwandb\u001b[0m:   1 of 1 files downloaded.  \n",
      "Done. 0:0:17.0\n"
     ]
    },
    {
     "name": "stdout",
     "output_type": "stream",
     "text": [
      "Dropping CLS embeddings\n",
      "\n"
     ]
    },
    {
     "name": "stderr",
     "output_type": "stream",
     "text": [
      "\u001b[34m\u001b[1mwandb\u001b[0m: Downloading large artifact run-7scrkhuy-BestValidationResults:v0, 88.69MB. 1 files... \n",
      "\u001b[34m\u001b[1mwandb\u001b[0m:   1 of 1 files downloaded.  \n",
      "Done. 0:0:17.3\n"
     ]
    },
    {
     "name": "stdout",
     "output_type": "stream",
     "text": [
      "Dropping CLS embeddings\n",
      "\n"
     ]
    },
    {
     "name": "stderr",
     "output_type": "stream",
     "text": [
      "\u001b[34m\u001b[1mwandb\u001b[0m: Downloading large artifact run-kjpak4p7-BestValidationResults:v0, 61.10MB. 1 files... \n",
      "\u001b[34m\u001b[1mwandb\u001b[0m:   1 of 1 files downloaded.  \n",
      "Done. 0:0:13.0\n"
     ]
    },
    {
     "name": "stdout",
     "output_type": "stream",
     "text": [
      "Dropping CLS embeddings\n",
      "\n"
     ]
    },
    {
     "name": "stderr",
     "output_type": "stream",
     "text": [
      "\u001b[34m\u001b[1mwandb\u001b[0m: Downloading large artifact run-muz6u0t7-BestValidationResults:v0, 79.37MB. 1 files... \n",
      "\u001b[34m\u001b[1mwandb\u001b[0m:   1 of 1 files downloaded.  \n",
      "Done. 0:0:14.6\n"
     ]
    },
    {
     "name": "stdout",
     "output_type": "stream",
     "text": [
      "Dropping CLS embeddings\n",
      "\n"
     ]
    },
    {
     "name": "stderr",
     "output_type": "stream",
     "text": [
      "\u001b[34m\u001b[1mwandb\u001b[0m: Downloading large artifact run-wqkg1pnx-BestValidationResults:v0, 62.10MB. 1 files... \n",
      "\u001b[34m\u001b[1mwandb\u001b[0m:   1 of 1 files downloaded.  \n",
      "Done. 0:0:13.4\n"
     ]
    },
    {
     "name": "stdout",
     "output_type": "stream",
     "text": [
      "Dropping CLS embeddings\n",
      "\n"
     ]
    },
    {
     "name": "stderr",
     "output_type": "stream",
     "text": [
      "\u001b[34m\u001b[1mwandb\u001b[0m: Downloading large artifact run-oicbyak6-BestValidationResults:v0, 90.81MB. 1 files... \n",
      "\u001b[34m\u001b[1mwandb\u001b[0m:   1 of 1 files downloaded.  \n",
      "Done. 0:0:18.8\n"
     ]
    },
    {
     "name": "stdout",
     "output_type": "stream",
     "text": [
      "Dropping CLS embeddings\n",
      "\n"
     ]
    },
    {
     "name": "stderr",
     "output_type": "stream",
     "text": [
      "\u001b[34m\u001b[1mwandb\u001b[0m: Downloading large artifact run-k6rnxzu9-BestValidationResults:v0, 66.11MB. 1 files... \n",
      "\u001b[34m\u001b[1mwandb\u001b[0m:   1 of 1 files downloaded.  \n",
      "Done. 0:0:19.9\n"
     ]
    },
    {
     "name": "stdout",
     "output_type": "stream",
     "text": [
      "Dropping CLS embeddings\n",
      "\n"
     ]
    },
    {
     "name": "stderr",
     "output_type": "stream",
     "text": [
      "\u001b[34m\u001b[1mwandb\u001b[0m: Downloading large artifact run-ndyab7l8-BestValidationResults:v0, 59.31MB. 1 files... \n",
      "\u001b[34m\u001b[1mwandb\u001b[0m:   1 of 1 files downloaded.  \n",
      "Done. 0:0:22.4\n"
     ]
    },
    {
     "name": "stdout",
     "output_type": "stream",
     "text": [
      "Dropping CLS embeddings\n",
      "\n"
     ]
    },
    {
     "name": "stderr",
     "output_type": "stream",
     "text": [
      "\u001b[34m\u001b[1mwandb\u001b[0m: Downloading large artifact run-3v9gknqk-BestValidationResults:v0, 97.71MB. 1 files... \n",
      "\u001b[34m\u001b[1mwandb\u001b[0m:   1 of 1 files downloaded.  \n",
      "Done. 0:0:26.7\n"
     ]
    },
    {
     "name": "stdout",
     "output_type": "stream",
     "text": [
      "Dropping CLS embeddings\n",
      "\n"
     ]
    },
    {
     "name": "stderr",
     "output_type": "stream",
     "text": [
      "\u001b[34m\u001b[1mwandb\u001b[0m: Downloading large artifact run-cj74v3kh-BestValidationResults:v0, 77.68MB. 1 files... \n",
      "\u001b[34m\u001b[1mwandb\u001b[0m:   1 of 1 files downloaded.  \n",
      "Done. 0:0:24.9\n"
     ]
    },
    {
     "name": "stdout",
     "output_type": "stream",
     "text": [
      "Dropping CLS embeddings\n",
      "\n"
     ]
    }
   ],
   "source": [
    "concatenated_results = CombineKFoldPredictions(\n",
    "    wandbrun=wandbrun, \n",
    "    runs_df=runs_df,\n",
    "    project=PROJECT_NAME, \n",
    "    version=ARTIFACT_VERSION, \n",
    "    artifact_name=ARTIFACT_NAME,\n",
    "    name=DOWNLOADED_ARTIFACT_NAME,\n",
    "    save_cls_embeddings=SAVE_CLS_EMBEDDINGS)"
   ]
  },
  {
   "cell_type": "markdown",
   "metadata": {},
   "source": [
    "Base model runs"
   ]
  },
  {
   "cell_type": "code",
   "execution_count": null,
   "metadata": {},
   "outputs": [],
   "source": [
    "concatenated_results = pd.DataFrame()\n",
    "runs_df = pd.DataFrame(['56vivdmi','dl8u33ui','78lq56v1','128aaus7'], columns=['run_ids'])\n",
    "runs_df['loss_fun'] = ['L1Loss','L1Loss','MSELoss','MSELoss']\n",
    "runs_df['base_model'] = ['seyonec/SMILES_tokenized_PubChem_shard00_160k','seyonec/PubChem10M_SMILES_BPE_450k','seyonec/SMILES_tokenized_PubChem_shard00_160k','seyonec/PubChem10M_SMILES_BPE_450k']\n",
    "for i in tqdm(range(5)):\n",
    "    df = CombinePredictions(wandbrun, runs_df, 'base_model_sweep_RDKit', 'v0', f'BestValidationResults{i+1}', f'Best Validation Results {i+1}')\n",
    "    df['fold_id'] = i+1\n",
    "    concatenated_results = pd.concat([concatenated_results, df],ignore_index=True)"
   ]
  },
  {
   "cell_type": "markdown",
   "metadata": {},
   "source": [
    "Save results"
   ]
  },
  {
   "cell_type": "code",
   "execution_count": null,
   "metadata": {},
   "outputs": [],
   "source": [
    "concatenated_results.to_csv(f'../../data/results/{FILENAME}.csv.zip', index=False, compression='zip')"
   ]
  },
  {
   "cell_type": "code",
   "execution_count": 11,
   "metadata": {},
   "outputs": [],
   "source": [
    "concatenated_results.to_pickle(f'../../data/results/{FILENAME}.pkl.zip', compression='zip')"
   ]
  }
 ],
 "metadata": {
  "kernelspec": {
   "display_name": "fishbait",
   "language": "python",
   "name": "python3"
  },
  "language_info": {
   "codemirror_mode": {
    "name": "ipython",
    "version": 3
   },
   "file_extension": ".py",
   "mimetype": "text/x-python",
   "name": "python",
   "nbconvert_exporter": "python",
   "pygments_lexer": "ipython3",
   "version": "3.9.15"
  },
  "orig_nbformat": 4,
  "vscode": {
   "interpreter": {
    "hash": "c1514c81f3705f7107573a782eeac851e32c3c00fc4e7dabdb8a1c6e8ef21406"
   }
  }
 },
 "nbformat": 4,
 "nbformat_minor": 2
}
