{
 "cells": [
  {
   "attachments": {},
   "cell_type": "markdown",
   "metadata": {},
   "source": [
    "# Download artifacts/data from wandb for figure generation\n",
    "\n",
    "**Purpose:** This script is used to download artifacts from weights and biases for retrieving results for the 10x10 K-fold cross-validations and the chemberta version and loss-function sweeps.\n",
    "\n",
    "**Dependency:** `hyperparameter_sweep.ipynb`, `Kfold_crossvalidation_sweep.ipynb`. This script requires results being added to weights and biases. The chemberta version and loss function results (`hyperparameter_sweep.ipynb`) and the 10x10 K-fold cross-validation (`Kfold_crossvalidation_sweep.ipynb`).\n",
    "\n",
    "**Consecutive scripts:** After running this script the following scripts may be executed. `generate_figures_for_publication.ipynb`"
   ]
  },
  {
   "cell_type": "markdown",
   "metadata": {},
   "source": [
    "## Imports"
   ]
  },
  {
   "cell_type": "code",
   "execution_count": 11,
   "metadata": {},
   "outputs": [],
   "source": [
    "import pandas as pd\n",
    "import wandb\n",
    "import json\n",
    "from tqdm.notebook import tqdm"
   ]
  },
  {
   "cell_type": "markdown",
   "metadata": {},
   "source": [
    "## Download"
   ]
  },
  {
   "cell_type": "code",
   "execution_count": 2,
   "metadata": {},
   "outputs": [],
   "source": [
    "def GetRuns(project, sweepid, endpoints):\n",
    "\n",
    "    api = wandb.Api()\n",
    "\n",
    "    # Project is specified by <entity/project-name>\n",
    "    runs = api.sweep(project+'/'+sweepid).runs\n",
    "\n",
    "    summary_list, config_list, name_list, ids = [], [], [], []\n",
    "    for run in runs: \n",
    "        # .summary contains the output keys/values for metrics like accuracy.\n",
    "        #  We call ._json_dict to omit large files\n",
    "\n",
    "        if run.config['endpoints'] == endpoints:\n",
    "\n",
    "            summary_list.append(run.summary._json_dict)\n",
    "\n",
    "            # .config contains the hyperparameters.\n",
    "            #  We remove special values that start with _.\n",
    "            config_list.append(\n",
    "                {k: v for k,v in run.config.items()\n",
    "                if not k.startswith('_')})\n",
    "\n",
    "            # .name is the human-readable name of the run.\n",
    "            name_list.append(run.name)\n",
    "            ids.append(run.id)\n",
    "\n",
    "    return pd.DataFrame({\n",
    "        \"summary\": summary_list,\n",
    "        \"config\": config_list,\n",
    "        \"name\": name_list,\n",
    "        \"run_ids\": ids,\n",
    "        'sweepid': sweepid\n",
    "        })"
   ]
  },
  {
   "cell_type": "code",
   "execution_count": 3,
   "metadata": {},
   "outputs": [],
   "source": [
    "def LoadArtifact(wandbrun, runid, entity, project, artifact_name, fname, version, type):\n",
    "    artifact = wandbrun.use_artifact(f'{entity}/{project}/run-{runid}-{artifact_name}:{version}', type=type)\n",
    "    artifact_dir = artifact.download()\n",
    "    jsonfile = json.load(open(f'{artifact_dir}/{fname}.table.json'))\n",
    "\n",
    "    cols = jsonfile['columns']\n",
    "    data = jsonfile['data']\n",
    "    df = pd.DataFrame(data=data, columns=cols)\n",
    "\n",
    "    columns=['internal_id', 'Conc_sign', 'species_group', 'Pubchem_CID', 'xlogp', 'mw', 'Canonical_SMILES','Lineage','OneHotEnc_effect','OneHotEnc_endpoint']\n",
    "    \n",
    "    for col in columns:\n",
    "        try:\n",
    "            df.drop(columns=col, inplace=True)\n",
    "        except:\n",
    "            pass\n",
    "\n",
    "\n",
    "    return df"
   ]
  },
  {
   "cell_type": "code",
   "execution_count": 4,
   "metadata": {},
   "outputs": [],
   "source": [
    "def CombineKFoldPredictions(wandbrun, runs_df, project, version, artifact_name, name):\n",
    "\n",
    "    df = LoadArtifact(\n",
    "            wandbrun = wandbrun, \n",
    "            runid= runs_df.run_ids[0], \n",
    "            entity = 'ecotoxformer', \n",
    "            project = project, \n",
    "            artifact_name = artifact_name, \n",
    "            fname = name,\n",
    "            version = version,\n",
    "            type = 'run_table')\n",
    "    \n",
    "    df[['seed', 'fold_id']] = [runs_df.config[0]['seed'], runs_df.config[0]['fold_id']]\n",
    "\n",
    "    for i in tqdm(range(1,len(runs_df),1)):\n",
    "        df2 = LoadArtifact(\n",
    "            wandbrun = wandbrun, \n",
    "            runid= runs_df.run_ids[i], \n",
    "            entity = 'ecotoxformer', \n",
    "            project = project, \n",
    "            artifact_name = artifact_name, \n",
    "            fname = name,\n",
    "            version = version,\n",
    "            type = 'run_table')\n",
    "\n",
    "        df2[['seed', 'fold_id']] = [runs_df.config[i]['seed'], runs_df.config[i]['fold_id']]\n",
    "\n",
    "        df = pd.concat([df, df2], ignore_index=True)\n",
    "\n",
    "    return df\n",
    "\n",
    "def CombinePredictions(wandbrun, runs_df, project, version, artifact_name, name):\n",
    "\n",
    "    df = LoadArtifact(\n",
    "            wandbrun = wandbrun, \n",
    "            runid= runs_df.run_ids[0], \n",
    "            entity = 'ecotoxformer', \n",
    "            project = project, \n",
    "            artifact_name = artifact_name, \n",
    "            fname = name,\n",
    "            version = version,\n",
    "            type = 'run_table')\n",
    "    df[['base_model', 'loss_fun']] = [runs_df['base_model'][0], runs_df['loss_fun'][0]]\n",
    "    for i in tqdm(range(1,len(runs_df),1)):\n",
    "        df2 = LoadArtifact(\n",
    "            wandbrun = wandbrun, \n",
    "            runid= runs_df.run_ids[i], \n",
    "            entity = 'ecotoxformer', \n",
    "            project = project, \n",
    "            artifact_name = artifact_name, \n",
    "            fname = name,\n",
    "            version = version,\n",
    "            type = 'run_table')\n",
    "        df2[['base_model', 'loss_fun']] = [runs_df['base_model'][i], runs_df['loss_fun'][i]]\n",
    "        df = pd.concat([df, df2], ignore_index=True)\n",
    "\n",
    "    return df"
   ]
  },
  {
   "cell_type": "code",
   "execution_count": 5,
   "metadata": {},
   "outputs": [
    {
     "name": "stderr",
     "output_type": "stream",
     "text": [
      "Failed to detect the name of this notebook, you can set it manually with the WANDB_NOTEBOOK_NAME environment variable to enable code saving.\n",
      "\u001b[34m\u001b[1mwandb\u001b[0m: Currently logged in as: \u001b[33mstyrbjornkall\u001b[0m. Use \u001b[1m`wandb login --relogin`\u001b[0m to force relogin\n"
     ]
    },
    {
     "data": {
      "text/plain": [
       "True"
      ]
     },
     "execution_count": 5,
     "metadata": {},
     "output_type": "execute_result"
    }
   ],
   "source": [
    "wandb.login()"
   ]
  },
  {
   "cell_type": "code",
   "execution_count": 6,
   "metadata": {},
   "outputs": [
    {
     "data": {
      "text/html": [
       "wandb version 0.13.10 is available!  To upgrade, please run:\n",
       " $ pip install wandb --upgrade"
      ],
      "text/plain": [
       "<IPython.core.display.HTML object>"
      ]
     },
     "metadata": {},
     "output_type": "display_data"
    },
    {
     "data": {
      "text/html": [
       "Tracking run with wandb version 0.13.6"
      ],
      "text/plain": [
       "<IPython.core.display.HTML object>"
      ]
     },
     "metadata": {},
     "output_type": "display_data"
    },
    {
     "data": {
      "text/html": [
       "Run data is saved locally in <code>c:\\Users\\skall\\OneDrive - Chalmers\\Documents\\git_repo\\development\\figures\\wandb\\run-20230213_141135-36f0ri3i</code>"
      ],
      "text/plain": [
       "<IPython.core.display.HTML object>"
      ]
     },
     "metadata": {},
     "output_type": "display_data"
    },
    {
     "data": {
      "text/html": [
       "Syncing run <strong><a href=\"https://wandb.ai/styrbjornkall/artifacts-analysis/runs/36f0ri3i\" target=\"_blank\">devout-oath-28</a></strong> to <a href=\"https://wandb.ai/styrbjornkall/artifacts-analysis\" target=\"_blank\">Weights & Biases</a> (<a href=\"https://wandb.me/run\" target=\"_blank\">docs</a>)<br/>"
      ],
      "text/plain": [
       "<IPython.core.display.HTML object>"
      ]
     },
     "metadata": {},
     "output_type": "display_data"
    }
   ],
   "source": [
    "wandbrun = wandb.init(project=\"artifacts-analysis\", job_type='tmp_run')"
   ]
  },
  {
   "cell_type": "code",
   "execution_count": 39,
   "metadata": {},
   "outputs": [],
   "source": [
    "PROJECT_NAME = 'Judson'\n",
    "SWEEP_ID = 'crnn65md'\n",
    "ENDPOINT = ['EC10','NOEC']\n",
    "ARTIFACT_NAME = 'BestValidationResults'\n",
    "DOWNLOADED_ARTIFACT_NAME = 'Best Validation Results' #Split ARTIFACT_NAME by capital letters\n",
    "ARTIFACT_VERSION = 'v0'\n",
    "FILENAME = f'Judson_{ENDPOINT[0]}_results' #Filename to which results will be saved"
   ]
  },
  {
   "cell_type": "code",
   "execution_count": 40,
   "metadata": {},
   "outputs": [],
   "source": [
    "runs_df = GetRuns(project=f\"ecotoxformer/{PROJECT_NAME}/\", sweepid=SWEEP_ID, endpoints=ENDPOINT)"
   ]
  },
  {
   "cell_type": "code",
   "execution_count": 41,
   "metadata": {},
   "outputs": [
    {
     "data": {
      "text/html": [
       "<div>\n",
       "<style scoped>\n",
       "    .dataframe tbody tr th:only-of-type {\n",
       "        vertical-align: middle;\n",
       "    }\n",
       "\n",
       "    .dataframe tbody tr th {\n",
       "        vertical-align: top;\n",
       "    }\n",
       "\n",
       "    .dataframe thead th {\n",
       "        text-align: right;\n",
       "    }\n",
       "</style>\n",
       "<table border=\"1\" class=\"dataframe\">\n",
       "  <thead>\n",
       "    <tr style=\"text-align: right;\">\n",
       "      <th></th>\n",
       "      <th>summary</th>\n",
       "      <th>config</th>\n",
       "      <th>name</th>\n",
       "      <th>run_ids</th>\n",
       "      <th>sweepid</th>\n",
       "    </tr>\n",
       "  </thead>\n",
       "  <tbody>\n",
       "    <tr>\n",
       "      <th>0</th>\n",
       "      <td>{'Training Median Loss': 0.22910571098327637, ...</td>\n",
       "      <td>{'lr': 0.0005, 'seed': 41, 'label': 'COMBINED_...</td>\n",
       "      <td>neat-sweep-10</td>\n",
       "      <td>hm44g2pg</td>\n",
       "      <td>crnn65md</td>\n",
       "    </tr>\n",
       "    <tr>\n",
       "      <th>1</th>\n",
       "      <td>{'_runtime': 218.1261703968048, 'x-axis 3, 2, ...</td>\n",
       "      <td>{'lr': 0.0005, 'seed': 41, 'label': 'COMBINED_...</td>\n",
       "      <td>woven-sweep-12</td>\n",
       "      <td>al1qkavt</td>\n",
       "      <td>crnn65md</td>\n",
       "    </tr>\n",
       "    <tr>\n",
       "      <th>2</th>\n",
       "      <td>{'Training Mean Loss': 0.4257524013519287, 'Va...</td>\n",
       "      <td>{'lr': 0.0005, 'seed': 41, 'label': 'COMBINED_...</td>\n",
       "      <td>silvery-sweep-11</td>\n",
       "      <td>yh96jgao</td>\n",
       "      <td>crnn65md</td>\n",
       "    </tr>\n",
       "    <tr>\n",
       "      <th>3</th>\n",
       "      <td>{'_wandb': {'runtime': 238}, 'Validation data'...</td>\n",
       "      <td>{'lr': 0.0005, 'seed': 41, 'label': 'COMBINED_...</td>\n",
       "      <td>elated-sweep-10</td>\n",
       "      <td>8o5jnag6</td>\n",
       "      <td>crnn65md</td>\n",
       "    </tr>\n",
       "    <tr>\n",
       "      <th>4</th>\n",
       "      <td>{'_timestamp': 1676292325.0823796, 'Learning R...</td>\n",
       "      <td>{'lr': 0.0005, 'seed': 41, 'label': 'COMBINED_...</td>\n",
       "      <td>bumbling-sweep-9</td>\n",
       "      <td>gd7j1y14</td>\n",
       "      <td>crnn65md</td>\n",
       "    </tr>\n",
       "    <tr>\n",
       "      <th>5</th>\n",
       "      <td>{'_runtime': 222.8538691997528, 'Training df':...</td>\n",
       "      <td>{'lr': 0.0005, 'seed': 41, 'label': 'COMBINED_...</td>\n",
       "      <td>easy-sweep-8</td>\n",
       "      <td>kbw8wdn4</td>\n",
       "      <td>crnn65md</td>\n",
       "    </tr>\n",
       "    <tr>\n",
       "      <th>6</th>\n",
       "      <td>{'Learning Rate': 0, 'Training data': {'_lates...</td>\n",
       "      <td>{'lr': 0.0005, 'seed': 41, 'label': 'COMBINED_...</td>\n",
       "      <td>olive-sweep-7</td>\n",
       "      <td>l4mtnj3n</td>\n",
       "      <td>crnn65md</td>\n",
       "    </tr>\n",
       "    <tr>\n",
       "      <th>7</th>\n",
       "      <td>{'Validation data': {'size': 78250, '_type': '...</td>\n",
       "      <td>{'lr': 0.0005, 'seed': 41, 'label': 'COMBINED_...</td>\n",
       "      <td>resilient-sweep-6</td>\n",
       "      <td>rgt8dfat</td>\n",
       "      <td>crnn65md</td>\n",
       "    </tr>\n",
       "    <tr>\n",
       "      <th>8</th>\n",
       "      <td>{'Validation Median Loss': 0.8560799956321716,...</td>\n",
       "      <td>{'lr': 0.0005, 'seed': 41, 'label': 'COMBINED_...</td>\n",
       "      <td>helpful-sweep-5</td>\n",
       "      <td>n4itmrow</td>\n",
       "      <td>crnn65md</td>\n",
       "    </tr>\n",
       "    <tr>\n",
       "      <th>9</th>\n",
       "      <td>{'Test Mean Loss Normalized': 0.77482743675096...</td>\n",
       "      <td>{'lr': 0.0005, 'seed': 41, 'label': 'COMBINED_...</td>\n",
       "      <td>splendid-sweep-4</td>\n",
       "      <td>inj5ecei</td>\n",
       "      <td>crnn65md</td>\n",
       "    </tr>\n",
       "  </tbody>\n",
       "</table>\n",
       "</div>"
      ],
      "text/plain": [
       "                                             summary  \\\n",
       "0  {'Training Median Loss': 0.22910571098327637, ...   \n",
       "1  {'_runtime': 218.1261703968048, 'x-axis 3, 2, ...   \n",
       "2  {'Training Mean Loss': 0.4257524013519287, 'Va...   \n",
       "3  {'_wandb': {'runtime': 238}, 'Validation data'...   \n",
       "4  {'_timestamp': 1676292325.0823796, 'Learning R...   \n",
       "5  {'_runtime': 222.8538691997528, 'Training df':...   \n",
       "6  {'Learning Rate': 0, 'Training data': {'_lates...   \n",
       "7  {'Validation data': {'size': 78250, '_type': '...   \n",
       "8  {'Validation Median Loss': 0.8560799956321716,...   \n",
       "9  {'Test Mean Loss Normalized': 0.77482743675096...   \n",
       "\n",
       "                                              config               name  \\\n",
       "0  {'lr': 0.0005, 'seed': 41, 'label': 'COMBINED_...      neat-sweep-10   \n",
       "1  {'lr': 0.0005, 'seed': 41, 'label': 'COMBINED_...     woven-sweep-12   \n",
       "2  {'lr': 0.0005, 'seed': 41, 'label': 'COMBINED_...   silvery-sweep-11   \n",
       "3  {'lr': 0.0005, 'seed': 41, 'label': 'COMBINED_...    elated-sweep-10   \n",
       "4  {'lr': 0.0005, 'seed': 41, 'label': 'COMBINED_...   bumbling-sweep-9   \n",
       "5  {'lr': 0.0005, 'seed': 41, 'label': 'COMBINED_...       easy-sweep-8   \n",
       "6  {'lr': 0.0005, 'seed': 41, 'label': 'COMBINED_...      olive-sweep-7   \n",
       "7  {'lr': 0.0005, 'seed': 41, 'label': 'COMBINED_...  resilient-sweep-6   \n",
       "8  {'lr': 0.0005, 'seed': 41, 'label': 'COMBINED_...    helpful-sweep-5   \n",
       "9  {'lr': 0.0005, 'seed': 41, 'label': 'COMBINED_...   splendid-sweep-4   \n",
       "\n",
       "    run_ids   sweepid  \n",
       "0  hm44g2pg  crnn65md  \n",
       "1  al1qkavt  crnn65md  \n",
       "2  yh96jgao  crnn65md  \n",
       "3  8o5jnag6  crnn65md  \n",
       "4  gd7j1y14  crnn65md  \n",
       "5  kbw8wdn4  crnn65md  \n",
       "6  l4mtnj3n  crnn65md  \n",
       "7  rgt8dfat  crnn65md  \n",
       "8  n4itmrow  crnn65md  \n",
       "9  inj5ecei  crnn65md  "
      ]
     },
     "execution_count": 41,
     "metadata": {},
     "output_type": "execute_result"
    }
   ],
   "source": [
    "runs_df"
   ]
  },
  {
   "cell_type": "markdown",
   "metadata": {},
   "source": [
    "K-Fold CV"
   ]
  },
  {
   "cell_type": "code",
   "execution_count": 42,
   "metadata": {},
   "outputs": [
    {
     "name": "stderr",
     "output_type": "stream",
     "text": [
      "\u001b[34m\u001b[1mwandb\u001b[0m:   1 of 1 files downloaded.  \n"
     ]
    },
    {
     "data": {
      "application/vnd.jupyter.widget-view+json": {
       "model_id": "08e2b06b03584547bfbe9b8ab9627339",
       "version_major": 2,
       "version_minor": 0
      },
      "text/plain": [
       "  0%|          | 0/9 [00:00<?, ?it/s]"
      ]
     },
     "metadata": {},
     "output_type": "display_data"
    },
    {
     "name": "stderr",
     "output_type": "stream",
     "text": [
      "\u001b[34m\u001b[1mwandb\u001b[0m:   1 of 1 files downloaded.  \n",
      "\u001b[34m\u001b[1mwandb\u001b[0m:   1 of 1 files downloaded.  \n",
      "\u001b[34m\u001b[1mwandb\u001b[0m:   1 of 1 files downloaded.  \n",
      "\u001b[34m\u001b[1mwandb\u001b[0m:   1 of 1 files downloaded.  \n",
      "\u001b[34m\u001b[1mwandb\u001b[0m:   1 of 1 files downloaded.  \n",
      "\u001b[34m\u001b[1mwandb\u001b[0m:   1 of 1 files downloaded.  \n",
      "\u001b[34m\u001b[1mwandb\u001b[0m:   1 of 1 files downloaded.  \n",
      "\u001b[34m\u001b[1mwandb\u001b[0m:   1 of 1 files downloaded.  \n",
      "\u001b[34m\u001b[1mwandb\u001b[0m:   1 of 1 files downloaded.  \n"
     ]
    }
   ],
   "source": [
    "concatenated_results = CombineKFoldPredictions(\n",
    "    wandbrun=wandbrun, \n",
    "    runs_df=runs_df,\n",
    "    project=PROJECT_NAME, \n",
    "    version=ARTIFACT_VERSION, \n",
    "    artifact_name=ARTIFACT_NAME,\n",
    "    name=DOWNLOADED_ARTIFACT_NAME)"
   ]
  },
  {
   "cell_type": "markdown",
   "metadata": {},
   "source": [
    "Base model runs"
   ]
  },
  {
   "cell_type": "code",
   "execution_count": null,
   "metadata": {},
   "outputs": [],
   "source": [
    "concatenated_results = pd.DataFrame()\n",
    "runs_df = pd.DataFrame(['56vivdmi','dl8u33ui','78lq56v1','128aaus7'], columns=['run_ids'])\n",
    "runs_df['loss_fun'] = ['L1Loss','L1Loss','MSELoss','MSELoss']\n",
    "runs_df['base_model'] = ['seyonec/SMILES_tokenized_PubChem_shard00_160k','seyonec/PubChem10M_SMILES_BPE_450k','seyonec/SMILES_tokenized_PubChem_shard00_160k','seyonec/PubChem10M_SMILES_BPE_450k']\n",
    "for i in tqdm(range(5)):\n",
    "    df = CombinePredictions(wandbrun, runs_df, 'base_model_sweep_RDKit', 'v0', f'BestValidationResults{i+1}', f'Best Validation Results {i+1}')\n",
    "    df['fold_id'] = i+1\n",
    "    concatenated_results = pd.concat([concatenated_results, df],ignore_index=True)"
   ]
  },
  {
   "cell_type": "markdown",
   "metadata": {},
   "source": [
    "Save results"
   ]
  },
  {
   "cell_type": "code",
   "execution_count": 16,
   "metadata": {},
   "outputs": [],
   "source": [
    "concatenated_results.to_csv(f'../../data/results/{FILENAME}.csv.zip', index=False, compression='zip')"
   ]
  },
  {
   "cell_type": "code",
   "execution_count": 43,
   "metadata": {},
   "outputs": [],
   "source": [
    "concatenated_results.to_pickle(f'../../data/results/{FILENAME}.pkl.zip', compression='zip')"
   ]
  }
 ],
 "metadata": {
  "kernelspec": {
   "display_name": "fishbait",
   "language": "python",
   "name": "python3"
  },
  "language_info": {
   "codemirror_mode": {
    "name": "ipython",
    "version": 3
   },
   "file_extension": ".py",
   "mimetype": "text/x-python",
   "name": "python",
   "nbconvert_exporter": "python",
   "pygments_lexer": "ipython3",
   "version": "3.9.15"
  },
  "orig_nbformat": 4,
  "vscode": {
   "interpreter": {
    "hash": "c1514c81f3705f7107573a782eeac851e32c3c00fc4e7dabdb8a1c6e8ef21406"
   }
  }
 },
 "nbformat": 4,
 "nbformat_minor": 2
}
