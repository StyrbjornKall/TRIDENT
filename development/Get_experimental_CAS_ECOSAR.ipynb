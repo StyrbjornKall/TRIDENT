{
 "cells": [
  {
   "attachments": {},
   "cell_type": "markdown",
   "metadata": {},
   "source": [
    "## Gather experimental CAS ECOSAR"
   ]
  },
  {
   "cell_type": "code",
   "execution_count": 1,
   "metadata": {},
   "outputs": [],
   "source": [
    "from tqdm.notebook import tqdm\n",
    "import pandas as pd"
   ]
  },
  {
   "cell_type": "code",
   "execution_count": 4,
   "metadata": {},
   "outputs": [
    {
     "data": {
      "application/vnd.jupyter.widget-view+json": {
       "model_id": "09c2cbefb15c41b996550b0e3f527bb1",
       "version_major": 2,
       "version_minor": 0
      },
      "text/plain": [
       "  0%|          | 0/59898 [00:00<?, ?it/s]"
      ]
     },
     "metadata": {},
     "output_type": "display_data"
    }
   ],
   "source": [
    "file = \"../data/QSAR/Consolidated_SAR_MS.txt\"\n",
    "\n",
    "with open(file, 'rb') as f:\n",
    "    lines = f.readlines()\n",
    "\n",
    "allcas = {'fish': [], 'daphnia': [], 'algae': []}\n",
    "interestlines = []\n",
    "for i, line in enumerate(tqdm(lines)):\n",
    "    if 'Fish' in str(line):\n",
    "        current_organism_group = 'fish'\n",
    "    if 'Daphnia' in str(line):\n",
    "        current_organism_group = 'daphnia'\n",
    "    if 'Algal' in str(line):\n",
    "        current_organism_group = 'algae'\n",
    "\n",
    "    if 'CAS No.' in str(line):\n",
    "        j = 1\n",
    "        cas_found = True\n",
    "        while cas_found:\n",
    "            if str(lines[i+j]) != \"b'\\\\r\\\\n'\":\n",
    "                allcas[current_organism_group].append(str(lines[i+j]).split(' ')[0].replace(\"b'\",''))\n",
    "                interestlines.append(lines[i+j])\n",
    "                j += 1\n",
    "            else:\n",
    "                cas_found = False\n",
    "        \n",
    "curated_cas = {'fish': [], 'daphnia': [], 'algae': []}\n",
    "for org in list(allcas.keys()):\n",
    "    for i in allcas[org]:\n",
    "        try:\n",
    "            curated_cas[org].append(int(i.replace('-','')))\n",
    "        except:\n",
    "            pass\n"
   ]
  },
  {
   "cell_type": "code",
   "execution_count": 7,
   "metadata": {},
   "outputs": [],
   "source": [
    "fish = curated_cas['fish']\n",
    "algae = curated_cas['algae']\n",
    "daphnids = curated_cas['daphnia']"
   ]
  },
  {
   "cell_type": "code",
   "execution_count": 8,
   "metadata": {},
   "outputs": [],
   "source": [
    "fish_ecosarexp = pd.DataFrame(fish, columns=['ECOSAR_experimental_CAS'])\n",
    "invertebrates_ecosarexp = pd.DataFrame(daphnids, columns=['ECOSAR_experimental_CAS'])\n",
    "algae_ecosarexp = pd.DataFrame(algae, columns=['ECOSAR_experimental_CAS'])"
   ]
  },
  {
   "cell_type": "code",
   "execution_count": 9,
   "metadata": {},
   "outputs": [],
   "source": [
    "fish_ecosarexp.drop_duplicates().to_pickle('../data/QSAR/ECOSAR_v2.2_fish_experimental_CAS.zip', compression='zip')\n",
    "invertebrates_ecosarexp.drop_duplicates().to_pickle('../data/QSAR/ECOSAR_v2.2_invertebrates_experimental_CAS.zip', compression='zip')\n",
    "algae_ecosarexp.drop_duplicates().to_pickle('../data/QSAR/ECOSAR_v2.2_algae_experimental_CAS.zip', compression='zip')"
   ]
  }
 ],
 "metadata": {
  "kernelspec": {
   "display_name": "fishbait",
   "language": "python",
   "name": "python3"
  },
  "language_info": {
   "codemirror_mode": {
    "name": "ipython",
    "version": 3
   },
   "file_extension": ".py",
   "mimetype": "text/x-python",
   "name": "python",
   "nbconvert_exporter": "python",
   "pygments_lexer": "ipython3",
   "version": "3.9.15"
  },
  "orig_nbformat": 4,
  "vscode": {
   "interpreter": {
    "hash": "c1514c81f3705f7107573a782eeac851e32c3c00fc4e7dabdb8a1c6e8ef21406"
   }
  }
 },
 "nbformat": 4,
 "nbformat_minor": 2
}
