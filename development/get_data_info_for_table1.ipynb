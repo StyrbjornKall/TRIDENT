{
 "cells": [
  {
   "attachments": {},
   "cell_type": "markdown",
   "metadata": {},
   "source": [
    "# A simple script for getting data for Table 1 in publication"
   ]
  },
  {
   "cell_type": "code",
   "execution_count": 1,
   "metadata": {},
   "outputs": [],
   "source": [
    "import pandas as pd\n",
    "\n",
    "from development_utils.preprocessing.Get_data_for_model import PreprocessData"
   ]
  },
  {
   "cell_type": "code",
   "execution_count": 13,
   "metadata": {},
   "outputs": [],
   "source": [
    "datadir = '../data/development/'\n",
    "raw_data = pd.read_excel(datadir+'Preprocessed_complete_data_2023.xlsx', sheet_name='dataset')"
   ]
  },
  {
   "cell_type": "code",
   "execution_count": 22,
   "metadata": {},
   "outputs": [
    {
     "name": "stderr",
     "output_type": "stream",
     "text": [
      "c:\\Users\\Styrbjörn Käll\\Documents\\Chalmers\\TRIDENT\\development\\development_utils\\preprocessing\\Get_data_for_model.py:216: FutureWarning: iteritems is deprecated and will be removed in a future version. Use .items instead.\n",
      "  for idx, entry in self.dataframe.SMILES.iteritems():\n"
     ]
    },
    {
     "name": "stdout",
     "output_type": "stream",
     "text": [
      "(52666, 14)\n",
      "3542\n",
      "8973\n",
      "87\n",
      "27.07330072729028\n",
      "0.0049000000000000024\n",
      "154.99999999999997\n",
      "88.53153837390347\n",
      "0.6293892872081799\n"
     ]
    }
   ],
   "source": [
    "endpoint=['EC50']\n",
    "effect=['MOR','DVP','POP','REP','ITX','MPH','GRO']\n",
    "species_groups=['fish']\n",
    "\n",
    "processor = PreprocessData(dataframe=raw_data)\n",
    "\n",
    "processor.FilterData(\n",
    "    concentration_thresh=500,\n",
    "    endpoint=endpoint,\n",
    "    effect=effect,\n",
    "    species_groups=species_groups,\n",
    "    log_data=True,\n",
    "    concentration_sign='=')\n",
    "\n",
    "processor.GetPubchemCID()\n",
    "processor.GetMetadata(['cmpdname'])\n",
    "processor.GetCanonicalSMILES()\n",
    "\n",
    "print(processor.dataframe.shape)\n",
    "print(len(processor.dataframe.SMILES_Canonical_RDKit.unique()))\n",
    "print(len(processor.dataframe.groupby(['SMILES','Duration_Value','effect','endpoint'])))\n",
    "\n",
    "t=0\n",
    "i = 0\n",
    "while t < 0.5*len(processor.dataframe):\n",
    "    t += processor.dataframe.SMILES_Canonical_RDKit.value_counts()[i]\n",
    "    i += 1\n",
    "print(i)\n",
    "\n",
    "print((10**processor.dataframe.mgperL).mean())\n",
    "print((10**processor.dataframe.mgperL).quantile(.05))\n",
    "print((10**processor.dataframe.mgperL).quantile(.95))\n",
    "\n",
    "print((10**processor.dataframe.Duration_Value).mean())\n",
    "print((10**processor.dataframe.Duration_Value).sem())"
   ]
  },
  {
   "cell_type": "code",
   "execution_count": 6,
   "metadata": {},
   "outputs": [
    {
     "name": "stdout",
     "output_type": "stream",
     "text": [
      "Dropped 125 entries from dataframe due to SMILES not having CID\n",
      "Dropped 68 entries from dataframe due to SMILES not having CID\n"
     ]
    }
   ],
   "source": [
    "endpoint=['EC50']\n",
    "effect=['POP']\n",
    "species_groups=['algae']\n",
    "\n",
    "processor = PreprocessData(dataframe=data)\n",
    "\n",
    "processor.FilterData(\n",
    "    concentration_thresh=500,\n",
    "    endpoint=endpoint,\n",
    "    effect=effect,\n",
    "    species_groups=species_groups,\n",
    "    log_data=False,\n",
    "    concentration_sign='=',\n",
    "drop_columns=False)\n",
    "\n",
    "processor.GetPubchemCID(utilsdir+'dict_of_SMILES_and_CID')\n",
    "processor.GetMetadata(utilsdir+'MSc_Pubchem_metadata.csv', ['cmpdname'])\n",
    "processor.GetCanonicalSMILES()\n",
    "df1 = processor.dataframe\n",
    "\n",
    "datadir = '/cephyr/users/skall/Alvis/Ecotoxformer/data/'\n",
    "utilsdir = '/cephyr/users/skall/Alvis/Ecotoxformer/utils/'\n",
    "data = pd.read_csv(datadir+'MSc_Thesis_Cleaned.csv', encoding='windows-1252')\n",
    "\n",
    "endpoint=['EC10','NOEC']\n",
    "effect=['POP']\n",
    "species_groups=['algae']\n",
    "\n",
    "processor = PreprocessData(dataframe=data)\n",
    "\n",
    "processor.FilterData(\n",
    "    concentration_thresh=500,\n",
    "    endpoint=endpoint,\n",
    "    effect=effect,\n",
    "    species_groups=species_groups,\n",
    "    log_data=False,\n",
    "    concentration_sign='=',\n",
    "drop_columns=False)\n",
    "\n",
    "processor.GetPubchemCID(utilsdir+'dict_of_SMILES_and_CID')\n",
    "processor.GetMetadata(utilsdir+'MSc_Pubchem_metadata.csv', ['cmpdname'])\n",
    "processor.GetCanonicalSMILES()\n",
    "df2 = processor.dataframe"
   ]
  },
  {
   "cell_type": "code",
   "execution_count": 7,
   "metadata": {},
   "outputs": [],
   "source": [
    "alg = pd.concat([df1,df2],axis=0)"
   ]
  },
  {
   "cell_type": "code",
   "execution_count": 5,
   "metadata": {},
   "outputs": [
    {
     "name": "stdout",
     "output_type": "stream",
     "text": [
      "Dropped 221 entries from dataframe due to SMILES not having CID\n"
     ]
    }
   ],
   "source": [
    "datadir = '/cephyr/users/skall/Alvis/Ecotoxformer/data/'\n",
    "utilsdir = '/cephyr/users/skall/Alvis/Ecotoxformer/utils/'\n",
    "data = pd.read_csv(datadir+'MSc_Thesis_Cleaned.csv', encoding='windows-1252')\n",
    "\n",
    "endpoint=['EC50','EC10','NOEC']\n",
    "effect=['MOR','ITX','POP','REP','MPH','DVP','GRO']\n",
    "species_groups=['fish']\n",
    "\n",
    "processor = PreprocessData(dataframe=data)\n",
    "\n",
    "processor.FilterData(\n",
    "    concentration_thresh=500,\n",
    "    endpoint=endpoint,\n",
    "    effect=effect,\n",
    "    species_groups=species_groups,\n",
    "    log_data=True,\n",
    "    concentration_sign='=')\n",
    "\n",
    "processor.GetPubchemCID(utilsdir+'dict_of_SMILES_and_CID')\n",
    "processor.GetMetadata(utilsdir+'MSc_Pubchem_metadata.csv', ['cmpdname'])\n",
    "processor.GetCanonicalSMILES()\n",
    "fish = processor.dataframe"
   ]
  },
  {
   "cell_type": "code",
   "execution_count": 3,
   "metadata": {},
   "outputs": [
    {
     "name": "stdout",
     "output_type": "stream",
     "text": [
      "Dropped 260 entries from dataframe due to SMILES not having CID\n",
      "Dropped 125 entries from dataframe due to SMILES not having CID\n"
     ]
    }
   ],
   "source": [
    "datadir = '/cephyr/users/skall/Alvis/Ecotoxformer/data/'\n",
    "utilsdir = '/cephyr/users/skall/Alvis/Ecotoxformer/utils/'\n",
    "data = pd.read_csv(datadir+'MSc_Thesis_Cleaned.csv', encoding='windows-1252')\n",
    "\n",
    "endpoint=['EC50']\n",
    "effect=['MOR','ITX','POP','REP','MPH','DVP']\n",
    "species_groups=['invertebrates','crustaceans']\n",
    "\n",
    "processor = PreprocessData(dataframe=data)\n",
    "\n",
    "processor.FilterData(\n",
    "    concentration_thresh=500,\n",
    "    endpoint=endpoint,\n",
    "    effect=effect,\n",
    "    species_groups=species_groups,\n",
    "    log_data=False,\n",
    "    concentration_sign='=',\n",
    "drop_columns=False)\n",
    "\n",
    "processor.GetPubchemCID(utilsdir+'dict_of_SMILES_and_CID')\n",
    "processor.GetMetadata(utilsdir+'MSc_Pubchem_metadata.csv', ['cmpdname'])\n",
    "processor.GetCanonicalSMILES()\n",
    "df1 = processor.dataframe\n",
    "\n",
    "datadir = '/cephyr/users/skall/Alvis/Ecotoxformer/data/'\n",
    "utilsdir = '/cephyr/users/skall/Alvis/Ecotoxformer/utils/'\n",
    "data = pd.read_csv(datadir+'MSc_Thesis_Cleaned.csv', encoding='windows-1252')\n",
    "\n",
    "endpoint=['EC10','NOEC']\n",
    "effect=['MOR','ITX','POP','REP','MPH','DVP']\n",
    "species_groups=['invertebrates','crustaceans']\n",
    "\n",
    "processor = PreprocessData(dataframe=data)\n",
    "\n",
    "processor.FilterData(\n",
    "    concentration_thresh=500,\n",
    "    endpoint=endpoint,\n",
    "    effect=effect,\n",
    "    species_groups=species_groups,\n",
    "    log_data=False,\n",
    "    concentration_sign='=',\n",
    "drop_columns=False)\n",
    "\n",
    "processor.GetPubchemCID(utilsdir+'dict_of_SMILES_and_CID')\n",
    "processor.GetMetadata(utilsdir+'MSc_Pubchem_metadata.csv', ['cmpdname'])\n",
    "processor.GetCanonicalSMILES()\n",
    "df2 = processor.dataframe"
   ]
  },
  {
   "cell_type": "code",
   "execution_count": 4,
   "metadata": {},
   "outputs": [],
   "source": [
    "inv = pd.concat([df1,df2],axis=0)"
   ]
  },
  {
   "cell_type": "code",
   "execution_count": 8,
   "metadata": {},
   "outputs": [
    {
     "name": "stdout",
     "output_type": "stream",
     "text": [
      "(23293, 17) (50823, 17) (69713, 13)\n"
     ]
    }
   ],
   "source": [
    "print(alg.shape, inv.shape,fish.shape)"
   ]
  },
  {
   "cell_type": "code",
   "execution_count": 9,
   "metadata": {},
   "outputs": [],
   "source": [
    "df = pd.concat([fish, inv, alg])"
   ]
  },
  {
   "cell_type": "code",
   "execution_count": 53,
   "metadata": {},
   "outputs": [],
   "source": [
    "df.COMBINED_species_group[df.COMBINED_species_group == 'crustaceans'] = 'invertebrates'"
   ]
  },
  {
   "cell_type": "code",
   "execution_count": 10,
   "metadata": {},
   "outputs": [
    {
     "data": {
      "text/plain": [
       "(143829, 17)"
      ]
     },
     "execution_count": 10,
     "metadata": {},
     "output_type": "execute_result"
    }
   ],
   "source": [
    "df.shape"
   ]
  },
  {
   "cell_type": "code",
   "execution_count": 54,
   "metadata": {},
   "outputs": [
    {
     "data": {
      "text/plain": [
       "array(['fish', 'invertebrates', 'algae'], dtype=object)"
      ]
     },
     "execution_count": 54,
     "metadata": {},
     "output_type": "execute_result"
    }
   ],
   "source": [
    "df.COMBINED_species_group.unique()"
   ]
  },
  {
   "cell_type": "code",
   "execution_count": 56,
   "metadata": {},
   "outputs": [],
   "source": [
    "df.to_csv('/cephyr/users/skall/Alvis/Ecotoxformer/data/Preprocessed_data_fish_invertebrates_algae.csv', index=False)"
   ]
  }
 ],
 "metadata": {
  "kernelspec": {
   "display_name": "TRIDENT_3",
   "language": "python",
   "name": "python3"
  },
  "language_info": {
   "codemirror_mode": {
    "name": "ipython",
    "version": 3
   },
   "file_extension": ".py",
   "mimetype": "text/x-python",
   "name": "python",
   "nbconvert_exporter": "python",
   "pygments_lexer": "ipython3",
   "version": "3.9.15"
  }
 },
 "nbformat": 4,
 "nbformat_minor": 4
}
